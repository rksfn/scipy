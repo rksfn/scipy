{
 "cells": [
  {
   "cell_type": "markdown",
   "metadata": {},
   "source": [
    "# Day 7: Bringing It All Together - Mini Project\n",
    "\n",
    "Congratulations on making it to Day 7! You've spent the week learning the fundamentals of NumPy, Pandas, and Matplotlib. Now it's time to put all those skills to the test with a mini-project.\n",
    "\n",
    "Today, you will be an analyst exploring the famous Titanic dataset. Your goal is to load the data, perform some basic cleaning, and create visualizations to answer a few key questions about the passengers and their survival.\n",
    "\n",
    "**Your tasks today:**\n",
    "1.  **Load a new dataset** from a URL.\n",
    "2.  **Inspect the data** using your Pandas skills (`.head()`, `.info()`, `.describe()`).\n",
    "3.  **Perform a simple data cleaning** task (handling missing values).\n",
    "4.  **Create visualizations** (bar charts, histograms) to answer specific questions."
   ]
  },
  {
   "cell_type": "markdown",
   "metadata": {},
   "source": [
    "Let's begin by importing our libraries and loading the dataset. The Titanic dataset is available online, so we can load it directly into pandas."
   ]
  },
  {
   "cell_type": "code",
   "execution_count": null,
   "metadata": {},
   "outputs": [],
   "source": [
    "import pandas as pd\n",
    "import matplotlib.pyplot as plt\n",
    "\n",
    "# URL for the Titanic dataset\n",
    "url = \"https://raw.githubusercontent.com/datasciencedojo/datasets/master/titanic.csv\"\n",
    "\n",
    "# Load the dataset into a pandas DataFrame\n",
    "titanic_df = pd.read_csv(url)"
   ]
  },
  {
   "cell_type": "markdown",
   "metadata": {},
   "source": [
    "---"
   ]
  },
  {
   "cell_type": "markdown",
   "metadata": {},
   "source": [
    "## Step 1: Inspect the Data\n",
    "\n",
    "Before we can analyze the data, we need to understand it. What columns are there? What are their data types? Are there missing values?"
   ]
  },
  {
   "cell_type": "markdown",
   "metadata": {},
   "source": [
    "**Exercise 1.1:** Use the `.head()` method to display the first 5 rows of the `titanic_df` DataFrame."
   ]
  },
  {
   "cell_type": "code",
   "execution_count": null,
   "metadata": {},
   "outputs": [],
   "source": [
    "# Your code here"
   ]
  },
  {
   "cell_type": "markdown",
   "metadata": {},
   "source": [
    "**Solution 1.1:**"
   ]
  },
  {
   "cell_type": "code",
   "execution_count": null,
   "metadata": {
    "jupyter": {
     "source_hidden": true
    }
   },
   "outputs": [],
   "source": [
    "# Solution\n",
    "titanic_df.head()"
   ]
  },
  {
   "cell_type": "markdown",
   "metadata": {},
   "source": [
    "**Exercise 1.2:** Use the `.info()` method to get a summary of the DataFrame, including the data types of each column and the number of non-null values."
   ]
  },
  {
   "cell_type": "code",
   "execution_count": null,
   "metadata": {},
   "outputs": [],
   "source": [
    "# Your code here"
   ]
  },
  {
   "cell_type": "markdown",
   "metadata": {},
   "source": [
    "**Solution 1.2:**"
   ]
  },
  {
   "cell_type": "code",
   "execution_count": null,
   "metadata": {
    "jupyter": {
     "source_hidden": true
    }
   },
   "outputs": [],
   "source": [
    "# Solution\n",
    "titanic_df.info()"
   ]
  },
  {
   "cell_type": "markdown",
   "metadata": {},
   "source": [
    "---"
   ]
  },
  {
   "cell_type": "markdown",
   "metadata": {},
   "source": [
    "## Step 2: Data Cleaning\n",
    "\n",
    "From the output of `.info()`, you probably noticed that the 'Age' column has a lot of missing values (891 entries total, but only 714 non-null values for Age). For our analysis, let's fill these missing ages with the median age of all passengers. The median is often a better choice than the mean when the data might have outliers."
   ]
  },
  {
   "cell_type": "markdown",
   "metadata": {},
   "source": [
    "**Exercise 2.1:** \n",
    "1. Calculate the median of the 'Age' column.\n",
    "2. Use the `.fillna()` method to replace the missing values (`NaN`) in the 'Age' column with the median age. Make sure to update the DataFrame.\n",
    "3. Verify your work by running `.info()` again to see that the 'Age' column now has 891 non-null values."
   ]
  },
  {
   "cell_type": "code",
   "execution_count": null,
   "metadata": {},
   "outputs": [],
   "source": [
    "# Your code here"
   ]
  },
  {
   "cell_type": "markdown",
   "metadata": {},
   "source": [
    "**Solution 2.1:**"
   ]
  },
  {
   "cell_type": "code",
   "execution_count": null,
   "metadata": {
    "jupyter": {
     "source_hidden": true
    }
   },
   "outputs": [],
   "source": [
    "# Solution\n",
    "# 1. Calculate the median age\n",
    "median_age = titanic_df[\"Age\"].median()\n",
    "print(f\"The median age is: {median_age}\")\n",
    "\n",
    "# 2. Fill missing values\n",
    "titanic_df.fillna({\"Age\": median_age}, inplace=True)\n",
    "\n",
    "# 3. Verify the result\n",
    "print(\"\\nDataFrame info after filling missing ages:\")\n",
    "titanic_df.info()"
   ]
  },
  {
   "cell_type": "markdown",
   "metadata": {},
   "source": [
    "---"
   ]
  },
  {
   "cell_type": "markdown",
   "metadata": {},
   "source": [
    "## Step 3: Answering Questions with Visualizations\n",
    "\n",
    "Now that our data is clean, we can start exploring it visually!"
   ]
  },
  {
   "cell_type": "markdown",
   "metadata": {},
   "source": [
    "**Question 1: How many people survived versus how many did not?**\n",
    "\n",
    "**Exercise 3.1:** Create a bar chart showing the count of passengers in the 'Survived' column. (0 = No, 1 = Yes).\n",
    "\n",
    "*Hint: Use the `.value_counts()` method on the 'Survived' column to get the data for your bar chart.*"
   ]
  },
  {
   "cell_type": "code",
   "execution_count": null,
   "metadata": {},
   "outputs": [],
   "source": [
    "# Your code here"
   ]
  },
  {
   "cell_type": "markdown",
   "metadata": {},
   "source": [
    "**Solution 3.1:**"
   ]
  },
  {
   "cell_type": "code",
   "execution_count": null,
   "metadata": {
    "jupyter": {
     "source_hidden": true
    }
   },
   "outputs": [],
   "source": [
    "# Solution\n",
    "survival_counts = titanic_df[\"Survived\"].value_counts()\n",
    "\n",
    "plt.bar(\n",
    "    x=survival_counts.index,\n",
    "    height=survival_counts.values,\n",
    "    tick_label=[\"Did Not Survive\", \"Survived\"],\n",
    ")\n",
    "\n",
    "plt.title(\"Survival Count on the Titanic\")\n",
    "plt.xlabel(\"Outcome\")\n",
    "plt.ylabel(\"Number of Passengers\")\n",
    "\n",
    "plt.show()"
   ]
  },
  {
   "cell_type": "markdown",
   "metadata": {},
   "source": [
    "**Question 2: What was the age distribution of passengers on the Titanic?**\n",
    "\n",
    "**Exercise 3.2:** Create a histogram of the 'Age' column to see the distribution of passenger ages. Customize it with 25 bins and an edge color of 'black' for clarity."
   ]
  },
  {
   "cell_type": "code",
   "execution_count": null,
   "metadata": {},
   "outputs": [],
   "source": [
    "# Your code here"
   ]
  },
  {
   "cell_type": "markdown",
   "metadata": {},
   "source": [
    "**Solution 3.2:**"
   ]
  },
  {
   "cell_type": "code",
   "execution_count": null,
   "metadata": {
    "jupyter": {
     "source_hidden": true
    }
   },
   "outputs": [],
   "source": [
    "# Solution\n",
    "plt.hist(titanic_df[\"Age\"], bins=25, edgecolor=\"black\")\n",
    "\n",
    "plt.title(\"Age Distribution of Titanic Passengers\")\n",
    "plt.xlabel(\"Age\")\n",
    "plt.ylabel(\"Frequency\")\n",
    "\n",
    "plt.show()"
   ]
  },
  {
   "cell_type": "markdown",
   "metadata": {},
   "source": [
    "**Question 3: Did passenger class influence survival rate?**\n",
    "\n",
    "**Exercise 3.3:** Create a bar chart that shows the survival rate by passenger class ('Pclass').\n",
    "\n",
    "*Hint: This is a bit more challenging! You'll need to use `.groupby('Pclass')['Survived'].mean()` to calculate the survival rate for each class.*"
   ]
  },
  {
   "cell_type": "code",
   "execution_count": null,
   "metadata": {},
   "outputs": [],
   "source": [
    "# Your code here"
   ]
  },
  {
   "cell_type": "markdown",
   "metadata": {},
   "source": [
    "**Solution 3.3:**"
   ]
  },
  {
   "cell_type": "code",
   "execution_count": null,
   "metadata": {
    "jupyter": {
     "source_hidden": true
    }
   },
   "outputs": [],
   "source": [
    "# Solution\n",
    "survival_by_class = titanic_df.groupby(\"Pclass\")[\"Survived\"].mean()\n",
    "\n",
    "plt.bar(\n",
    "    x=survival_by_class.index,\n",
    "    height=survival_by_class.values,\n",
    "    color=[\"tomato\", \"skyblue\", \"lightgreen\"],\n",
    ")\n",
    "\n",
    "plt.title(\"Survival Rate by Passenger Class\")\n",
    "plt.xlabel(\"Passenger Class\")\n",
    "plt.ylabel(\"Survival Rate\")\n",
    "plt.xticks([1, 2, 3])  # Ensure ticks are on the class numbers\n",
    "\n",
    "plt.show()"
   ]
  },
  {
   "cell_type": "markdown",
   "metadata": {},
   "source": [
    "---"
   ]
  },
  {
   "cell_type": "markdown",
   "metadata": {},
   "source": [
    "### Congratulations on completing Week 1!\n",
    "\n",
    "You have successfully loaded, inspected, cleaned, and analyzed a real dataset. You used Pandas to manipulate the data and Matplotlib to uncover insights visually. These are the core skills of any data analyst or data scientist.\n",
    "\n",
    "Next week, we will dive deeper with more advanced topics in Pandas and an introduction to the powerful SciPy library for scientific computing!"
   ]
  }
 ],
 "metadata": {
  "kernelspec": {
   "display_name": "Python 3",
   "language": "python",
   "name": "python3"
  },
  "language_info": {
   "codemirror_mode": {
    "name": "ipython",
    "version": 3
   },
   "file_extension": ".py",
   "mimetype": "text/x-python",
   "name": "python",
   "nbconvert_exporter": "python",
   "pygments_lexer": "ipython3",
   "version": "3.12.11"
  }
 },
 "nbformat": 4,
 "nbformat_minor": 4
}
