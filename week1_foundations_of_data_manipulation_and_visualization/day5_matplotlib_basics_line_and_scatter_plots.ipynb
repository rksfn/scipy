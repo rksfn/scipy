{
 "cells": [
  {
   "cell_type": "markdown",
   "metadata": {},
   "source": [
    "# Day 5: Matplotlib Basics - Line and Scatter Plots\n",
    "\n",
    "Welcome to Day 5! Today, we transition from data manipulation to data visualization. A picture is worth a thousand words, and in data analysis, a good plot can reveal insights that are hard to spot in a table of numbers. We'll be using **Matplotlib**, the most popular and foundational plotting library in Python.\n",
    "\n",
    "Today's topics include:\n",
    "1.  **Creating your first plot** using `matplotlib.pyplot`.\n",
    "2.  **Making Line Plots** to visualize data over a continuous interval or time.\n",
    "3.  **Generating Scatter Plots** to explore the relationship between two variables.\n",
    "4.  **Customizing Plots** with titles, labels, and colors."
   ]
  },
  {
   "cell_type": "markdown",
   "metadata": {},
   "source": [
    "Let's begin by importing our essential libraries, including `matplotlib.pyplot`, which is conventionally imported with the alias `plt`."
   ]
  },
  {
   "cell_type": "code",
   "execution_count": null,
   "metadata": {},
   "outputs": [],
   "source": [
    "import pandas as pd\n",
    "import numpy as np\n",
    "import matplotlib.pyplot as plt\n",
    "from sklearn.datasets import load_iris\n",
    "\n",
    "# Load the Iris dataset into a DataFrame\n",
    "iris_data = load_iris()\n",
    "iris_df = pd.DataFrame(data=iris_data.data, columns=iris_data.feature_names)\n",
    "iris_df['target'] = iris_data.target\n",
    "\n",
    "# Preview the data\n",
    "iris_df.head()"
   ]
  },
  {
   "cell_type": "markdown",
   "metadata": {},
   "source": [
    "---"
   ]
  },
  {
   "cell_type": "markdown",
   "metadata": {},
   "source": [
    "## Part 1: Line Plots\n",
    "\n",
    "Line plots are excellent for showing how a variable changes over a continuous range. Let's create some simple data with NumPy to practice."
   ]
  },
  {
   "cell_type": "code",
   "execution_count": null,
   "metadata": {},
   "outputs": [],
   "source": [
    "# Simple data for our first line plot\n",
    "x = np.array([0, 1, 2, 3, 4, 5, 6, 7, 8, 9])\n",
    "y = np.array([0, 1, 4, 9, 16, 25, 36, 49, 64, 81])"
   ]
  },
  {
   "cell_type": "markdown",
   "metadata": {},
   "source": [
    "**Exercise 1.1:** Create a simple line plot of `y` versus `x` using `plt.plot()`. After creating the plot, you must call `plt.show()` to display it."
   ]
  },
  {
   "cell_type": "code",
   "execution_count": null,
   "metadata": {},
   "outputs": [],
   "source": [
    "# Your code here"
   ]
  },
  {
   "cell_type": "markdown",
   "metadata": {},
   "source": [
    "**Solution 1.1:**"
   ]
  },
  {
   "cell_type": "code",
   "execution_count": null,
   "metadata": {},
   "outputs": [],
   "source": [
    "# Solution\n",
    "plt.plot(x, y)\n",
    "plt.show()"
   ]
  },
  {
   "cell_type": "markdown",
   "metadata": {},
   "source": [
    "**Exercise 1.2:** A plot isn't very useful without labels! Take the same plot from the previous exercise and add a title, an x-axis label, and a y-axis label.\n",
    "- Title: \"Squared Numbers\"\n",
    "- X-axis label: \"Base Number\"\n",
    "- Y-axis label: \"Squared Value\""
   ]
  },
  {
   "cell_type": "code",
   "execution_count": null,
   "metadata": {},
   "outputs": [],
   "source": [
    "# Your code here"
   ]
  },
  {
   "cell_type": "markdown",
   "metadata": {},
   "source": [
    "**Solution 1.2:**"
   ]
  },
  {
   "cell_type": "code",
   "execution_count": null,
   "metadata": {},
   "outputs": [],
   "source": [
    "# Solution\n",
    "plt.plot(x, y)\n",
    "\n",
    "# Add a title\n",
    "plt.title(\"Squared Numbers\")\n",
    "\n",
    "# Add labels\n",
    "plt.xlabel(\"Base Number\")\n",
    "plt.ylabel(\"Squared Value\")\n",
    "\n",
    "# Display the plot\n",
    "plt.show()"
   ]
  },
  {
   "cell_type": "markdown",
   "metadata": {},
   "source": [
    "---"
   ]
  },
  {
   "cell_type": "markdown",
   "metadata": {},
   "source": [
    "## Part 2: Scatter Plots\n",
    "\n",
    "Scatter plots are perfect for visualizing the relationship between two numerical variables. We'll use our `iris_df` to see if there's a relationship between the sepal length and sepal width of iris flowers."
   ]
  },
  {
   "cell_type": "markdown",
   "metadata": {},
   "source": [
    "**Exercise 2.1:** Create a scatter plot of 'sepal width (cm)' vs 'sepal length (cm)' from the `iris_df`. Add appropriate labels to the x and y axes."
   ]
  },
  {
   "cell_type": "code",
   "execution_count": null,
   "metadata": {},
   "outputs": [],
   "source": [
    "# Your code here"
   ]
  },
  {
   "cell_type": "markdown",
   "metadata": {},
   "source": [
    "**Solution 2.1:**"
   ]
  },
  {
   "cell_type": "code",
   "execution_count": null,
   "metadata": {},
   "outputs": [],
   "source": [
    "# Solution\n",
    "plt.scatter(x=iris_df['sepal length (cm)'], y=iris_df['sepal width (cm)'])\n",
    "\n",
    "plt.title('Sepal Length vs. Sepal Width')\n",
    "plt.xlabel('Sepal Length (cm)')\n",
    "plt.ylabel('Sepal Width (cm)')\n",
    "\n",
    "plt.show()"
   ]
  },
  {
   "cell_type": "markdown",
   "metadata": {},
   "source": [
    "**Exercise 2.2:** The previous plot shows a general trend, but what if we want to see if the different species of iris have different relationships? \n",
    "\n",
    "Enhance the scatter plot from 2.1 by coloring the points based on the 'target' column in `iris_df`. The `c` parameter in `plt.scatter()` is used for this.\n",
    "\n",
    "*Hint: You can pass the `iris_df['target']` Series directly to the `c` parameter.*"
   ]
  },
  {
   "cell_type": "code",
   "execution_count": null,
   "metadata": {},
   "outputs": [],
   "source": [
    "# Your code here"
   ]
  },
  {
   "cell_type": "markdown",
   "metadata": {},
   "source": [
    "**Solution 2.2:**"
   ]
  },
  {
   "cell_type": "code",
   "execution_count": null,
   "metadata": {},
   "outputs": [],
   "source": [
    "# Solution\n",
    "scatter = plt.scatter(x=iris_df['sepal length (cm)'], \n",
    "                      y=iris_df['sepal width (cm)'], \n",
    "                      c=iris_df['target'])\n",
    "\n",
    "plt.title('Sepal Length vs. Sepal Width by Species')\n",
    "plt.xlabel('Sepal Length (cm)')\n",
    "plt.ylabel('Sepal Width (cm)')\n",
    "\n",
    "# Add a legend to explain the colors\n",
    "# The target names are stored in iris_data.target_names\n",
    "plt.legend(handles=scatter.legend_elements()[0], labels=list(iris_data.target_names))\n",
    "\n",
    "plt.show()"
   ]
  },
  {
   "cell_type": "markdown",
   "metadata": {},
   "source": [
    "---"
   ]
  },
  {
   "cell_type": "markdown",
   "metadata": {},
   "source": [
    "### Fantastic work on Day 5!\n",
    "\n",
    "You've learned how to create two of the most fundamental types of plots: line plots and scatter plots. You also know how to make them informative with titles and labels. Being able to visualize your data is a huge step forward in your data science journey. Tomorrow, we'll continue with Matplotlib and learn about bar charts and histograms!"
   ]
  }
 ],
 "metadata": {
  "kernelspec": {
   "display_name": "Python 3",
   "language": "python",
   "name": "python3"
  },
  "language_info": {
   "codemirror_mode": {
    "name": "ipython",
    "version": 3
   },
   "file_extension": ".py",
   "mimetype": "text/x-python",
   "name": "python",
   "nbconvert_exporter": "python",
   "pygments_lexer": "ipython3",
   "version": "3.12.11"
  }
 },
 "nbformat": 4,
 "nbformat_minor": 4
}
