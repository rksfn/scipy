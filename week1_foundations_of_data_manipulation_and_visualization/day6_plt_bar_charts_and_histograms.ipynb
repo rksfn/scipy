{
 "cells": [
  {
   "cell_type": "markdown",
   "metadata": {},
   "source": [
    "# Day 6: Matplotlib - Bar Charts and Histograms\n",
    "\n",
    "Welcome to Day 6! You're now comfortable creating line and scatter plots. Today, we'll expand your visualization toolkit with two more fundamental plot types in Matplotlib.\n",
    "\n",
    "Today's topics include:\n",
    "1.  **Creating Bar Charts** to compare quantities across different categories.\n",
    "2.  **Generating Histograms** to understand the distribution of a single numerical variable.\n",
    "3.  **Customizing** these plots by adjusting bins, colors, and edges."
   ]
  },
  {
   "cell_type": "markdown",
   "metadata": {},
   "source": [
    "As always, we start by setting up our environment with the necessary libraries and our familiar Iris dataset."
   ]
  },
  {
   "cell_type": "code",
   "execution_count": null,
   "metadata": {},
   "outputs": [],
   "source": [
    "import pandas as pd\n",
    "import numpy as np\n",
    "import matplotlib.pyplot as plt\n",
    "from sklearn.datasets import load_iris\n",
    "\n",
    "# Load the Iris dataset into a DataFrame\n",
    "iris_data = load_iris()\n",
    "iris_df = pd.DataFrame(data=iris_data.data, columns=iris_data.feature_names)\n",
    "iris_df['target'] = iris_data.target\n",
    "\n",
    "# Let's add the species names to the DataFrame for easier plotting\n",
    "iris_df['species'] = iris_df['target'].map({0: 'setosa', 1: 'versicolor', 2: 'virginica'})\n",
    "\n",
    "# Preview the updated data\n",
    "iris_df.head()"
   ]
  },
  {
   "cell_type": "markdown",
   "metadata": {},
   "source": [
    "---"
   ]
  },
  {
   "cell_type": "markdown",
   "metadata": {},
   "source": [
    "## Part 1: Bar Charts\n",
    "\n",
    "Bar charts are ideal for comparing a numerical value across different categories. For example, what is the average sepal length for each species of iris? A bar chart is the perfect way to visualize this."
   ]
  },
  {
   "cell_type": "markdown",
   "metadata": {},
   "source": [
    "**Exercise 1.1:** First, we need the data to plot. Calculate the average 'sepal length (cm)' for each species. Then, create a bar chart to display these averages.\n",
    "\n",
    "*Hint: Use pandas' `.groupby()` and `.mean()` methods to get the average values.*"
   ]
  },
  {
   "cell_type": "code",
   "execution_count": null,
   "metadata": {},
   "outputs": [],
   "source": [
    "# Step 1: Calculate the average sepal length for each species\n",
    "avg_sepal_length = iris_df.groupby('species')['sepal length (cm)'].mean()\n",
    "print(avg_sepal_length)\n",
    "\n",
    "# Step 2: Create the bar chart using plt.bar()\n",
    "# Your code here"
   ]
  },
  {
   "cell_type": "markdown",
   "metadata": {},
   "source": [
    "**Solution 1.1:**"
   ]
  },
  {
   "cell_type": "code",
   "execution_count": null,
   "metadata": {
    "jupyter": {
     "source_hidden": true
    }
   },
   "outputs": [],
   "source": [
    "# Solution\n",
    "avg_sepal_length = iris_df.groupby('species')['sepal length (cm)'].mean()\n",
    "\n",
    "plt.bar(x=avg_sepal_length.index, height=avg_sepal_length.values)\n",
    "\n",
    "# Don't forget labels and a title!\n",
    "plt.title('Average Sepal Length by Species')\n",
    "plt.xlabel('Species')\n",
    "plt.ylabel('Average Sepal Length (cm)')\n",
    "\n",
    "plt.show()"
   ]
  },
  {
   "cell_type": "markdown",
   "metadata": {},
   "source": [
    "**Exercise 1.2:** Customize the bar chart from the previous exercise. Change the color of the bars to `'skyblue'`. \n",
    "\n",
    "*Hint: Use the `color` parameter within `plt.bar()`.*"
   ]
  },
  {
   "cell_type": "code",
   "execution_count": null,
   "metadata": {},
   "outputs": [],
   "source": [
    "# Your code here"
   ]
  },
  {
   "cell_type": "markdown",
   "metadata": {},
   "source": [
    "**Solution 1.2:**"
   ]
  },
  {
   "cell_type": "code",
   "execution_count": null,
   "metadata": {
    "jupyter": {
     "source_hidden": true
    }
   },
   "outputs": [],
   "source": [
    "# Solution\n",
    "avg_sepal_length = iris_df.groupby('species')['sepal length (cm)'].mean()\n",
    "\n",
    "plt.bar(x=avg_sepal_length.index, height=avg_sepal_length.values, color='skyblue')\n",
    "\n",
    "plt.title('Average Sepal Length by Species')\n",
    "plt.xlabel('Species')\n",
    "plt.ylabel('Average Sepal Length (cm)')\n",
    "\n",
    "plt.show()"
   ]
  },
  {
   "cell_type": "markdown",
   "metadata": {},
   "source": [
    "---"
   ]
  },
  {
   "cell_type": "markdown",
   "metadata": {},
   "source": [
    "## Part 2: Histograms\n",
    "\n",
    "Histograms help us understand the distribution of a single continuous variable. They do this by dividing the range of the data into 'bins' and counting how many data points fall into each bin."
   ]
  },
  {
   "cell_type": "markdown",
   "metadata": {},
   "source": [
    "**Exercise 2.1:** Create a histogram for the 'petal length (cm)' column of the `iris_df`. Use `plt.hist()` for this."
   ]
  },
  {
   "cell_type": "code",
   "execution_count": null,
   "metadata": {},
   "outputs": [],
   "source": [
    "# Your code here"
   ]
  },
  {
   "cell_type": "markdown",
   "metadata": {},
   "source": [
    "**Solution 2.1:**"
   ]
  },
  {
   "cell_type": "code",
   "execution_count": null,
   "metadata": {
    "jupyter": {
     "source_hidden": true
    }
   },
   "outputs": [],
   "source": [
    "# Solution\n",
    "plt.hist(iris_df['petal length (cm)'])\n",
    "\n",
    "plt.title('Distribution of Petal Length')\n",
    "plt.xlabel('Petal Length (cm)')\n",
    "plt.ylabel('Frequency')\n",
    "\n",
    "plt.show()"
   ]
  },
  {
   "cell_type": "markdown",
   "metadata": {},
   "source": [
    "**Exercise 2.2:** The default number of bins might not always be the best. Customize the histogram from 2.1 by:\n",
    "1.  Setting the number of bins to 20.\n",
    "2.  Adding a black edge color to the bars for better separation.\n",
    "\n",
    "*Hint: Use the `bins` and `edgecolor` parameters in `plt.hist()`.*"
   ]
  },
  {
   "cell_type": "code",
   "execution_count": null,
   "metadata": {},
   "outputs": [],
   "source": [
    "# Your code here"
   ]
  },
  {
   "cell_type": "markdown",
   "metadata": {},
   "source": [
    "**Solution 2.2:**"
   ]
  },
  {
   "cell_type": "code",
   "execution_count": null,
   "metadata": {
    "jupyter": {
     "source_hidden": true
    }
   },
   "outputs": [],
   "source": [
    "# Solution\n",
    "plt.hist(iris_df['petal length (cm)'], bins=20, edgecolor='black')\n",
    "\n",
    "plt.title('Distribution of Petal Length (20 Bins)')\n",
    "plt.xlabel('Petal Length (cm)')\n",
    "plt.ylabel('Frequency')\n",
    "\n",
    "plt.show()"
   ]
  },
  {
   "cell_type": "markdown",
   "metadata": {},
   "source": [
    "---"
   ]
  },
  {
   "cell_type": "markdown",
   "metadata": {},
   "source": [
    "### Great job today!\n",
    "\n",
    "You've now mastered four essential plot types. Bar charts help you compare categories, and histograms reveal the shape of your data's distribution. These are invaluable tools for exploratory data analysis.\n",
    "\n",
    "Tomorrow, you'll put everything you've learned in the first week together in a mini-project to analyze a new dataset from start to finish!"
   ]
  }
 ],
 "metadata": {
  "kernelspec": {
   "display_name": "Python 3 (ipykernel)",
   "language": "python",
   "name": "python3"
  },
  "language_info": {
   "codemirror_mode": {
    "name": "ipython",
    "version": 3
   },
   "file_extension": ".py",
   "mimetype": "text/x-python",
   "name": "python",
   "nbconvert_exporter": "python",
   "pygments_lexer": "ipython3",
   "version": "3.12.2"
  }
 },
 "nbformat": 4,
 "nbformat_minor": 4
}
