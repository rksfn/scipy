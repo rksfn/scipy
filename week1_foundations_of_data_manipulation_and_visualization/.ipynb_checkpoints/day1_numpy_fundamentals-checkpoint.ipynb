{
 "cells": [
  {
   "cell_type": "code",
   "execution_count": 3,
   "id": "96acc779-152c-4b8f-b816-d7978a29ccf3",
   "metadata": {},
   "outputs": [],
   "source": [
    "import numpy as np"
   ]
  },
  {
   "cell_type": "markdown",
   "id": "31b807fd-831a-46cb-9686-cb4cbb4abd24",
   "metadata": {},
   "source": [
    "### Part 1: Creating NumPy Arrays\n",
    "In this section, I'll practice creating NumPy arrays in various ways.\n"
   ]
  },
  {
   "cell_type": "markdown",
   "id": "e5be2eb5-6249-403d-9886-4cfba826dd65",
   "metadata": {},
   "source": [
    "**Exercise 1.1:** Create a 1-dimensional NumPy array from the following Python list \n",
    "```my_list = [1, 2, 3, 4, 5]```"
   ]
  },
  {
   "cell_type": "code",
   "execution_count": 7,
   "id": "a6b49e25-e227-4054-b4db-2714a280a6ac",
   "metadata": {},
   "outputs": [],
   "source": [
    "# Your code here"
   ]
  },
  {
   "cell_type": "markdown",
   "id": "778aae55-3d7d-4a88-a4a5-ca5cb6a9738f",
   "metadata": {},
   "source": [
    "**Exercise 1.2:** Create a 2-dimensional NumPy array (a 2✕3 matrix) from the following nest list.<br>\n",
    "```nested_list = [[1, 2, 3,], [4, 5, 6]]```"
   ]
  },
  {
   "cell_type": "code",
   "execution_count": 6,
   "id": "a334395c-ad02-43e3-802b-00a4050cfdf2",
   "metadata": {},
   "outputs": [],
   "source": [
    "# Your code here"
   ]
  },
  {
   "cell_type": "markdown",
   "id": "5a6169e5-8c50-41fe-a280-1ac0ac658126",
   "metadata": {},
   "source": [
    "**Exercise 1.3:** Create a 3✕4 NumPy array filled with zeros."
   ]
  },
  {
   "cell_type": "code",
   "execution_count": 8,
   "id": "c8ed1bf6-ece5-4380-aae1-b35462ceb3ab",
   "metadata": {},
   "outputs": [],
   "source": [
    "# Your code here"
   ]
  },
  {
   "cell_type": "markdown",
   "id": "1ec350d8-79d1-4a52-a40c-59ac955045a4",
   "metadata": {},
   "source": [
    "**Exercise 1.4**: Create a 2✕5 NumPy array filled with ones, and make sure the data type is integer"
   ]
  },
  {
   "cell_type": "code",
   "execution_count": 8,
   "id": "2d5735af-aa27-4ed1-8cce-4387153031f0",
   "metadata": {},
   "outputs": [],
   "source": [
    "# Your code here"
   ]
  },
  {
   "cell_type": "markdown",
   "id": "05d2de61-38ea-43e1-a342-f4a31a24186e",
   "metadata": {},
   "source": [
    "**Exercise 1.5**: Create a NumPy array containing numbers from 10 to 25 (inclusive)."
   ]
  },
  {
   "cell_type": "code",
   "execution_count": 8,
   "id": "c1633442-3062-4185-833b-53c432fb66ea",
   "metadata": {},
   "outputs": [],
   "source": [
    "# Your code here"
   ]
  },
  {
   "cell_type": "markdown",
   "id": "8b1b2f27-12bd-46d4-a6ef-b44b3a26a662",
   "metadata": {},
   "source": [
    "---"
   ]
  },
  {
   "cell_type": "markdown",
   "id": "3a371e97-c662-4cf1-acbc-46cf7e59db0f",
   "metadata": {},
   "source": [
    "### Part 2: Array Arithmetic\n",
    "Now, let's perform some basic mathematical operations"
   ]
  },
  {
   "cell_type": "markdown",
   "id": "78a1ec9c-4712-4ff3-a6b0-dc2e06a9de81",
   "metadata": {},
   "source": [
    "First, let's create these two arrays to work with:"
   ]
  },
  {
   "cell_type": "code",
   "execution_count": 9,
   "id": "13f452e2-bf6b-485d-a639-93e2854f9dc9",
   "metadata": {},
   "outputs": [],
   "source": [
    "a = np.array([1, 2, 3, 4])\n",
    "b = np.array([10, 20, 30, 40])"
   ]
  },
  {
   "cell_type": "markdown",
   "id": "ca701498-410d-4e6a-a9d0-f99caa387e54",
   "metadata": {},
   "source": [
    "**Exercise 2.1:** Add array ```a``` and array ```b``` together."
   ]
  },
  {
   "cell_type": "code",
   "execution_count": 8,
   "id": "095d5d3d-1e07-4aa4-8de2-c1c57382ddf7",
   "metadata": {},
   "outputs": [],
   "source": [
    "# Your code here"
   ]
  },
  {
   "cell_type": "markdown",
   "id": "e0020d4d-c7f4-49ed-9eac-54c8523dfdca",
   "metadata": {},
   "source": [
    "**Exercise 2.2:** Multiply array ```a``` by a scalar value of 5."
   ]
  },
  {
   "cell_type": "code",
   "execution_count": 8,
   "id": "ebaa7edd-3305-4b3d-b2bb-6a431842ed08",
   "metadata": {},
   "outputs": [],
   "source": [
    "# Your code here"
   ]
  },
  {
   "cell_type": "markdown",
   "id": "1b99bfa6-c223-434b-8aac-6079f24caf5b",
   "metadata": {},
   "source": [
    "**Exercise 2.3:** Calculate the element-wise product of ```a``` and ```b```."
   ]
  },
  {
   "cell_type": "code",
   "execution_count": 8,
   "id": "955a3b00-4855-4cab-80f6-9d694713f89a",
   "metadata": {},
   "outputs": [],
   "source": [
    "# Your code here"
   ]
  },
  {
   "cell_type": "markdown",
   "id": "a436d6c0-525a-47b6-8be0-c0ff3779c841",
   "metadata": {},
   "source": [
    "**Exercise 2.4:** Subtract array ```a``` from ```b```"
   ]
  },
  {
   "cell_type": "code",
   "execution_count": 8,
   "id": "67bb9006-b4e9-419e-8cb6-e54bd93c1ae5",
   "metadata": {},
   "outputs": [],
   "source": [
    "# Your code here"
   ]
  },
  {
   "cell_type": "markdown",
   "id": "a0646f2f-2631-474f-a60d-e8d917c38ed2",
   "metadata": {},
   "source": [
    "---"
   ]
  },
  {
   "cell_type": "markdown",
   "id": "d1d081ce-5180-4d23-9a78-d0355c5e2a79",
   "metadata": {},
   "source": [
    "### Part 3: Basic Statistical Operations\n",
    "NumPy makes it easy to perform statistical calculations. Let's use the Iris dataset I loaded earlier to practice this."
   ]
  },
  {
   "cell_type": "code",
   "execution_count": 10,
   "id": "a137dad1-b983-4ca9-afb8-f86afed91943",
   "metadata": {},
   "outputs": [],
   "source": [
    "from sklearn.datasets import load_iris\n",
    "iris_data = load_iris()\n",
    "\n",
    "sepal_length = iris_data.data[:, 0] # This selects all rows and the first column (index 0)"
   ]
  },
  {
   "cell_type": "markdown",
   "id": "da67d1b4-0878-48a4-8aae-7abc658b22a1",
   "metadata": {},
   "source": [
    "**Exercise 3.1:** Calculate the mean (average sepal length)"
   ]
  },
  {
   "cell_type": "code",
   "execution_count": 8,
   "id": "0c71f5e1-6cd1-448c-a735-52ddcd5f698a",
   "metadata": {},
   "outputs": [],
   "source": [
    "# Your code here"
   ]
  },
  {
   "cell_type": "markdown",
   "id": "c5a4e68e-d303-4d1f-b292-cc78588c1b15",
   "metadata": {},
   "source": [
    "**Exercise 3.2:** Calculate the medial sepal length."
   ]
  },
  {
   "cell_type": "code",
   "execution_count": 8,
   "id": "b9d85067-0f94-4ad4-97c6-50f5e6c20079",
   "metadata": {},
   "outputs": [],
   "source": [
    "# Your code here"
   ]
  },
  {
   "cell_type": "markdown",
   "id": "11b89d03-bcf2-45eb-8f8d-c34ce4e19483",
   "metadata": {},
   "source": [
    "**Exercise 3.3:** Calculate the standard deviation of the sepal length."
   ]
  },
  {
   "cell_type": "code",
   "execution_count": 8,
   "id": "46cb21a4-258a-4e18-a372-4bf4b5ebafe8",
   "metadata": {},
   "outputs": [],
   "source": [
    "# Your code here"
   ]
  },
  {
   "cell_type": "markdown",
   "id": "c385e3b8-3c87-491c-a581-f101e24ed3a8",
   "metadata": {},
   "source": [
    "**Exercise 3.4:** Find the minimum and maximum sepal length values."
   ]
  },
  {
   "cell_type": "code",
   "execution_count": 8,
   "id": "4d8e6f87-55f2-41f2-b625-abc90030f329",
   "metadata": {},
   "outputs": [],
   "source": [
    "# Your code here"
   ]
  },
  {
   "cell_type": "markdown",
   "id": "482c45c6-8ef3-4e4d-b5f5-33576939ae46",
   "metadata": {},
   "source": [
    "**Bonus Exercise:** For the entire ```iris_data.data``` array, calculate the mean of each *feature* (i.e., the mean of column).<br>\n",
    "*Hint: Look up the axis parameter in NumPy functions.*"
   ]
  },
  {
   "cell_type": "code",
   "execution_count": 8,
   "id": "1af3c06e-a328-473b-bdcf-3507b8984152",
   "metadata": {},
   "outputs": [],
   "source": [
    "# Your code here"
   ]
  },
  {
   "cell_type": "markdown",
   "id": "8f5dca37-0973-42bb-8020-681a6ecb33d2",
   "metadata": {},
   "source": [
    "---"
   ]
  },
  {
   "cell_type": "markdown",
   "id": "85854d61-deae-4c58-844c-86bf916c3348",
   "metadata": {},
   "source": [
    "Great job completing Day 1! Tomorrow, I'll dive into more advanced NumPy topics like indexing, slicing, and reshaping arrays."
   ]
  }
 ],
 "metadata": {
  "kernelspec": {
   "display_name": "Python 3 (ipykernel)",
   "language": "python",
   "name": "python3"
  },
  "language_info": {
   "codemirror_mode": {
    "name": "ipython",
    "version": 3
   },
   "file_extension": ".py",
   "mimetype": "text/x-python",
   "name": "python",
   "nbconvert_exporter": "python",
   "pygments_lexer": "ipython3",
   "version": "3.12.2"
  }
 },
 "nbformat": 4,
 "nbformat_minor": 5
}
