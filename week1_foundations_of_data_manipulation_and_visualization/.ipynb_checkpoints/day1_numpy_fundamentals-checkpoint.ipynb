{
 "cells": [
  {
   "cell_type": "markdown",
   "id": "e8a1f8b1-a6e3-4b9b-b2c6-b09a7b97c0f1",
   "metadata": {},
   "source": [
    "# Day 1: NumPy Fundamentals\n",
    "\n",
    "Welcome to your first day of Scientific Python! Today's goal is to get comfortable with the basics of NumPy, the foundational package for numerical computing in Python."
   ]
  },
  {
   "cell_type": "markdown",
   "id": "a1f0a2d5-e9e9-4e4c-8b8a-f5e9a4f4c7f0",
   "metadata": {},
   "source": [
    "As always, start by importing NumPy."
   ]
  },
  {
   "cell_type": "code",
   "execution_count": 4,
   "id": "96acc779-152c-4b8f-b816-d7978a29ccf3",
   "metadata": {},
   "outputs": [],
   "source": [
    "import numpy as np"
   ]
  },
  {
   "cell_type": "markdown",
   "id": "b3c9d7a2-f5e8-4c9a-a8d2-c5b8e9f8e8f3",
   "metadata": {},
   "source": [
    "---"
   ]
  },
  {
   "cell_type": "markdown",
   "id": "31b807fd-831a-46cb-9686-cb4cbb4abd24",
   "metadata": {},
   "source": [
    "## Part 1: Creating NumPy Arrays\n",
    "\n",
    "In this section, you'll practice creating NumPy arrays in various ways."
   ]
  },
  {
   "cell_type": "markdown",
   "id": "e5be2eb5-6249-403d-9886-4cfba826dd65",
   "metadata": {},
   "source": [
    "**Exercise 1.1:** Create a 1-dimensional NumPy array from the following Python list:\n",
    "```python\n",
    "my_list = [1, 2, 3, 4, 5]\n",
    "```"
   ]
  },
  {
   "cell_type": "code",
   "execution_count": 2,
   "id": "a6b49e25-e227-4054-b4db-2714a280a6ac",
   "metadata": {},
   "outputs": [
    {
     "name": "stdout",
     "output_type": "stream",
     "text": [
      "[1 2 3 4 5 6]\n"
     ]
    }
   ],
   "source": [
    "# Your code here\n",
    "list = [1, 2, 3, 4, 5, 6]\n",
    "array = np.array(list)\n",
    "print(array)"
   ]
  },
  {
   "cell_type": "markdown",
   "id": "f2a8b9c1-d3e4-4f5b-a6d7-c8e9f0a1b2c3",
   "metadata": {},
   "source": [
    "**Solution 1.1:**"
   ]
  },
  {
   "cell_type": "code",
   "execution_count": 3,
   "id": "d9e8f7a6-b5c4-4d8e-a9f3-b1c2d3e4f5a6",
   "metadata": {
    "collapsed": true,
    "jupyter": {
     "outputs_hidden": true,
     "source_hidden": true
    }
   },
   "outputs": [
    {
     "name": "stdout",
     "output_type": "stream",
     "text": [
      "[1 2 3 4 5]\n"
     ]
    }
   ],
   "source": [
    "# Solution\n",
    "my_list = [1, 2, 3, 4, 5]\n",
    "array_1d = np.array(my_list)\n",
    "print(array_1d)"
   ]
  },
  {
   "cell_type": "markdown",
   "id": "778aae55-3d7d-4a88-a4a5-ca5cb6a9738f",
   "metadata": {},
   "source": [
    "**Exercise 1.2:** Create a 2-dimensional NumPy array (a 2x3 matrix) from the following nested list:\n",
    "```python\n",
    "nested_list = [[1, 2, 3], [4, 5, 6]]\n",
    "```"
   ]
  },
  {
   "cell_type": "code",
   "execution_count": 5,
   "id": "a334395c-ad02-43e3-802b-00a4050cfdf2",
   "metadata": {},
   "outputs": [
    {
     "name": "stdout",
     "output_type": "stream",
     "text": [
      "[[1 2 3]\n",
      " [4 5 6]]\n"
     ]
    }
   ],
   "source": [
    "# Your code here\n",
    "nested_list = [[1, 2, 3], [4, 5, 6]]\n",
    "array2x3 = np.array(nested_list)\n",
    "print(array2x3)"
   ]
  },
  {
   "cell_type": "markdown",
   "id": "e1c2d3b4-a5f6-4e8d-9b1a-c2d3e4f5a6b7",
   "metadata": {},
   "source": [
    "**Solution 1.2:**"
   ]
  },
  {
   "cell_type": "code",
   "execution_count": null,
   "id": "f5a6b7c8-d9e8-4f7a-b6c5-d4e3f2a1b0c9",
   "metadata": {},
   "outputs": [],
   "source": [
    "# Solution\n",
    "nested_list = [[1, 2, 3], [4, 5, 6]]\n",
    "array_2d = np.array(nested_list)\n",
    "print(array_2d)"
   ]
  },
  {
   "cell_type": "markdown",
   "id": "5a6169e5-8c50-41fe-a280-1ac0ac658126",
   "metadata": {},
   "source": [
    "**Exercise 1.3:** Create a 3x4 NumPy array filled with zeros."
   ]
  },
  {
   "cell_type": "code",
   "execution_count": 6,
   "id": "249bbbf3-e333-47a7-99d0-1c08ed71bb38",
   "metadata": {},
   "outputs": [
    {
     "name": "stdout",
     "output_type": "stream",
     "text": [
      "[[0. 0. 0. 0.]\n",
      " [0. 0. 0. 0.]\n",
      " [0. 0. 0. 0.]]\n"
     ]
    }
   ],
   "source": [
    "# Your code here\n",
    "array0 = np.zeros((3,4))\n",
    "print(array0)"
   ]
  },
  {
   "cell_type": "markdown",
   "id": "a8b7c6d5-e4f3-4a2b-9c8d-7e6f5a4b3c2d",
   "metadata": {},
   "source": [
    "**Solution 1.3:**"
   ]
  },
  {
   "cell_type": "code",
   "execution_count": null,
   "id": "b9c8d7e6-f5a4-4b3c-a2d1-e0f9e8d7c6b5",
   "metadata": {
    "jupyter": {
     "source_hidden": true
    }
   },
   "outputs": [],
   "source": [
    "# Solution\n",
    "zeros_array = np.zeros((3, 4))\n",
    "print(zeros_array)"
   ]
  },
  {
   "cell_type": "markdown",
   "id": "1ec350d8-79d1-4a52-a40c-59ac955045a4",
   "metadata": {},
   "source": [
    "**Exercise 1.4**: Create a 2x5 NumPy array filled with ones, and make sure the data type is integer."
   ]
  },
  {
   "cell_type": "code",
   "execution_count": null,
   "id": "2d5735af-aa27-4ed1-8cce-4387153031f0",
   "metadata": {},
   "outputs": [],
   "source": [
    "# Your code here"
   ]
  },
  {
   "cell_type": "markdown",
   "id": "c7d6e5f4-a3b2-4c1d-b0e9-f8d7c6b5a4d3",
   "metadata": {},
   "source": [
    "**Solution 1.4:**"
   ]
  },
  {
   "cell_type": "code",
   "execution_count": null,
   "id": "d8e7f6a5-b4c3-4d2e-a1f0-e9d8c7b6a5d4",
   "metadata": {
    "jupyter": {
     "source_hidden": true
    }
   },
   "outputs": [],
   "source": [
    "# Solution\n",
    "ones_array = np.ones((2, 5), dtype=int)\n",
    "print(ones_array)"
   ]
  },
  {
   "cell_type": "markdown",
   "id": "05d2de61-38ea-43e1-a342-f4a31a24186e",
   "metadata": {},
   "source": [
    "**Exercise 1.5**: Create a NumPy array containing numbers from 10 to 25 (inclusive)."
   ]
  },
  {
   "cell_type": "code",
   "execution_count": null,
   "id": "c1633442-3062-4185-833b-53c432fb66ea",
   "metadata": {},
   "outputs": [],
   "source": [
    "# Your code here"
   ]
  },
  {
   "cell_type": "markdown",
   "id": "e9f8d7c6-b5a4-4d3e-a2f1-f0e9d8c7b6a5",
   "metadata": {},
   "source": [
    "**Solution 1.5:**"
   ]
  },
  {
   "cell_type": "code",
   "execution_count": null,
   "id": "f0a9e8d7-c6b5-4e3d-a1f0-e9d8c7b6a5d4",
   "metadata": {
    "jupyter": {
     "source_hidden": true
    }
   },
   "outputs": [],
   "source": [
    "# Solution\n",
    "range_array = np.arange(10, 26)\n",
    "print(range_array)"
   ]
  },
  {
   "cell_type": "markdown",
   "id": "8b1b2f27-12bd-46d4-a6ef-b44b3a26a662",
   "metadata": {},
   "source": [
    "---"
   ]
  },
  {
   "cell_type": "markdown",
   "id": "3a371e97-c662-4cf1-acbc-46cf7e59db0f",
   "metadata": {},
   "source": [
    "## Part 2: Array Arithmetic\n",
    "\n",
    "Now, let's perform some basic mathematical operations."
   ]
  },
  {
   "cell_type": "markdown",
   "id": "78a1ec9c-4712-4ff3-a6b0-dc2e06a9de81",
   "metadata": {},
   "source": [
    "First, create these two arrays to work with:"
   ]
  },
  {
   "cell_type": "code",
   "execution_count": null,
   "id": "13f452e2-bf6b-485d-a639-93e2854f9dc9",
   "metadata": {},
   "outputs": [],
   "source": [
    "a = np.array([1, 2, 3, 4])\n",
    "b = np.array([10, 20, 30, 40])"
   ]
  },
  {
   "cell_type": "markdown",
   "id": "ca701498-410d-4e6a-a9d0-f99caa387e54",
   "metadata": {},
   "source": [
    "**Exercise 2.1:** Add array `a` and array `b` together."
   ]
  },
  {
   "cell_type": "code",
   "execution_count": null,
   "id": "095d5d3d-1e07-4aa4-8de2-c1c57382ddf7",
   "metadata": {},
   "outputs": [],
   "source": [
    "# Your code here"
   ]
  },
  {
   "cell_type": "markdown",
   "id": "a1b2c3d4-e5f6-4a7b-8c9d-0e9f8d7c6b5a",
   "metadata": {},
   "source": [
    "**Solution 2.1:**"
   ]
  },
  {
   "cell_type": "code",
   "execution_count": null,
   "id": "b2c3d4e5-f6a7-4b8c-9d0e-1f0e9d8c7b6a",
   "metadata": {
    "jupyter": {
     "source_hidden": true
    }
   },
   "outputs": [],
   "source": [
    "# Solution\n",
    "sum_array = a + b\n",
    "print(sum_array)"
   ]
  },
  {
   "cell_type": "markdown",
   "id": "e0020d4d-c7f4-49ed-9eac-54c8523dfdca",
   "metadata": {},
   "source": [
    "**Exercise 2.2:** Multiply array `a` by a scalar value of 5."
   ]
  },
  {
   "cell_type": "code",
   "execution_count": null,
   "id": "ebaa7edd-3305-4b3d-b2bb-6a431842ed08",
   "metadata": {},
   "outputs": [],
   "source": [
    "# Your code here"
   ]
  },
  {
   "cell_type": "markdown",
   "id": "c3d4e5f6-a7b8-4c9d-a0e1-f0e9d8c7b6a5",
   "metadata": {},
   "source": [
    "**Solution 2.2:**"
   ]
  },
  {
   "cell_type": "code",
   "execution_count": null,
   "id": "d4e5f6a7-b8c9-4d0e-b1f0-e9d8c7b6a5d4",
   "metadata": {
    "jupyter": {
     "source_hidden": true
    }
   },
   "outputs": [],
   "source": [
    "# Solution\n",
    "scalar_mult_array = a * 5\n",
    "print(scalar_mult_array)"
   ]
  },
  {
   "cell_type": "markdown",
   "id": "1b99bfa6-c223-434b-8aac-6079f24caf5b",
   "metadata": {},
   "source": [
    "**Exercise 2.3:** Calculate the element-wise product of `a` and `b`."
   ]
  },
  {
   "cell_type": "code",
   "execution_count": null,
   "id": "955a3b00-4855-4cab-80f6-9d694713f89a",
   "metadata": {},
   "outputs": [],
   "source": [
    "# Your code here"
   ]
  },
  {
   "cell_type": "markdown",
   "id": "e5f6a7b8-c9d0-4e1f-a2b1-f0e9d8c7b6a5",
   "metadata": {},
   "source": [
    "**Solution 2.3:**"
   ]
  },
  {
   "cell_type": "code",
   "execution_count": null,
   "id": "f6a7b8c9-d0e1-4f2a-b3c2-e9d8c7b6a5d4",
   "metadata": {
    "jupyter": {
     "source_hidden": true
    }
   },
   "outputs": [],
   "source": [
    "# Solution\n",
    "element_product = a * b\n",
    "print(element_product)"
   ]
  },
  {
   "cell_type": "markdown",
   "id": "a436d6c0-525a-47b6-8be0-c0ff3779c841",
   "metadata": {},
   "source": [
    "**Exercise 2.4:** Subtract array `a` from `b`."
   ]
  },
  {
   "cell_type": "code",
   "execution_count": null,
   "id": "67bb9006-b4e9-419e-8cb6-e54bd93c1ae5",
   "metadata": {},
   "outputs": [],
   "source": [
    "# Your code here"
   ]
  },
  {
   "cell_type": "markdown",
   "id": "a7b8c9d0-e1f2-4a3b-b4c3-e9d8c7b6a5d4",
   "metadata": {},
   "source": [
    "**Solution 2.4:**"
   ]
  },
  {
   "cell_type": "code",
   "execution_count": null,
   "id": "b8c9d0e1-f2a3-4b4c-a5d4-e9d8c7b6a5d4",
   "metadata": {
    "jupyter": {
     "source_hidden": true
    }
   },
   "outputs": [],
   "source": [
    "# Solution\n",
    "diff_array = b - a\n",
    "print(diff_array)"
   ]
  },
  {
   "cell_type": "markdown",
   "id": "a0646f2f-2631-474f-a60d-e8d917c38ed2",
   "metadata": {},
   "source": [
    "---"
   ]
  },
  {
   "cell_type": "markdown",
   "id": "d1d081ce-5180-4d23-9a78-d0355c5e2a79",
   "metadata": {},
   "source": [
    "## Part 3: Basic Statistical Operations\n",
    "\n",
    "NumPy makes it easy to perform statistical calculations. Let's use the Iris dataset to practice this.\n",
    "\n",
    "First, let's extract the sepal length column into a NumPy array. The sepal length is the first column in the `iris_data.data`."
   ]
  },
  {
   "cell_type": "code",
   "execution_count": null,
   "id": "a137dad1-b983-4ca9-afb8-f86afed91943",
   "metadata": {},
   "outputs": [],
   "source": [
    "from sklearn.datasets import load_iris\n",
    "iris_data = load_iris()\n",
    "\n",
    "# This selects all rows and the first column (index 0)\n",
    "sepal_length = iris_data.data[:, 0]"
   ]
  },
  {
   "cell_type": "markdown",
   "id": "da67d1b4-0878-48a4-8aae-7abc658b22a1",
   "metadata": {},
   "source": [
    "**Exercise 3.1:** Calculate the mean (average) sepal length."
   ]
  },
  {
   "cell_type": "code",
   "execution_count": null,
   "id": "0c71f5e1-6cd1-448c-a735-52ddcd5f698a",
   "metadata": {},
   "outputs": [],
   "source": [
    "# Your code here"
   ]
  },
  {
   "cell_type": "markdown",
   "id": "c9d0e1f2-a3b4-4c5d-b6e5-f4d3c2b1a0a9",
   "metadata": {},
   "source": [
    "**Solution 3.1:**"
   ]
  },
  {
   "cell_type": "code",
   "execution_count": null,
   "id": "d0e1f2a3-b4c5-4d6e-a7f6-e5d4c3b2a1b0",
   "metadata": {
    "jupyter": {
     "source_hidden": true
    }
   },
   "outputs": [],
   "source": [
    "# Solution\n",
    "mean_sepal_length = np.mean(sepal_length)\n",
    "print(f\"Mean sepal length: {mean_sepal_length}\")"
   ]
  },
  {
   "cell_type": "markdown",
   "id": "c5a4e68e-d303-4d1f-b292-cc78588c1b15",
   "metadata": {},
   "source": [
    "**Exercise 3.2:** Calculate the median sepal length."
   ]
  },
  {
   "cell_type": "code",
   "execution_count": null,
   "id": "b9d85067-0f94-4ad4-97c6-50f5e6c20079",
   "metadata": {},
   "outputs": [],
   "source": [
    "# Your code here"
   ]
  },
  {
   "cell_type": "markdown",
   "id": "e1f2a3b4-c5d6-4e7f-b8a7-f6e5d4c3b2a1",
   "metadata": {},
   "source": [
    "**Solution 3.2:**"
   ]
  },
  {
   "cell_type": "code",
   "execution_count": null,
   "id": "f2a3b4c5-d6e7-4f8a-a9b8-e7f6d5c4b3a2",
   "metadata": {
    "jupyter": {
     "source_hidden": true
    }
   },
   "outputs": [],
   "source": [
    "# Solution\n",
    "median_sepal_length = np.median(sepal_length)\n",
    "print(f\"Median sepal length: {median_sepal_length}\")"
   ]
  },
  {
   "cell_type": "markdown",
   "id": "11b89d03-bcf2-45eb-8f8d-c34ce4e19483",
   "metadata": {},
   "source": [
    "**Exercise 3.3:** Calculate the standard deviation of the sepal length."
   ]
  },
  {
   "cell_type": "code",
   "execution_count": null,
   "id": "46cb21a4-258a-4e18-a372-4bf4b5ebafe8",
   "metadata": {},
   "outputs": [],
   "source": [
    "# Your code here"
   ]
  },
  {
   "cell_type": "markdown",
   "id": "a3b4c5d6-e7f8-4a9b-bac8-d7e6f5c4b3a2",
   "metadata": {},
   "source": [
    "**Solution 3.3:**"
   ]
  },
  {
   "cell_type": "code",
   "execution_count": null,
   "id": "b4c5d6e7-f8a9-4b0c-a9d8-e7f6d5c4b3a2",
   "metadata": {
    "jupyter": {
     "source_hidden": true
    }
   },
   "outputs": [],
   "source": [
    "# Solution\n",
    "std_sepal_length = np.std(sepal_length)\n",
    "print(f\"Standard deviation of sepal length: {std_sepal_length}\")"
   ]
  },
  {
   "cell_type": "markdown",
   "id": "c385e3b8-3c87-491c-a581-f101e24ed3a8",
   "metadata": {},
   "source": [
    "**Exercise 3.4:** Find the minimum and maximum sepal length values."
   ]
  },
  {
   "cell_type": "code",
   "execution_count": null,
   "id": "4d8e6f87-55f2-41f2-b625-abc90030f329",
   "metadata": {},
   "outputs": [],
   "source": [
    "# Your code here"
   ]
  },
  {
   "cell_type": "markdown",
   "id": "c5d6e7f8-a9b0-4c1d-bad8-e7f6d5c4b3a2",
   "metadata": {},
   "source": [
    "**Solution 3.4:**"
   ]
  },
  {
   "cell_type": "code",
   "execution_count": null,
   "id": "d6e7f8a9-b0c1-4d2e-a9d8-e7f6d5c4b3a2",
   "metadata": {
    "jupyter": {
     "source_hidden": true
    }
   },
   "outputs": [],
   "source": [
    "# Solution\n",
    "min_sepal_length = np.min(sepal_length)\n",
    "max_sepal_length = np.max(sepal_length)\n",
    "print(f\"Minimum sepal length: {min_sepal_length}\")\n",
    "print(f\"Maximum sepal length: {max_sepal_length}\")"
   ]
  },
  {
   "cell_type": "markdown",
   "id": "482c45c6-8ef3-4e4d-b5f5-33576939ae46",
   "metadata": {},
   "source": [
    "**Bonus Exercise:** For the entire `iris_data.data` array, calculate the mean of each *feature* (i.e., the mean of each column).\n",
    "\n",
    "*Hint: Look up the `axis` parameter in NumPy functions.*"
   ]
  },
  {
   "cell_type": "code",
   "execution_count": null,
   "id": "1af3c06e-a328-473b-bdcf-3507b8984152",
   "metadata": {},
   "outputs": [],
   "source": [
    "# Your code here"
   ]
  },
  {
   "cell_type": "markdown",
   "id": "d7e8f9a0-b1c2-4e3d-a9d8-e7f6d5c4b3a2",
   "metadata": {},
   "source": [
    "**Solution Bonus Exercise:**"
   ]
  },
  {
   "cell_type": "code",
   "execution_count": null,
   "id": "e8f9a0b1-c2d3-4f4e-a9d8-e7f6d5c4b3a2",
   "metadata": {
    "jupyter": {
     "source_hidden": true
    }
   },
   "outputs": [],
   "source": [
    "# Solution\n",
    "mean_per_feature = np.mean(iris_data.data, axis=0)\n",
    "print(\"Mean of each feature (column):\")\n",
    "print(mean_per_feature)"
   ]
  },
  {
   "cell_type": "markdown",
   "id": "8f5dca37-0973-42bb-8020-681a6ecb33d2",
   "metadata": {},
   "source": [
    "---"
   ]
  },
  {
   "cell_type": "markdown",
   "id": "85854d61-deae-4c58-844c-86bf916c3348",
   "metadata": {},
   "source": [
    "Great job completing Day 1! Tomorrow, you'll dive into more advanced NumPy topics like indexing, slicing, and reshaping arrays."
   ]
  }
 ],
 "metadata": {
  "kernelspec": {
   "display_name": "Python 3 (ipykernel)",
   "language": "python",
   "name": "python3"
  },
  "language_info": {
   "codemirror_mode": {
    "name": "ipython",
    "version": 3
   },
   "file_extension": ".py",
   "mimetype": "text/x-python",
   "name": "python",
   "nbconvert_exporter": "python",
   "pygments_lexer": "ipython3",
   "version": "3.12.2"
  }
 },
 "nbformat": 4,
 "nbformat_minor": 5
}
