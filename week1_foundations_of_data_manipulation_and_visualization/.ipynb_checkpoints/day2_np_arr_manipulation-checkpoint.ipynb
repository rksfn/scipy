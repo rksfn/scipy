{
 "cells": [
  {
   "cell_type": "markdown",
   "id": "a9e8f6d3-c2b1-4d7a-8b01-1b2c3a4d5e6f",
   "metadata": {},
   "source": [
    "### Day 2: NumPy Array Manipulation - Exercises\n",
    "\n",
    "Today, I'll dive deeper into NumPy's power by learning how to select, modify, and reshape data within arrays. These skills are crucial for data preprocessing.\n",
    "\n",
    "As always, I'll start by importing NumPy."
   ]
  },
  {
   "cell_type": "code",
   "execution_count": null,
   "id": "e8f7c6d5-a1b2-4c3b-8d9e-0f1a2b3c4d5e",
   "metadata": {},
   "outputs": [],
   "source": [
    "import numpy as np"
   ]
  },
  {
   "cell_type": "markdown",
   "id": "b1c2d3e4-f5a6-4b7c-8d9e-1a2b3c4d5e6f",
   "metadata": {},
   "source": [
    "---\n",
    "\n",
    "### Part 1: Indexing and Slicing 1D Arrays\n",
    "\n",
    "These exercises focus on accessing and modifying elements in one-dimensional arrays.\n",
    "\n",
    "First, create the following array to work with:"
   ]
  },
  {
   "cell_type": "code",
   "execution_count": null,
   "id": "c5d6e7f8-a9b0-4c1d-8e2f-3a4b5c6d7e8f",
   "metadata": {},
   "outputs": [],
   "source": [
    "arr_1d = np.arange(10, 26)\n",
    "print(f\"Original array: {arr_1d}\")"
   ]
  },
  {
   "cell_type": "markdown",
   "id": "d9e0f1a2-b3c4-4d5e-8f6a-7b8c9d0e1f2a",
   "metadata": {},
   "source": [
    "**Exercise 1.1:** Access the first element of `arr_1d`."
   ]
  },
  {
   "cell_type": "code",
   "execution_count": null,
   "id": "e3f1a2b3-c4d5-4e6f-8a7b-8c9d0e1f2a3b",
   "metadata": {},
   "outputs": [],
   "source": [
    "# Your code here"
   ]
  },
  {
   "cell_type": "markdown",
   "id": "f7a8b9c0-d1e2-4f3a-8b4c-9d0e1f2a3b4c",
   "metadata": {},
   "source": [
    "**Exercise 1.2:** Access the last element of `arr_1d` using negative indexing."
   ]
  },
  {
   "cell_type": "code",
   "execution_count": null,
   "id": "a1b2c3d4-e5f6-4a7b-8c9d-0e1f2a3b4c5d",
   "metadata": {},
   "outputs": [],
   "source": [
    "# Your code here"
   ]
  },
  {
   "cell_type": "markdown",
   "id": "b5c6d7e8-f9a0-4b1c-8d2e-1f2a3b4c5d6e",
   "metadata": {},
   "source": [
    "**Exercise 1.3:** \"Slice\" the array to get the elements from index 2 up to (but not including) index 7."
   ]
  },
  {
   "cell_type": "code",
   "execution_count": null,
   "id": "c9d0e1f2-a3b4-4c5d-8e6f-2a3b4c5d6e7f",
   "metadata": {},
   "outputs": [],
   "source": [
    "# Your code here"
   ]
  },
  {
   "cell_type": "markdown",
   "id": "d3e1f2a3-b4c5-4d6e-8f7a-3b4c5d6e7f8a",
   "metadata": {},
   "source": [
    "**Exercise 1.4:** Get the last 5 elements of `arr_1d`."
   ]
  },
  {
   "cell_type": "code",
   "execution_count": null,
   "id": "e7f8a9b0-c1d2-4e3f-8a4b-4c5d6e7f8a9b",
   "metadata": {},
   "outputs": [],
   "source": [
    "# Your code here"
   ]
  },
  {
   "cell_type": "markdown",
   "id": "f1a2b3c4-d5e6-4f7a-8b8c-5d6e7f8a9b0c",
   "metadata": {},
   "source": [
    "**Exercise 1.5:** Modify the element at index 5 to be `99`."
   ]
  },
  {
   "cell_type": "code",
   "execution_count": null,
   "id": "a5b6c7d8-e9f0-4a1b-8c2d-6e7f8a9b0c1d",
   "metadata": {},
   "outputs": [],
   "source": [
    "# Your code here"
   ]
  },
  {
   "cell_type": "markdown",
   "id": "b9c0d1e2-f3a4-4b5c-8d6e-7f8a9b0c1d2e",
   "metadata": {},
   "source": [
    "---\n",
    "\n",
    "### Part 2: Indexing and Slicing 2D Arrays\n",
    "\n",
    "Now let's work with two-dimensional arrays (matrices).\n",
    "\n",
    "Create this 2D array for the following exercises:"
   ]
  },
  {
   "cell_type": "code",
   "execution_count": null,
   "id": "c3d4e5f6-a7b8-4c9d-8e0f-8a9b0c1d2e3f",
   "metadata": {},
   "outputs": [],
   "source": [
    "arr_2d = np.array([[10, 11, 12, 13],\n",
    "                   [20, 21, 22, 23],\n",
    "                   [30, 31, 32, 33],\n",
    "                   [40, 41, 42, 43]])\n",
    "print(\"Original 2D array:\\n\", arr_2d)"
   ]
  },
  {
   "cell_type": "markdown",
   "id": "d7e8f9a0-b1c2-4d3e-8f4a-9b0c1d2e3f4a",
   "metadata": {},
   "source": [
    "**Exercise 2.1:** Access the element in the 2nd row and 3rd column (the value `22`)."
   ]
  },
  {
   "cell_type": "code",
   "execution_count": null,
   "id": "e1f2a3b4-c5d6-4e7f-8a8b-0c1d2e3f4a5b",
   "metadata": {},
   "outputs": [],
   "source": [
    "# Your code here"
   ]
  },
  {
   "cell_type": "markdown",
   "id": "f5a6b7c8-d9e0-4f1a-8b2c-1d2e3f4a5b6c",
   "metadata": {},
   "source": [
    "**Exercise 2.2:** Slice the array to get the top-right 2x2 sub-matrix. (i.e., `[[12, 13], [22, 23]]`)."
   ]
  },
  {
   "cell_type": "code",
   "execution_count": null,
   "id": "a9b0c1d2-e3f4-4a5b-8c6d-2e3f4a5b6c7d",
   "metadata": {},
   "outputs": [],
   "source": [
    "# Your code here"
   ]
  },
  {
   "cell_type": "markdown",
   "id": "b3c4d5e6-f7a8-4b9c-8d0e-3f4a5b6c7d8e",
   "metadata": {},
   "source": [
    "**Exercise 2.3:** Get the entire 3rd row (the one starting with `30`)."
   ]
  },
  {
   "cell_type": "code",
   "execution_count": null,
   "id": "c7d8e9f0-a1b2-4c3d-8e4f-4a5b6c7d8e9f",
   "metadata": {},
   "outputs": [],
   "source": [
    "# Your code here"
   ]
  },
  {
   "cell_type": "markdown",
   "id": "d1e2f3a4-b5c6-4d7e-8f8a-5b6c7d8e9f0a",
   "metadata": {},
   "source": [
    "**Exercise 2.4 (Challenge):** Select all elements in the array that are greater than 30. This is called boolean indexing."
   ]
  },
  {
   "cell_type": "code",
   "execution_count": null,
   "id": "e5f6a7b8-c9d0-4e1f-8a2b-6c7d8e9f0a1b",
   "metadata": {},
   "outputs": [],
   "source": [
    "# Your code here"
   ]
  },
  {
   "cell_type": "markdown",
   "id": "f9a0b1c2-d3e4-4f5a-8b6c-7d8e9f0a1b2c",
   "metadata": {},
   "source": [
    "---\n",
    "\n",
    "### Part 3: Reshaping and Combining Arrays\n",
    "\n",
    "Finally, let's look at changing the shape of arrays and putting them together."
   ]
  },
  {
   "cell_type": "markdown",
   "id": "a3b4c5d6-e7f8-4a9b-8c0d-8e9f0a1b2c3d",
   "metadata": {},
   "source": [
    "**Exercise 3.1:** Create a 1D array with 12 elements, from 0 to 11. Then, reshape it into a 3x4 matrix."
   ]
  },
  {
   "cell_type": "code",
   "execution_count": null,
   "id": "b7c8d9e0-f1a2-4b3c-8d4e-9f0a1b2c3d4e",
   "metadata": {},
   "outputs": [],
   "source": [
    "# Your code here"
   ]
  },
  {
   "cell_type": "markdown",
   "id": "c1d2e3f4-a5b6-4c7d-8e8f-0a1b2c3d4e5f",
   "metadata": {},
   "source": [
    "**Exercise 3.2:** Using the `reshaped_arr` from the previous exercise, get its transpose. The transpose swaps rows and columns."
   ]
  },
  {
   "cell_type": "code",
   "execution_count": null,
   "id": "d5e6f7a8-b9c0-4d1e-8f2a-1b2c3d4e5f6a",
   "metadata": {},
   "outputs": [],
   "source": [
    "# Your code here"
   ]
  },
  {
   "cell_type": "markdown",
   "id": "e9f0a1b2-c3d4-4e5f-8a6b-2c3d4e5f6a7b",
   "metadata": {},
   "source": [
    "**Exercise 3.3:** Create two arrays, `a1` and `a2`. Concatenate them vertically (stacking `a2` below `a1`)."
   ]
  },
  {
   "cell_type": "code",
   "execution_count": null,
   "id": "f3a4b5c6-d7e8-4f9a-8b0c-3d4e5f6a7b8c",
   "metadata": {},
   "outputs": [],
   "source": [
    "a1 = np.array([[1, 2], [3, 4]])\n",
    "a2 = np.array([[5, 6]])\n",
    "\n",
    "# Your code here"
   ]
  },
  {
   "cell_type": "markdown",
   "id": "a7b8c9d0-e1f2-4a3b-8c4d-4e5f6a7b8c9d",
   "metadata": {},
   "source": [
    "**Exercise 3.4:** Now, concatenate `a1` and a new array `a3` horizontally."
   ]
  },
  {
   "cell_type": "code",
   "execution_count": null,
   "id": "b1c2d3e4-f5a6-4b7c-8d8e-5f6a7b8c9d0e",
   "metadata": {},
   "outputs": [],
   "source": [
    "a1 = np.array([[1, 2], [3, 4]])\n",
    "a3 = np.array([[5], [6]]) # Note the shape of a3\n",
    "\n",
    "# Your code here"
   ]
  },
  {
   "cell_type": "markdown",
   "id": "c5d6e7f8-a9b0-4c1d-8e2f-6a7b8c9d0e1f",
   "metadata": {},
   "source": [
    "---\n",
    "You've now covered some of the most common and important array manipulation techniques in NumPy. These skills will be incredibly useful when you start cleaning and preparing data with Pandas. Keep up the great work!"
   ]
  }
 ],
 "metadata": {
  "kernelspec": {
   "display_name": "Python 3 (ipykernel)",
   "language": "python",
   "name": "python3"
  },
  "language_info": {
   "codemirror_mode": {
    "name": "ipython",
    "version": 3
   },
   "file_extension": ".py",
   "mimetype": "text/x-python",
   "name": "python",
   "nbconvert_exporter": "python",
   "pygments_lexer": "ipython3",
   "version": "3.12.2"
  }
 },
 "nbformat": 4,
 "nbformat_minor": 5
}
