{
 "cells": [
  {
   "cell_type": "markdown",
   "metadata": {},
   "source": [
    "# Day 4: Data Selection and Filtering with Pandas\n",
    "\n",
    "Welcome to Day 4! Now that you know how to create and inspect a DataFrame, it's time to learn how to select and filter the data within it. This is a fundamental skill for any data analysis task, allowing you to zoom in on the specific pieces of information you're interested in.\n",
    "\n",
    "Today's topics include:\n",
    "1.  **Selecting Data** using labels (`.loc`) and integer positions (`.iloc`).\n",
    "2.  **Filtering Data** based on conditions (also known as boolean indexing).\n",
    "3.  **Handling Missing Values** using `dropna()` and `fillna()`."
   ]
  },
  {
   "cell_type": "markdown",
   "metadata": {},
   "source": [
    "First, let's get our environment set up. We'll import pandas and numpy, and then load the Iris dataset, just as we did yesterday."
   ]
  },
  {
   "cell_type": "code",
   "execution_count": null,
   "metadata": {},
   "outputs": [],
   "source": [
    "import pandas as pd\n",
    "import numpy as np\n",
    "from sklearn.datasets import load_iris\n",
    "\n",
    "# Load the Iris dataset into a DataFrame\n",
    "iris_data = load_iris()\n",
    "iris_df = pd.DataFrame(data=iris_data.data, columns=iris_data.feature_names)\n",
    "iris_df['target'] = iris_data.target\n",
    "\n",
    "# Let's preview the data to make sure it's loaded correctly\n",
    "iris_df.head()"
   ]
  },
  {
   "cell_type": "markdown",
   "metadata": {},
   "source": [
    "---"
   ]
  },
  {
   "cell_type": "markdown",
   "metadata": {},
   "source": [
    "## Part 1: Selecting Data with `.loc` and `.iloc`\n",
    "\n",
    "Pandas provides two powerful methods for selecting data:\n",
    "- `.loc`: Selects data based on **labels** (e.g., column names, index labels).\n",
    "- `.iloc`: Selects data based on **integer position** (e.g., the 0th row, the 1st column)."
   ]
  },
  {
   "cell_type": "markdown",
   "metadata": {},
   "source": [
    "**Exercise 1.1:** Select the 'petal length (cm)' column and display its first 5 values using the `head()` method."
   ]
  },
  {
   "cell_type": "code",
   "execution_count": null,
   "metadata": {},
   "outputs": [],
   "source": [
    "# Your code here"
   ]
  },
  {
   "cell_type": "markdown",
   "metadata": {},
   "source": [
    "**Solution 1.1:**"
   ]
  },
  {
   "cell_type": "code",
   "execution_count": null,
   "metadata": {},
   "outputs": [],
   "source": [
    "# Solution\n",
    "iris_df['petal length (cm)'].head()"
   ]
  },
  {
   "cell_type": "markdown",
   "metadata": {},
   "source": [
    "**Exercise 1.2:** Select both the 'sepal width (cm)' and 'petal width (cm)' columns. Display the first 5 rows of this selection."
   ]
  },
  {
   "cell_type": "code",
   "execution_count": null,
   "metadata": {},
   "outputs": [],
   "source": [
    "# Your code here"
   ]
  },
  {
   "cell_type": "markdown",
   "metadata": {},
   "source": [
    "**Solution 1.2:**"
   ]
  },
  {
   "cell_type": "code",
   "execution_count": null,
   "metadata": {},
   "outputs": [],
   "source": [
    "# Solution\n",
    "iris_df[['sepal width (cm)', 'petal width (cm)']].head()"
   ]
  },
  {
   "cell_type": "markdown",
   "metadata": {},
   "source": [
    "**Exercise 1.3:** Select the 10th row of the DataFrame using `.iloc`."
   ]
  },
  {
   "cell_type": "code",
   "execution_count": null,
   "metadata": {},
   "outputs": [],
   "source": [
    "# Your code here"
   ]
  },
  {
   "cell_type": "markdown",
   "metadata": {},
   "source": [
    "**Solution 1.3:**"
   ]
  },
  {
   "cell_type": "code",
   "execution_count": null,
   "metadata": {},
   "outputs": [],
   "source": [
    "# Solution\n",
    "# Remember that Python is 0-indexed, so the 10th row is at index 9.\n",
    "iris_df.iloc[9]"
   ]
  },
  {
   "cell_type": "markdown",
   "metadata": {},
   "source": [
    "**Exercise 1.4:** Select the rows from index 5 to 10 (inclusive) and the columns from 'sepal length (cm)' to 'petal length (cm)' (inclusive) using `.loc`."
   ]
  },
  {
   "cell_type": "code",
   "execution_count": null,
   "metadata": {},
   "outputs": [],
   "source": [
    "# Your code here"
   ]
  },
  {
   "cell_type": "markdown",
   "metadata": {},
   "source": [
    "**Solution 1.4:**"
   ]
  },
  {
   "cell_type": "code",
   "execution_count": null,
   "metadata": {},
   "outputs": [],
   "source": [
    "# Solution\n",
    "# Note that .loc is inclusive of both start and end labels.\n",
    "iris_df.loc[5:10, 'sepal length (cm)':'petal length (cm)']"
   ]
  },
  {
   "cell_type": "markdown",
   "metadata": {},
   "source": [
    "---"
   ]
  },
  {
   "cell_type": "markdown",
   "metadata": {},
   "source": [
    "## Part 2: Filtering Data\n",
    "\n",
    "Filtering, or boolean indexing, is the process of selecting rows from a DataFrame based on a condition."
   ]
  },
  {
   "cell_type": "markdown",
   "metadata": {},
   "source": [
    "**Exercise 2.1:** Create a new DataFrame called `long_petals_df` that contains only the rows from `iris_df` where the 'petal length (cm)' is greater than 6.0."
   ]
  },
  {
   "cell_type": "code",
   "execution_count": null,
   "metadata": {},
   "outputs": [],
   "source": [
    "# Your code here"
   ]
  },
  {
   "cell_type": "markdown",
   "metadata": {},
   "source": [
    "**Solution 2.1:**"
   ]
  },
  {
   "cell_type": "code",
   "execution_count": null,
   "metadata": {},
   "outputs": [],
   "source": [
    "# Solution\n",
    "long_petals_df = iris_df[iris_df['target'] == 2]\n",
    "long_petals_df"
   ]
  },
  {
   "cell_type": "markdown",
   "metadata": {},
   "source": [
    "**Exercise 2.2:** Create a new DataFrame called `specific_iris_df` that contains rows where the target is 0 **and** the 'sepal width (cm)' is greater than 3.5.\n",
    "\n",
    "*Hint: For multiple conditions, wrap each condition in parentheses `()` and use `&` for AND.*"
   ]
  },
  {
   "cell_type": "code",
   "execution_count": null,
   "metadata": {},
   "outputs": [],
   "source": [
    "# Your code here"
   ]
  },
  {
   "cell_type": "markdown",
   "metadata": {},
   "source": [
    "**Solution 2.2:**"
   ]
  },
  {
   "cell_type": "code",
   "execution_count": null,
   "metadata": {},
   "outputs": [],
   "source": [
    "# Solution\n",
    "specific_iris_df = iris_df[(iris_df['target'] == 0) & (iris_df['sepal width (cm)'] > 3.5)]\n",
    "specific_iris_df"
   ]
  },
  {
   "cell_type": "markdown",
   "metadata": {},
   "source": [
    "---"
   ]
  },
  {
   "cell_type": "markdown",
   "metadata": {},
   "source": [
    "## Part 3: Handling Missing Data\n",
    "\n",
    "Real-world data is often messy and contains missing values, represented as `NaN` (Not a Number). Let's create a temporary DataFrame with some missing data to practice handling it."
   ]
  },
  {
   "cell_type": "code",
   "execution_count": null,
   "metadata": {},
   "outputs": [],
   "source": [
    "# Create a temporary DataFrame for this exercise\n",
    "data = {'A': [1, 2, np.nan, 4, 5], \n",
    "        'B': [10, np.nan, np.nan, 40, 50],\n",
    "        'C': [100, 200, 300, 400, 500]}\n",
    "missing_df = pd.DataFrame(data)\n",
    "missing_df"
   ]
  },
  {
   "cell_type": "markdown",
   "metadata": {},
   "source": [
    "**Exercise 3.1:** Remove all rows from `missing_df` that contain any missing values."
   ]
  },
  {
   "cell_type": "code",
   "execution_count": null,
   "metadata": {},
   "outputs": [],
   "source": [
    "# Your code here"
   ]
  },
  {
   "cell_type": "markdown",
   "metadata": {},
   "source": [
    "**Solution 3.1:**"
   ]
  },
  {
   "cell_type": "code",
   "execution_count": null,
   "metadata": {},
   "outputs": [],
   "source": [
    "# Solution\n",
    "missing_df.dropna()"
   ]
  },
  {
   "cell_type": "markdown",
   "metadata": {},
   "source": [
    "**Exercise 3.2:** Fill the missing values in `missing_df`. Replace `NaN` in column 'A' with 0 and `NaN` in column 'B' with the mean of column 'B'."
   ]
  },
  {
   "cell_type": "code",
   "execution_count": null,
   "metadata": {},
   "outputs": [],
   "source": [
    "# Your code here"
   ]
  },
  {
   "cell_type": "markdown",
   "metadata": {},
   "source": [
    "**Solution 3.2:**"
   ]
  },
  {
   "cell_type": "code",
   "execution_count": null,
   "metadata": {},
   "outputs": [],
   "source": [
    "# Solution\n",
    "b_mean = missing_df['B'].mean()\n",
    "filled_df = missing_df.fillna(value={'A': 0, 'B': b_mean})\n",
    "filled_df"
   ]
  },
  {
   "cell_type": "markdown",
   "metadata": {},
   "source": [
    "---"
   ]
  },
  {
   "cell_type": "markdown",
   "metadata": {},
   "source": [
    "### Excellent work on Day 4!\n",
    "\n",
    "You now have the power to select, slice, and filter DataFrames, which are some of the most common operations in data analysis. You also took your first steps in data cleaning by handling missing values. Tomorrow, we'll shift gears and start visualizing our data with Matplotlib!"
   ]
  }
 ],
 "metadata": {
  "kernelspec": {
   "display_name": "Python 3",
   "language": "python",
   "name": "python3"
  },
  "language_info": {
   "codemirror_mode": {
    "name": "ipython",
    "version": 3
   },
   "file_extension": ".py",
   "mimetype": "text/x-python",
   "name": "python",
   "nbconvert_exporter": "python",
   "pygments_lexer": "ipython3",
   "version": "3.12.11"
  }
 },
 "nbformat": 4,
 "nbformat_minor": 4
}
