





import pandas as pd
import numpy as np











student_data = {
    'name': ['Alice', 'Bob', 'Charlie', 'David'],
    'age': [24, 27, 22, 32],
    'city': ['New York', 'Los Angeles', 'Chicago', 'Houston']
}

# Your code here
df_students = None
df_students





# Solution
student_data = {
    'name': ['Alice', 'Bob', 'Charlie', 'David'],
    'age': [24, 27, 22, 32],
    'city': ['New York', 'Los Angeles', 'Chicago', 'Houston']
}

df_students = pd.DataFrame(student_data)
df_students





# Your code here
random_df = None
random_df





# Solution
data = np.random.rand(5, 4)
random_df = pd.DataFrame(data, columns=['A', 'B', 'C', 'D'])
random_df





from sklearn.datasets import load_iris

# Your code here
iris_df = None
iris_df





# Solution
from sklearn.datasets import load_iris

iris_data = load_iris()
iris_df = pd.DataFrame(data=iris_data.data, columns=iris_data.feature_names)
iris_df['target'] = iris_data.target
iris_df.head() # We'll use .head() here to just preview it











# Your code here





# Solution
iris_df.head()





# Your code here





# Solution
iris_df.tail(7)





# Your code here





# Solution
iris_df.info()





# Your code here





# Solution
iris_df.describe()





# Your code here





# Solution
iris_df.shape






