





import pandas as pd
import numpy as np
import matplotlib.pyplot as plt
from sklearn.datasets import load_iris

# Load the Iris dataset into a DataFrame
iris_data = load_iris()
iris_df = pd.DataFrame(data=iris_data.data, columns=iris_data.feature_names)
iris_df['target'] = iris_data.target

# Let's add the species names to the DataFrame for easier plotting
iris_df['species'] = iris_df['target'].map({0: 'setosa', 1: 'versicolor', 2: 'virginica'})

# Preview the updated data
iris_df.head()











# Step 1: Calculate the average sepal length for each species
avg_sepal_length = iris_df.groupby('species')['sepal length (cm)'].mean()
print(avg_sepal_length)

# Step 2: Create the bar chart using plt.bar()
# Your code here





# Solution
avg_sepal_length = iris_df.groupby('species')['sepal length (cm)'].mean()

plt.bar(x=avg_sepal_length.index, height=avg_sepal_length.values)

# Don't forget labels and a title!
plt.title('Average Sepal Length by Species')
plt.xlabel('Species')
plt.ylabel('Average Sepal Length (cm)')

plt.show()





# Your code here





# Solution
avg_sepal_length = iris_df.groupby('species')['sepal length (cm)'].mean()

plt.bar(x=avg_sepal_length.index, height=avg_sepal_length.values, color='skyblue')

plt.title('Average Sepal Length by Species')
plt.xlabel('Species')
plt.ylabel('Average Sepal Length (cm)')

plt.show()











# Your code here





# Solution
plt.hist(iris_df['petal length (cm)'])

plt.title('Distribution of Petal Length')
plt.xlabel('Petal Length (cm)')
plt.ylabel('Frequency')

plt.show()





# Your code here





# Solution
plt.hist(iris_df['petal length (cm)'], bins=20, edgecolor='black')

plt.title('Distribution of Petal Length (20 Bins)')
plt.xlabel('Petal Length (cm)')
plt.ylabel('Frequency')

plt.show()






