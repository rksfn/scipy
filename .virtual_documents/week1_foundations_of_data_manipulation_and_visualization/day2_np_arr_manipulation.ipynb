





import numpy as np








arr_1d = np.arange(10, 26)
print(f"Original array: {arr_1d}")





# Your code here





# Solution
first_element = arr_1d[0]
print(f"First element: {first_element}")





# Your code here





# Solution
last_element = arr_1d[-1]
print(f"Last element: {last_element}")





# Your code here





# Solution
sliced_array = arr_1d[2:7]
print(f"Sliced array: {sliced_array}")





# Your code here





# Solution
last_five = arr_1d[-5:]
print(f"Last 5 elements: {last_five}")





# Your code here





# Solution
arr_1d[5] = 99
print(f"Modified array: {arr_1d}")








arr_2d = np.array([[10, 11, 12, 13],
                   [20, 21, 22, 23],
                   [30, 31, 32, 33],
                   [40, 41, 42, 43]])
print("Original 2D array:\n", arr_2d)





# Your code here





# Solution
element_22 = arr_2d[1, 2] # Remember, indexing starts at 0!
print(f"Element at (1, 2) is: {element_22}")





# Your code here





# Solution
top_right_2x2 = arr_2d[:2, 2:]
print("Top-right 2x2 matrix:\n", top_right_2x2)





# Your code here





# Solution
third_row = arr_2d[2, :] # or simply arr_2d[2]
print(f"Third row: {third_row}")





# Your code here





# Solution
greater_than_30 = arr_2d[arr_2d > 30]
print(f"Elements greater than 30: {greater_than_30}")











# Your code here





# Solution
arr = np.arange(12)
reshaped_arr = arr.reshape(3, 4)
print("Reshaped 3x4 matrix:\n", reshaped_arr)





# Your code here





# Solution
transposed_arr = reshaped_arr.T
print("Transposed matrix:\n", transposed_arr)





a1 = np.array([[1, 2], [3, 4]])
a2 = np.array([[5, 6]])

# Your code here





# Solution
a1 = np.array([[1, 2], [3, 4]])
a2 = np.array([[5, 6]])
vertical_stack = np.vstack((a1, a2))
# Alternative: np.concatenate((a1, a2), axis=0)
print("Vertical concatenation:\n", vertical_stack)





a1 = np.array([[1, 2], [3, 4]])
a3 = np.array([[5], [6]]) # Note the shape of a3

# Your code here





# Solution
a1 = np.array([[1, 2], [3, 4]])
a3 = np.array([[5], [6]])
horizontal_stack = np.hstack((a1, a3))
# Alternative: np.concatenate((a1, a3), axis=1)
print("Horizontal concatenation:\n", horizontal_stack)






