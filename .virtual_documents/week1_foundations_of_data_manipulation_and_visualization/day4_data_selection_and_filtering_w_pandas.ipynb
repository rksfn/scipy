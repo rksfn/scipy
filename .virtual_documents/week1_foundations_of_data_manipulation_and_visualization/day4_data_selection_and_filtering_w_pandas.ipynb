





import pandas as pd
import numpy as np
from sklearn.datasets import load_iris

# Load the Iris dataset into a DataFrame
iris_data = load_iris()
iris_df = pd.DataFrame(data=iris_data.data, columns=iris_data.feature_names)
iris_df['target'] = iris_data.target

# Let's preview the data to make sure it's loaded correctly
iris_df.head()











# Your code here





# Solution
iris_df['petal length (cm)'].head()





# Your code here





# Solution
iris_df[['sepal width (cm)', 'petal width (cm)']].head()





# Your code here





# Solution
# Remember that Python is 0-indexed, so the 10th row is at index 9.
iris_df.iloc[9]





# Your code here





# Solution
# Note that .loc is inclusive of both start and end labels.
iris_df.loc[5:10, 'sepal length (cm)':'petal length (cm)']











# Your code here
long_petals_df = None
long_petals_df





# Solution
long_petals_df = iris_df[iris_df['petal length (cm)'] > 6.0]
long_petals_df





# Your code here
specific_iris_df = None
specific_iris_df





# Solution
specific_iris_df = iris_df[(iris_df['target'] == 0) & (iris_df['sepal width (cm)'] > 3.5)]
specific_iris_df








# Create a temporary DataFrame for this exercise
data = {'A': [1, 2, np.nan, 4, 5], 
        'B': [10, np.nan, np.nan, 40, 50],
        'C': [100, 200, 300, 400, 500]}
missing_df = pd.DataFrame(data)
missing_df





# Your code here





# Solution
missing_df.dropna()





# Your code here





# Solution
b_mean = missing_df['B'].mean()
filled_df = missing_df.fillna(value={'A': 0, 'B': b_mean})
filled_df






