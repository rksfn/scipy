





import numpy as np











# Your code here





# Solution
my_list = [1, 2, 3, 4, 5]
array_1d = np.array(my_list)
print(array_1d)





# Your code here





# Solution
nested_list = [[1, 2, 3], [4, 5, 6]]
array_2d = np.array(nested_list)
print(array_2d)





# Your code here





# Solution
zeros_array = np.zeros((3, 4))
print(zeros_array)





# Your code here





# Solution
ones_array = np.ones((2, 5), dtype=int)
print(ones_array)





# Your code here





# Solution
range_array = np.arange(10, 26)
print(range_array)











a = np.array([1, 2, 3, 4])
b = np.array([10, 20, 30, 40])





# Your code here





# Solution
sum_array = a + b
print(sum_array)





# Your code here





# Solution
scalar_mult_array = a * 5
print(scalar_mult_array)





# Your code here





# Solution
element_product = a * b
print(element_product)





# Your code here





# Solution
diff_array = b - a
print(diff_array)








from sklearn.datasets import load_iris
iris_data = load_iris()

# This selects all rows and the first column (index 0)
sepal_length = iris_data.data[:, 0]





# Your code here





# Solution
mean_sepal_length = np.mean(sepal_length)
print(f"Mean sepal length: {mean_sepal_length}")





# Your code here





# Solution
median_sepal_length = np.median(sepal_length)
print(f"Median sepal length: {median_sepal_length}")





# Your code here





# Solution
std_sepal_length = np.std(sepal_length)
print(f"Standard deviation of sepal length: {std_sepal_length}")





# Your code here





# Solution
min_sepal_length = np.min(sepal_length)
max_sepal_length = np.max(sepal_length)
print(f"Minimum sepal length: {min_sepal_length}")
print(f"Maximum sepal length: {max_sepal_length}")





# Your code here





# Solution
mean_per_feature = np.mean(iris_data.data, axis=0)
print("Mean of each feature (column):")
print(mean_per_feature)






