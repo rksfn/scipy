





import pandas as pd
import numpy as np
import matplotlib.pyplot as plt
from sklearn.datasets import load_iris

# Load the Iris dataset into a DataFrame
iris_data = load_iris()
iris_df = pd.DataFrame(data=iris_data.data, columns=iris_data.feature_names)
iris_df['target'] = iris_data.target

# Preview the data
iris_df.head()








# Simple data for our first line plot
x = np.array([0, 1, 2, 3, 4, 5, 6, 7, 8, 9])
y = np.array([0, 1, 4, 9, 16, 25, 36, 49, 64, 81])





# Your code here





# Solution
plt.plot(x, y)
plt.show()





# Your code here





# Solution
plt.plot(x, y)

# Add a title
plt.title("Squared Numbers")

# Add labels
plt.xlabel("Base Number")
plt.ylabel("Squared Value")

# Display the plot
plt.show()











# Your code here





# Solution
plt.scatter(x=iris_df['sepal length (cm)'], y=iris_df['sepal width (cm)'])

plt.title('Sepal Length vs. Sepal Width')
plt.xlabel('Sepal Length (cm)')
plt.ylabel('Sepal Width (cm)')

plt.show()





# Your code here





# Solution
scatter = plt.scatter(x=iris_df['sepal length (cm)'], 
                      y=iris_df['sepal width (cm)'], 
                      c=iris_df['target'])

plt.title('Sepal Length vs. Sepal Width by Species')
plt.xlabel('Sepal Length (cm)')
plt.ylabel('Sepal Width (cm)')

# Add a legend to explain the colors
# The target names are stored in iris_data.target_names
plt.legend(handles=scatter.legend_elements()[0], labels=list(iris_data.target_names))

plt.show()






