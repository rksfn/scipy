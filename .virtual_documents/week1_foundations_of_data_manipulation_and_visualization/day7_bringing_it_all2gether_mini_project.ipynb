





import pandas as pd
import matplotlib.pyplot as plt

# URL for the Titanic dataset
url = 'https://raw.githubusercontent.com/datasciencedojo/datasets/master/titanic.csv'

# Load the dataset into a pandas DataFrame
titanic_df = pd.read_csv(url)











# Your code here





# Solution
titanic_df.head()





# Your code here





# Solution
titanic_df.info()











# Your code here





# Solution
# 1. Calculate the median age
median_age = titanic_df['Age'].median()
print(f"The median age is: {median_age}")

# 2. Fill missing values
titanic_df['Age'].fillna(median_age, inplace=True)

# 3. Verify the result
print("\nDataFrame info after filling missing ages:")
titanic_df.info()











# Your code here





# Solution
survival_counts = titanic_df['Survived'].value_counts()

plt.bar(x=survival_counts.index, height=survival_counts.values, tick_label=['Did Not Survive', 'Survived'])

plt.title('Survival Count on the Titanic')
plt.xlabel('Outcome')
plt.ylabel('Number of Passengers')

plt.show()





# Your code here





# Solution
plt.hist(titanic_df['Age'], bins=25, edgecolor='black')

plt.title('Age Distribution of Titanic Passengers')
plt.xlabel('Age')
plt.ylabel('Frequency')

plt.show()





# Your code here





# Solution
survival_by_class = titanic_df.groupby('Pclass')['Survived'].mean()

plt.bar(x=survival_by_class.index, height=survival_by_class.values, color=['tomato', 'skyblue', 'lightgreen'])

plt.title('Survival Rate by Passenger Class')
plt.xlabel('Passenger Class')
plt.ylabel('Survival Rate')
plt.xticks([1, 2, 3]) # Ensure ticks are on the class numbers

plt.show()






