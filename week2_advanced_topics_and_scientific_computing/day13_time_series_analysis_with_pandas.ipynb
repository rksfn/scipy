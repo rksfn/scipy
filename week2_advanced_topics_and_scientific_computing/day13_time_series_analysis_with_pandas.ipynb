{
 "cells": [
  {
   "cell_type": "markdown",
   "metadata": {},
   "source": [
    "# Day 13: Time Series Analysis with Pandas\n",
    "\n",
    "Welcome to Day 13! Today, we're focusing on one of the most powerful features of Pandas: its ability to work with time series data. Analyzing data over time is fundamental in many fields, including finance, economics, and science.\n",
    "\n",
    "We will learn how to create, manipulate, and analyze data that is indexed by time. Specifically, we'll cover:\n",
    "1.  Creating a DatetimeIndex.\n",
    "2.  Slicing and selecting time-stamped data.\n",
    "3.  Resampling data to different time frequencies.\n",
    "4.  Calculating rolling window statistics, like moving averages."
   ]
  },
  {
   "cell_type": "markdown",
   "metadata": {},
   "source": [
    "Let's get started with our imports."
   ]
  },
  {
   "cell_type": "code",
   "execution_count": null,
   "metadata": {},
   "outputs": [],
   "source": [
    "import numpy as np\n",
    "import pandas as pd\n",
    "import matplotlib.pyplot as plt\n",
    "\n",
    "# Set a default figure size for our plots\n",
    "plt.rcParams[\"figure.figsize\"] = (12, 6)"
   ]
  },
  {
   "cell_type": "markdown",
   "metadata": {},
   "source": [
    "---"
   ]
  },
  {
   "cell_type": "markdown",
   "metadata": {},
   "source": [
    "## Part 1: Creating a Time Series DataFrame\n",
    "\n",
    "The key to time series analysis in Pandas is the `DatetimeIndex`. To demonstrate this, we'll create a sample dataset representing the daily sales of a fictional store for the year 2025."
   ]
  },
  {
   "cell_type": "code",
   "execution_count": null,
   "metadata": {},
   "outputs": [],
   "source": [
    "# Set a seed for reproducibility\n",
    "np.random.seed(42)\n",
    "\n",
    "# Create a date range for the entire year of 2025\n",
    "dates = pd.date_range(\n",
    "    start=\"2025-01-01\", end=\"2025-12-31\", freq=\"D\"\n",
    ")  # 'D' for daily frequency\n",
    "\n",
    "# Generate some random sales data\n",
    "# Sales have a base of 100, some noise, and a slight upward trend over the year\n",
    "trend = np.arange(len(dates)) * 0.1\n",
    "noise = np.random.randint(-20, 20, size=len(dates))\n",
    "sales_data = 100 + trend + noise\n",
    "\n",
    "# Create the DataFrame with the dates as the index\n",
    "df = pd.DataFrame(data={\"sales\": sales_data}, index=dates)\n",
    "\n",
    "print(\"DataFrame Info:\")\n",
    "df.info()\n",
    "print(\"\\nFirst 5 rows:\")\n",
    "display(df.head())\n",
    "print(\"\\nLast 5 rows:\")\n",
    "display(df.tail())"
   ]
  },
  {
   "cell_type": "markdown",
   "metadata": {},
   "source": [
    "---"
   ]
  },
  {
   "cell_type": "markdown",
   "metadata": {},
   "source": [
    "## Part 2: Time-based Indexing and Slicing\n",
    "\n",
    "With a `DatetimeIndex`, Pandas allows for incredibly intuitive ways to select and slice your data."
   ]
  },
  {
   "cell_type": "markdown",
   "metadata": {},
   "source": [
    "**Exercise 2.1:** Select and display all the sales data just for the month of June 2025."
   ]
  },
  {
   "cell_type": "code",
   "execution_count": null,
   "metadata": {},
   "outputs": [],
   "source": [
    "# Your code here"
   ]
  },
  {
   "cell_type": "markdown",
   "metadata": {},
   "source": [
    "**Solution 2.1:**"
   ]
  },
  {
   "cell_type": "code",
   "execution_count": null,
   "metadata": {},
   "outputs": [],
   "source": [
    "# You can pass a string representing the month\n",
    "june_sales = df.loc[\"2025-06\"]\n",
    "display(june_sales.head())"
   ]
  },
  {
   "cell_type": "markdown",
   "metadata": {},
   "source": [
    "**Exercise 2.2:** Select the sales data for the second quarter of the year (April 1st to June 30th) and plot it as a line chart."
   ]
  },
  {
   "cell_type": "code",
   "execution_count": null,
   "metadata": {},
   "outputs": [],
   "source": [
    "# Your code here"
   ]
  },
  {
   "cell_type": "markdown",
   "metadata": {},
   "source": [
    "**Solution 2.2:**"
   ]
  },
  {
   "cell_type": "code",
   "execution_count": null,
   "metadata": {},
   "outputs": [],
   "source": [
    "# Use slicing with date strings\n",
    "q2_sales = df.loc[\"2025-04-01\":\"2025-06-30\"]\n",
    "\n",
    "q2_sales.plot(title=\"Sales for Q2 2025\", grid=True)\n",
    "plt.xlabel(\"Date\")\n",
    "plt.ylabel(\"Daily Sales\")\n",
    "plt.show()"
   ]
  },
  {
   "cell_type": "markdown",
   "metadata": {},
   "source": [
    "---"
   ]
  },
  {
   "cell_type": "markdown",
   "metadata": {},
   "source": [
    "## Part 3: Resampling\n",
    "\n",
    "Resampling is the process of changing the time frequency of your data. This is a very common operation.\n",
    "- **Downsampling:** Going from a high frequency to a low frequency (e.g., daily to monthly). You need to aggregate the data (e.g., `sum()`, `mean()`).\n",
    "- **Upsampling:** Going from a low frequency to a high frequency (e.g., daily to hourly). You need to decide how to fill the new data points (e.g., `ffill()`, `bfill()`).\n",
    "\n",
    "We will focus on downsampling."
   ]
  },
  {
   "cell_type": "markdown",
   "metadata": {},
   "source": [
    "**Exercise 3.1:** Downsample our daily sales data to find the total monthly sales. Then, plot the result as a bar chart."
   ]
  },
  {
   "cell_type": "code",
   "execution_count": null,
   "metadata": {},
   "outputs": [],
   "source": [
    "# Your code here"
   ]
  },
  {
   "cell_type": "markdown",
   "metadata": {},
   "source": [
    "**Solution 3.1:**"
   ]
  },
  {
   "cell_type": "code",
   "execution_count": null,
   "metadata": {},
   "outputs": [],
   "source": [
    "# Use the resample() method with a frequency string ('M' for month-end)\n",
    "# Then chain an aggregation method like .sum() or .mean()\n",
    "monthly_sales = df[\"sales\"].resample(\"ME\").sum()\n",
    "\n",
    "# print(\"Total Monthly Sales:\")\n",
    "# display(monthly_sales)\n",
    "\n",
    "# Plot the results\n",
    "monthly_sales.plot(kind=\"bar\", title=\"Total Monthly Sales in 2025\")\n",
    "plt.xlabel(\"Month\")\n",
    "plt.ylabel(\"Total Sales\")\n",
    "plt.xticks(rotation=45)\n",
    "plt.grid(axis=\"y\")\n",
    "plt.show()"
   ]
  },
  {
   "cell_type": "markdown",
   "metadata": {},
   "source": [
    "---"
   ]
  },
  {
   "cell_type": "markdown",
   "metadata": {},
   "source": [
    "## Part 4: Rolling Windows\n",
    "\n",
    "Rolling window calculations are essential for smoothing out short-term fluctuations in time series data and highlighting longer-term trends. A common example is the \"moving average.\""
   ]
  },
  {
   "cell_type": "markdown",
   "metadata": {},
   "source": [
    "**Exercise 4.1:** Calculate the 7-day and 30-day moving average for the sales data. Add these as new columns to our original DataFrame `df`."
   ]
  },
  {
   "cell_type": "code",
   "execution_count": null,
   "metadata": {},
   "outputs": [],
   "source": [
    "# Your code here"
   ]
  },
  {
   "cell_type": "markdown",
   "metadata": {},
   "source": [
    "**Solution 4.1:**"
   ]
  },
  {
   "cell_type": "code",
   "execution_count": null,
   "metadata": {},
   "outputs": [],
   "source": [
    "# Use the .rolling() method with the window size\n",
    "# Then chain an aggregation method like .mean()\n",
    "df[\"7-day MA\"] = df[\"sales\"].rolling(window=7).mean()\n",
    "df[\"30-day MA\"] = df[\"sales\"].rolling(window=30).mean()\n",
    "\n",
    "# Display the DataFrame to see the new columns. Note the NaNs at the beginning!\n",
    "display(df.head(10))"
   ]
  },
  {
   "cell_type": "markdown",
   "metadata": {},
   "source": [
    "**Exercise 4.2:** Plot the original daily sales, the 7-day moving average, and the 30-day moving average on the same graph. Observe how the moving averages smooth out the noise."
   ]
  },
  {
   "cell_type": "code",
   "execution_count": null,
   "metadata": {},
   "outputs": [],
   "source": [
    "# Your code here"
   ]
  },
  {
   "cell_type": "markdown",
   "metadata": {},
   "source": [
    "**Solution 4.2:**"
   ]
  },
  {
   "cell_type": "code",
   "execution_count": null,
   "metadata": {},
   "outputs": [],
   "source": [
    "# Solution\n",
    "df[[\"sales\", \"7-day MA\", \"30-day MA\"]].plot(title=\"Daily Sales with Moving Averages\")\n",
    "plt.xlabel(\"Date\")\n",
    "plt.ylabel(\"Sales\")\n",
    "plt.grid(True)\n",
    "plt.legend()\n",
    "plt.show()"
   ]
  },
  {
   "cell_type": "markdown",
   "metadata": {},
   "source": [
    "Notice how the 7-day average is smoother than the original data, and the 30-day average is even smoother, revealing the underlying upward trend more clearly."
   ]
  },
  {
   "cell_type": "markdown",
   "metadata": {},
   "source": [
    "---"
   ]
  },
  {
   "cell_type": "markdown",
   "metadata": {},
   "source": [
    "### Excellent Work!\n",
    "\n",
    "You've now mastered the fundamentals of time series analysis in Pandas. These skills are incredibly valuable and form the basis for more advanced topics like forecasting.\n",
    "\n",
    "Tomorrow is the final day! You will be given a final project to apply all the skills you've learned over the past two weeks—from NumPy and Pandas to Matplotlib and SciPy—to analyze a new dataset from start to finish."
   ]
  }
 ],
 "metadata": {
  "kernelspec": {
   "display_name": "Python 3",
   "language": "python",
   "name": "python3"
  },
  "language_info": {
   "codemirror_mode": {
    "name": "ipython",
    "version": 3
   },
   "file_extension": ".py",
   "mimetype": "text/x-python",
   "name": "python",
   "nbconvert_exporter": "python",
   "pygments_lexer": "ipython3",
   "version": "3.12.11"
  }
 },
 "nbformat": 4,
 "nbformat_minor": 4
}
