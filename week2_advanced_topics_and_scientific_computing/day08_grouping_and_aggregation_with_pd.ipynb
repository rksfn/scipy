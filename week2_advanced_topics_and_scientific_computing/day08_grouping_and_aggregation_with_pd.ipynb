{
 "cells": [
  {
   "cell_type": "markdown",
   "id": "266c4e8d",
   "metadata": {},
   "source": [
    "# Day 8: Advanced Grouping and Aggregation with Pandas\n",
    "\n",
    "Welcome to Day 8! Today, we're diving deep into one of Pandas' most powerful features: the `groupby` operation. This is the cornerstone of data analysis, allowing you to split your data into groups, apply functions to each group independently, and combine the results into a new data structure."
   ]
  },
  {
   "cell_type": "markdown",
   "id": "7f502088",
   "metadata": {},
   "source": [
    "Let's start by importing the necessary libraries. We'll also import `seaborn` just to load a more realistic dataset called 'tips'."
   ]
  },
  {
   "cell_type": "code",
   "execution_count": 2,
   "id": "2404c532",
   "metadata": {},
   "outputs": [],
   "source": [
    "import pandas as pd\n",
    "import numpy as np\n",
    "import seaborn as sns\n",
    "import matplotlib.pyplot as plt"
   ]
  },
  {
   "cell_type": "markdown",
   "id": "a62f631e",
   "metadata": {},
   "source": [
    "### Loading a Realistic Dataset\n",
    "\n",
    "Instead of a small, custom DataFrame, let's use the 'tips' dataset. It records tips given by diners, along with details about the meal."
   ]
  },
  {
   "cell_type": "code",
   "execution_count": null,
   "id": "b8aeb73b",
   "metadata": {},
   "outputs": [
    {
     "name": "stdout",
     "output_type": "stream",
     "text": [
      "First 5 rows of the Tips dataset:\n",
      "   total_bill   tip     sex smoker  day    time  size\n",
      "0       16.99  1.01  Female     No  Sun  Dinner     2\n",
      "1       10.34  1.66    Male     No  Sun  Dinner     3\n",
      "2       21.01  3.50    Male     No  Sun  Dinner     3\n",
      "3       23.68  3.31    Male     No  Sun  Dinner     2\n",
      "4       24.59  3.61  Female     No  Sun  Dinner     4\n",
      "\n",
      "Dataset Information:\n",
      "<class 'pandas.core.frame.DataFrame'>\n",
      "RangeIndex: 244 entries, 0 to 243\n",
      "Data columns (total 7 columns):\n",
      " #   Column      Non-Null Count  Dtype   \n",
      "---  ------      --------------  -----   \n",
      " 0   total_bill  244 non-null    float64 \n",
      " 1   tip         244 non-null    float64 \n",
      " 2   sex         244 non-null    category\n",
      " 3   smoker      244 non-null    category\n",
      " 4   day         244 non-null    category\n",
      " 5   time        244 non-null    category\n",
      " 6   size        244 non-null    int64   \n",
      "dtypes: category(4), float64(2), int64(1)\n",
      "memory usage: 7.4 KB\n"
     ]
    }
   ],
   "source": [
    "df = sns.load_dataset(\"tips\")\n",
    "\n",
    "print(\"First 5 rows of the Tips dataset:\")\n",
    "print(df.head())\n",
    "\n",
    "print(\"\\nDataset Information:\")\n",
    "df.info()"
   ]
  },
  {
   "cell_type": "markdown",
   "id": "aa0e6ba4",
   "metadata": {},
   "source": [
    "---"
   ]
  },
  {
   "cell_type": "markdown",
   "id": "163ca547",
   "metadata": {},
   "source": [
    "## Part 1: The GroupBy Object and Basic Aggregations\n",
    "\n",
    "When you use `.groupby()`, Pandas creates a special `DataFrameGroupBy` object. This object holds all the information about the groups but doesn't show you anything until you apply an aggregation function to it."
   ]
  },
  {
   "cell_type": "markdown",
   "id": "30341ece",
   "metadata": {},
   "source": [
    "**Exercise 1.1:** Group the DataFrame by the 'day' column and calculate the *average* `total_bill` for each day. "
   ]
  },
  {
   "cell_type": "code",
   "execution_count": 9,
   "id": "442687b6",
   "metadata": {},
   "outputs": [
    {
     "name": "stdout",
     "output_type": "stream",
     "text": [
      "The total bill for each day is: day\n",
      "Thur    17.682742\n",
      "Fri     17.151579\n",
      "Sat     20.441379\n",
      "Sun     21.410000\n",
      "Name: total_bill, dtype: float64\n"
     ]
    }
   ],
   "source": [
    "# Your code here\n",
    "avg_bill_by_day = df.groupby(\"day\", observed=False)[\"total_bill\"].mean()\n",
    "print(f\"The total bill for each day is: {total_bill}\")"
   ]
  },
  {
   "cell_type": "markdown",
   "id": "54bd418a",
   "metadata": {},
   "source": [
    "**Solution 1.1:**"
   ]
  },
  {
   "cell_type": "code",
   "execution_count": 10,
   "id": "872b9148",
   "metadata": {},
   "outputs": [
    {
     "name": "stdout",
     "output_type": "stream",
     "text": [
      "day\n",
      "Thur    17.682742\n",
      "Fri     17.151579\n",
      "Sat     20.441379\n",
      "Sun     21.410000\n",
      "Name: total_bill, dtype: float64\n"
     ]
    }
   ],
   "source": [
    "# Solution\n",
    "avg_bill_by_day = df.groupby(\"day\", observed=True)[\"total_bill\"].mean()\n",
    "print(avg_bill_by_day)"
   ]
  },
  {
   "cell_type": "markdown",
   "id": "7f8165dd",
   "metadata": {},
   "source": [
    "### Inspecting Groups\n",
    "\n",
    "Sometimes it's useful to see the data within a specific group. You can use the `.get_group()` method for this."
   ]
  },
  {
   "cell_type": "markdown",
   "id": "207eb4f8",
   "metadata": {},
   "source": [
    "**Exercise 1.2:** First, create a `DataFrameGroupBy` object by grouping by 'smoker'. Then, use `.get_group('Yes')` to retrieve all the rows for smokers."
   ]
  },
  {
   "cell_type": "code",
   "execution_count": 29,
   "id": "ef98b524",
   "metadata": {},
   "outputs": [
    {
     "name": "stdout",
     "output_type": "stream",
     "text": [
      "    total_bill   tip   sex smoker  day    time  size\n",
      "56       38.01  3.00  Male    Yes  Sat  Dinner     4\n",
      "58       11.24  1.76  Male    Yes  Sat  Dinner     2\n",
      "60       20.29  3.21  Male    Yes  Sat  Dinner     2\n",
      "61       13.81  2.00  Male    Yes  Sat  Dinner     2\n",
      "62       11.02  1.98  Male    Yes  Sat  Dinner     2\n",
      "\n",
      "651\n",
      "93\n"
     ]
    }
   ],
   "source": [
    "# Your code here\n",
    "is_smoker = df.groupby('smoker', observed=False)\n",
    "print(is_smoker.get_group('Yes').head())\n",
    "# print(is_smoker.get_group('Yes').count())\n",
    "print(f'\\n{is_smoker.get_group('Yes').size}')\n",
    "print(len(is_smoker.get_group('Yes')))\n"
   ]
  },
  {
   "cell_type": "markdown",
   "id": "b591984e",
   "metadata": {},
   "source": [
    "**Solution 1.2:**"
   ]
  },
  {
   "cell_type": "code",
   "execution_count": 30,
   "id": "cb05f5af",
   "metadata": {},
   "outputs": [
    {
     "name": "stdout",
     "output_type": "stream",
     "text": [
      "    total_bill   tip   sex smoker  day    time  size\n",
      "56       38.01  3.00  Male    Yes  Sat  Dinner     4\n",
      "58       11.24  1.76  Male    Yes  Sat  Dinner     2\n",
      "60       20.29  3.21  Male    Yes  Sat  Dinner     2\n",
      "61       13.81  2.00  Male    Yes  Sat  Dinner     2\n",
      "62       11.02  1.98  Male    Yes  Sat  Dinner     2\n",
      "smoker\n",
      "No     0.618852\n",
      "Yes    0.381148\n",
      "Name: proportion, dtype: float64\n"
     ]
    }
   ],
   "source": [
    "# Solution\n",
    "grouped_by_smoker = df.groupby(\"smoker\", observed=False)\n",
    "smoker_data = grouped_by_smoker.get_group(\"Yes\")\n",
    "print(smoker_data.head())\n",
    "smokers = df['smoker'].value_counts(normalize=True)\n",
    "print(smokers)\n"
   ]
  },
  {
   "cell_type": "markdown",
   "id": "5cc72399",
   "metadata": {},
   "source": [
    "**Exercise 1.3:** Find the highest tip amount for each day of the week."
   ]
  },
  {
   "cell_type": "code",
   "execution_count": 33,
   "id": "5d61cc6f",
   "metadata": {},
   "outputs": [
    {
     "name": "stdout",
     "output_type": "stream",
     "text": [
      "day\n",
      "Thur     6.70\n",
      "Fri      4.73\n",
      "Sat     10.00\n",
      "Sun      6.50\n",
      "Name: tip, dtype: float64\n"
     ]
    }
   ],
   "source": [
    "# Your code here\n",
    "max_tip_by_day = df.groupby(\"day\", observed=False)['tip'].max()\n",
    "print(max_tip_by_day)"
   ]
  },
  {
   "cell_type": "markdown",
   "id": "1128c3de",
   "metadata": {},
   "source": [
    "**Solution 1.3:**"
   ]
  },
  {
   "cell_type": "code",
   "execution_count": 35,
   "id": "878a1559",
   "metadata": {},
   "outputs": [
    {
     "name": "stdout",
     "output_type": "stream",
     "text": [
      "day\n",
      "Thur     6.70\n",
      "Fri      4.73\n",
      "Sat     10.00\n",
      "Sun      6.50\n",
      "Name: tip, dtype: float64\n"
     ]
    }
   ],
   "source": [
    "# Solution\n",
    "max_tip_by_day = df.groupby(\"day\", observed=False)[\"tip\"].max()\n",
    "print(max_tip_by_day)"
   ]
  },
  {
   "cell_type": "markdown",
   "id": "92c20349",
   "metadata": {},
   "source": [
    "---"
   ]
  },
  {
   "cell_type": "markdown",
   "id": "ff9449d0",
   "metadata": {},
   "source": [
    "## Part 2: Advanced Aggregation with `.agg()`\n",
    "\n",
    "The `.agg()` method is your best friend for advanced aggregation. It allows you to apply multiple functions at once and even apply different functions to different columns."
   ]
  },
  {
   "cell_type": "markdown",
   "id": "33e1f7a4",
   "metadata": {},
   "source": [
    "**Exercise 2.1:** For each 'sex', calculate the sum of 'total_bill' and the mean of 'tip' in a single operation."
   ]
  },
  {
   "cell_type": "code",
   "execution_count": 39,
   "id": "c525f98d",
   "metadata": {},
   "outputs": [
    {
     "name": "stdout",
     "output_type": "stream",
     "text": [
      "        total_bill_sum  mean_tip\n",
      "sex                             \n",
      "Male           3256.82  3.089618\n",
      "Female         1570.95  2.833448\n"
     ]
    }
   ],
   "source": [
    "# Your code here\n",
    "agg_results = df.groupby(\"sex\", observed=False).agg(\n",
    "    total_bill_sum=(\"total_bill\", \"sum\"), mean_tip=(\"tip\", \"mean\")\n",
    ")\n",
    "print(agg_results)"
   ]
  },
  {
   "cell_type": "markdown",
   "id": "35df6576",
   "metadata": {},
   "source": [
    "**Solution 2.1:**"
   ]
  },
  {
   "cell_type": "code",
   "execution_count": 40,
   "id": "335bb1fc",
   "metadata": {},
   "outputs": [
    {
     "name": "stdout",
     "output_type": "stream",
     "text": [
      "        total_bill       tip\n",
      "sex                         \n",
      "Male       3256.82  3.089618\n",
      "Female     1570.95  2.833448\n"
     ]
    },
    {
     "name": "stderr",
     "output_type": "stream",
     "text": [
      "/tmp/ipykernel_6421/829342427.py:2: FutureWarning: The default of observed=False is deprecated and will be changed to True in a future version of pandas. Pass observed=False to retain current behavior or observed=True to adopt the future default and silence this warning.\n",
      "  agg_results = df.groupby(\"sex\").agg({\"total_bill\": \"sum\", \"tip\": \"mean\"})\n"
     ]
    }
   ],
   "source": [
    "# Solution\n",
    "agg_results = df.groupby(\"sex\").agg({\"total_bill\": \"sum\", \"tip\": \"mean\"})\n",
    "print(agg_results)"
   ]
  },
  {
   "cell_type": "markdown",
   "id": "0d42cc74",
   "metadata": {},
   "source": [
    "**Exercise 2.2 (Challenge):** This is a very common and powerful pattern. Group by 'day' and 'time'. For the 'total_bill', calculate the mean and standard deviation. For the 'tip', find the minimum and maximum values. **Bonus:** Rename the columns to be more descriptive (e.g., 'avg_bill', 'std_bill', 'min_tip', 'max_tip')."
   ]
  },
  {
   "cell_type": "code",
   "execution_count": null,
   "id": "48b9554a",
   "metadata": {},
   "outputs": [],
   "source": [
    "# Your code here\n",
    "detailed_agg = df.groupby([\"day\", \"time\"], observed=True).agg(\n",
    "    avg_bill=(\"total_bill\", \"mean\"),\n",
    "    std_bill=(\"total_bill\", \"std\"),\n",
    "    min_tip=(\"tip\", \"min\"),\n",
    "    max_tip=(\"tip\", \"max\")\n",
    ")\n",
    "print(detailed_agg)"
   ]
  },
  {
   "cell_type": "markdown",
   "id": "e19390d9",
   "metadata": {},
   "source": [
    "**Solution 2.2:**"
   ]
  },
  {
   "cell_type": "code",
   "execution_count": null,
   "id": "77469684",
   "metadata": {},
   "outputs": [
    {
     "name": "stdout",
     "output_type": "stream",
     "text": [
      "              avg_bill  std_bill  min_tip  max_tip\n",
      "day  time                                         \n",
      "Thur Lunch   17.664754  7.950334     1.25     6.70\n",
      "     Dinner  18.780000       NaN     3.00     3.00\n",
      "Fri  Lunch   12.845714  2.842228     1.58     3.48\n",
      "     Dinner  19.663333  9.471753     1.00     4.73\n",
      "Sat  Dinner  20.441379  9.480419     1.00    10.00\n",
      "Sun  Dinner  21.410000  8.832122     1.01     6.50\n"
     ]
    }
   ],
   "source": [
    "# Solution\n",
    "detailed_agg = df.groupby([\"day\", \"time\"], observed=True).agg(\n",
    "    avg_bill=(\"total_bill\", \"mean\"),\n",
    "    std_bill=(\"total_bill\", \"std\"),\n",
    "    min_tip=(\"tip\", \"min\"),\n",
    "    max_tip=(\"tip\", \"max\"),\n",
    ")\n",
    "print(detailed_agg)"
   ]
  },
  {
   "cell_type": "markdown",
   "id": "7d4a5661",
   "metadata": {},
   "source": [
    "**Exercise 2.3 (Visualization):** Let's visualize the results from Exercise 1.1. Create a bar chart showing the average total bill for each day."
   ]
  },
  {
   "cell_type": "code",
   "execution_count": null,
   "id": "a940bfb3",
   "metadata": {},
   "outputs": [],
   "source": [
    "# Your code here\n",
    "# Hint: The result of your groupby operation is a Pandas Series, which can be plotted directly.\n",
    "plt.bar(x=avg_bill_by_day.index, height=avg_bill_by_day.values, color=\"skyblue\", edgecolor=\"black\")\n",
    "plt.grid(axis=\"y\", linestyle=\"--\")\n",
    "plt.title(\"Average Bill By Day\")\n",
    "plt.xlabel(\"Day\")\n",
    "plt.ylabel(\"Bill($)\")"
   ]
  },
  {
   "cell_type": "code",
   "execution_count": 61,
   "id": "b9035d14",
   "metadata": {},
   "outputs": [
    {
     "data": {
      "image/png": "[encoded data removed]",
      "text/plain": [
       "<Figure size 640x480 with 1 Axes>"
      ]
     },
     "metadata": {},
     "output_type": "display_data"
    }
   ],
   "source": [
    "from matplotlib.ticker import FuncFormatter\n",
    "x = avg_bill_by_day.index\n",
    "y = avg_bill_by_day.values\n",
    "\n",
    "plt.bar(x=x,\n",
    "        height=y,\n",
    "        color=\"skyblue\",\n",
    "        edgecolor=\"black\")\n",
    "\n",
    "ax = plt.gca()\n",
    "\n",
    "def fmt_dollar(value, pos):\n",
    "    \"\"\"Return a string like `$12.34`.\"\"\"\n",
    "    return f\"${value:,.2f}\"      \n",
    "\n",
    "ax.yaxis.set_major_formatter(FuncFormatter(fmt_dollar))\n",
    "\n",
    "plt.grid(axis=\"y\", linestyle=\"--\")\n",
    "plt.title(\"Average Bill By Day\")\n",
    "plt.xlabel(\"Day\")\n",
    "plt.ylabel(\"Bill\")\n",
    "\n",
    "plt.tight_layout()\n",
    "plt.show()\n"
   ]
  },
  {
   "cell_type": "markdown",
   "id": "7f13c02c",
   "metadata": {},
   "source": [
    "**Solution 2.3:**"
   ]
  },
  {
   "cell_type": "code",
   "execution_count": 60,
   "id": "87de0acf",
   "metadata": {},
   "outputs": [
    {
     "name": "stderr",
     "output_type": "stream",
     "text": [
      "/tmp/ipykernel_6421/3575189794.py:2: FutureWarning: The default of observed=False is deprecated and will be changed to True in a future version of pandas. Pass observed=False to retain current behavior or observed=True to adopt the future default and silence this warning.\n",
      "  avg_bill_by_day = df.groupby(\"day\")[\"total_bill\"].mean()\n"
     ]
    },
    {
     "data": {
      "image/png": "[encoded data removed]",
      "text/plain": [
       "<Figure size 1000x600 with 1 Axes>"
      ]
     },
     "metadata": {},
     "output_type": "display_data"
    }
   ],
   "source": [
    "# Solution\n",
    "avg_bill_by_day = df.groupby(\"day\")[\"total_bill\"].mean()\n",
    "\n",
    "avg_bill_by_day.plot(kind=\"bar\", figsize=(10, 6), color=\"skyblue\")\n",
    "\n",
    "plt.title(\"Average Total Bill by Day of the Week\")\n",
    "plt.xlabel(\"Day of the Week\")\n",
    "plt.ylabel(\"Average Total Bill ($)\")\n",
    "plt.xticks(rotation=0)  # Keep x-axis labels horizontal\n",
    "plt.grid(axis=\"y\", linestyle=\"--\")\n",
    "plt.show()"
   ]
  },
  {
   "cell_type": "markdown",
   "id": "123d9063",
   "metadata": {},
   "source": [
    "---"
   ]
  },
  {
   "cell_type": "markdown",
   "id": "8157ae9e",
   "metadata": {},
   "source": [
    "## Part 3: Handling the Index (`as_index=False` and `reset_index`)\n",
    "\n",
    "By default, `groupby` makes the grouping columns the index of the resulting DataFrame. Often, you want to keep them as regular columns. You can do this with `as_index=False` or by calling `.reset_index()` on the result."
   ]
  },
  {
   "cell_type": "markdown",
   "id": "73686045",
   "metadata": {},
   "source": [
    "**Exercise 3.1:** Repeat the aggregation from Exercise 2.2, but this time, keep 'day' and 'time' as regular columns in the final DataFrame by using `as_index=False`."
   ]
  },
  {
   "cell_type": "code",
   "execution_count": 71,
   "id": "887b2fa5",
   "metadata": {},
   "outputs": [
    {
     "name": "stdout",
     "output_type": "stream",
     "text": [
      "    day    time   avg_bill  std_bill  min_tip  max_tip\n",
      "0   Fri  Dinner  19.663333  9.471753     1.00     4.73\n",
      "1   Fri   Lunch  12.845714  2.842228     1.58     3.48\n",
      "2   Sat  Dinner  20.441379  9.480419     1.00    10.00\n",
      "3   Sun  Dinner  21.410000  8.832122     1.01     6.50\n",
      "4  Thur  Dinner  18.780000       NaN     3.00     3.00\n",
      "5  Thur   Lunch  17.664754  7.950334     1.25     6.70\n"
     ]
    }
   ],
   "source": [
    "# Your code here\n",
    "df[\"day\"] = df[\"day\"].astype(str)\n",
    "df[\"time\"] = df[\"time\"].astype(str)\n",
    "flat_agg = df.groupby([\"day\", \"time\"], as_index=False).agg(\n",
    "    avg_bill=(\"total_bill\", \"mean\"),\n",
    "    std_bill=(\"total_bill\", \"std\"),\n",
    "    min_tip=(\"tip\", \"min\"),\n",
    "    max_tip=(\"tip\", \"max\"),\n",
    ")\n",
    "print(flat_agg)"
   ]
  },
  {
   "cell_type": "markdown",
   "id": "56e95086",
   "metadata": {},
   "source": [
    "**Solution 3.1:**"
   ]
  },
  {
   "cell_type": "code",
   "execution_count": 75,
   "id": "9585b1e8",
   "metadata": {},
   "outputs": [
    {
     "name": "stdout",
     "output_type": "stream",
     "text": [
      "    day    time   avg_bill  std_bill  min_tip  max_tip\n",
      "0   Fri  Dinner  19.663333  9.471753     1.00     4.73\n",
      "1   Fri   Lunch  12.845714  2.842228     1.58     3.48\n",
      "2   Sat  Dinner  20.441379  9.480419     1.00    10.00\n",
      "3   Sun  Dinner  21.410000  8.832122     1.01     6.50\n",
      "4  Thur  Dinner  18.780000       NaN     3.00     3.00\n",
      "5  Thur   Lunch  17.664754  7.950334     1.25     6.70\n"
     ]
    }
   ],
   "source": [
    "# Solution\n",
    "df[\"day\"] = df[\"day\"].astype(str)\n",
    "df[\"time\"] = df[\"time\"].astype(str)\n",
    "flat_agg = df.groupby([\"day\", \"time\"], as_index=False).agg(\n",
    "    avg_bill=(\"total_bill\", \"mean\"),\n",
    "    std_bill=(\"total_bill\", \"std\"),\n",
    "    min_tip=(\"tip\", \"min\"),\n",
    "    max_tip=(\"tip\", \"max\"),\n",
    ")\n",
    "\n",
    "print(flat_agg)"
   ]
  },
  {
   "cell_type": "markdown",
   "id": "7bc420fe",
   "metadata": {},
   "source": [
    "---"
   ]
  },
  {
   "cell_type": "markdown",
   "id": "3818b0da",
   "metadata": {},
   "source": [
    "## Part 4: Beyond Aggregation - `transform` and `filter`\n",
    "\n",
    "Grouping isn't just for summarizing. You can also use it to create new features or filter your data.\n",
    "\n",
    "### `transform`\n",
    "`transform` returns a Series that has the same index as the original DataFrame, making it perfect for creating new columns."
   ]
  },
  {
   "cell_type": "markdown",
   "id": "5dce90f8",
   "metadata": {},
   "source": [
    "**Exercise 4.1:** Create a new column in the original DataFrame called `avg_bill_for_day` that contains the average `total_bill` for the day that each row's transaction occurred on. "
   ]
  },
  {
   "cell_type": "code",
   "execution_count": 81,
   "id": "7bf64a85",
   "metadata": {},
   "outputs": [
    {
     "name": "stdout",
     "output_type": "stream",
     "text": [
      "     total_bill   tip     sex smoker   day    time  size  avg_bill_for_day\n",
      "234       15.53  3.00    Male    Yes   Sat  Dinner     2         20.441379\n",
      "235       10.07  1.25    Male     No   Sat  Dinner     2         20.441379\n",
      "236       12.60  1.00    Male    Yes   Sat  Dinner     2         20.441379\n",
      "237       32.83  1.17    Male    Yes   Sat  Dinner     2         20.441379\n",
      "238       35.83  4.67  Female     No   Sat  Dinner     3         20.441379\n",
      "239       29.03  5.92    Male     No   Sat  Dinner     3         20.441379\n",
      "240       27.18  2.00  Female    Yes   Sat  Dinner     2         20.441379\n",
      "241       22.67  2.00    Male    Yes   Sat  Dinner     2         20.441379\n",
      "242       17.82  1.75    Male     No   Sat  Dinner     2         20.441379\n",
      "243       18.78  3.00  Female     No  Thur  Dinner     2         17.682742\n"
     ]
    }
   ],
   "source": [
    "# Your code here\n",
    "df[\"avg_bill_for_day\"]= df.groupby(\"day\")[\"total_bill\"].transform(\"mean\")\n",
    "print(df.tail(10))"
   ]
  },
  {
   "cell_type": "markdown",
   "id": "885b45ef",
   "metadata": {},
   "source": [
    "**Solution 4.1:**"
   ]
  },
  {
   "cell_type": "code",
   "execution_count": 78,
   "id": "811594a5",
   "metadata": {},
   "outputs": [
    {
     "name": "stdout",
     "output_type": "stream",
     "text": [
      "   total_bill   tip     sex smoker  day    time  size  avg_bill_for_day\n",
      "0       16.99  1.01  Female     No  Sun  Dinner     2             21.41\n",
      "1       10.34  1.66    Male     No  Sun  Dinner     3             21.41\n",
      "2       21.01  3.50    Male     No  Sun  Dinner     3             21.41\n",
      "3       23.68  3.31    Male     No  Sun  Dinner     2             21.41\n",
      "4       24.59  3.61  Female     No  Sun  Dinner     4             21.41\n"
     ]
    }
   ],
   "source": [
    "# Solution\n",
    "df[\"avg_bill_for_day\"] = df.groupby(\"day\")[\"total_bill\"].transform(\"mean\")\n",
    "print(df.head())"
   ]
  },
  {
   "cell_type": "markdown",
   "id": "03764d0b",
   "metadata": {},
   "source": [
    "### `filter`\n",
    "`filter` allows you to drop entire groups based on a condition."
   ]
  },
  {
   "cell_type": "markdown",
   "id": "0db7c545",
   "metadata": {},
   "source": [
    "**Exercise 4.2:** Filter the DataFrame to only include data for days where the *total number of transactions* (i.e., the count of rows for that day) was greater than 50."
   ]
  },
  {
   "cell_type": "code",
   "execution_count": 85,
   "id": "76dcc000",
   "metadata": {},
   "outputs": [
    {
     "name": "stdout",
     "output_type": "stream",
     "text": [
      "Original number of rows: 244\n",
      "number of rows after filtering: 225\n",
      "\n",
      "Remaining days in the filtered data:\n",
      "day\n",
      "Sat     87\n",
      "Sun     76\n",
      "Thur    62\n",
      "Name: count, dtype: int64\n"
     ]
    }
   ],
   "source": [
    "# Your code here\n",
    "over_50_tpd = df.groupby(\"day\").filter(lambda x: len(x) > 50)\n",
    "\n",
    "print(\"Original number of rows:\", len(df))\n",
    "print(\"number of rows after filtering:\", len(over_50_tpd))\n",
    "\n",
    "print(\"\\nRemaining days in the filtered data:\")\n",
    "print(over_50_tpd[\"day\"].value_counts())"
   ]
  },
  {
   "cell_type": "markdown",
   "id": "c6c346af",
   "metadata": {},
   "source": [
    "**Solution 4.2:**"
   ]
  },
  {
   "cell_type": "code",
   "execution_count": 86,
   "id": "0e7293a7",
   "metadata": {},
   "outputs": [
    {
     "name": "stdout",
     "output_type": "stream",
     "text": [
      "Original number of rows: 244\n",
      "Number of rows after filtering: 225\n",
      "\n",
      "Remaining days in the filtered data:\n",
      "day\n",
      "Sat     87\n",
      "Sun     76\n",
      "Thur    62\n",
      "Name: count, dtype: int64\n"
     ]
    }
   ],
   "source": [
    "# Solution\n",
    "# The lambda function is applied to each group (each day's sub-DataFrame)\n",
    "# It must return True or False. If True, the group is kept.\n",
    "filtered_df = df.groupby(\"day\").filter(lambda x: len(x) > 50)\n",
    "\n",
    "print(\"Original number of rows:\", len(df))\n",
    "print(\"Number of rows after filtering:\", len(filtered_df))\n",
    "\n",
    "print(\"\\nRemaining days in the filtered data:\")\n",
    "print(filtered_df[\"day\"].value_counts())"
   ]
  },
  {
   "cell_type": "markdown",
   "id": "df3e1f72",
   "metadata": {},
   "source": [
    "---"
   ]
  },
  {
   "cell_type": "markdown",
   "id": "d580e7c3",
   "metadata": {},
   "source": [
    "### Incredible work!\n",
    "\n",
    "You've gone far beyond basic `groupby` and explored some of the most practical and powerful data manipulation techniques in Pandas. The ability to `agg`, `transform`, and `filter` will form the backbone of almost any analysis you perform. Tomorrow, we'll look at how to combine different datasets."
   ]
  }
 ],
 "metadata": {
  "kernelspec": {
   "display_name": "Python 3",
   "language": "python",
   "name": "python3"
  },
  "language_info": {
   "codemirror_mode": {
    "name": "ipython",
    "version": 3
   },
   "file_extension": ".py",
   "mimetype": "text/x-python",
   "name": "python",
   "nbconvert_exporter": "python",
   "pygments_lexer": "ipython3",
   "version": "3.12.11"
  }
 },
 "nbformat": 4,
 "nbformat_minor": 5
}
