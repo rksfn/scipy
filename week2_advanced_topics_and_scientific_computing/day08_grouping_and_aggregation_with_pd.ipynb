{
 "cells": [
  {
   "cell_type": "markdown",
   "id": "266c4e8d",
   "metadata": {},
   "source": [
    "# Day 8: Advanced Grouping and Aggregation with Pandas\n",
    "\n",
    "Welcome to Day 8! Today, we're diving deep into one of Pandas' most powerful features: the `groupby` operation. This is the cornerstone of data analysis, allowing you to split your data into groups, apply functions to each group independently, and combine the results into a new data structure."
   ]
  },
  {
   "cell_type": "markdown",
   "id": "7f502088",
   "metadata": {},
   "source": [
    "Let's start by importing the necessary libraries. We'll also import `seaborn` just to load a more realistic dataset called 'tips'."
   ]
  },
  {
   "cell_type": "code",
   "execution_count": null,
   "id": "2404c532",
   "metadata": {},
   "outputs": [],
   "source": [
    "import seaborn as sns\n",
    "import matplotlib.pyplot as plt"
   ]
  },
  {
   "cell_type": "markdown",
   "id": "a62f631e",
   "metadata": {},
   "source": [
    "### Loading a Realistic Dataset\n",
    "\n",
    "Instead of a small, custom DataFrame, let's use the 'tips' dataset. It records tips given by diners, along with details about the meal."
   ]
  },
  {
   "cell_type": "code",
   "execution_count": null,
   "id": "b8aeb73b",
   "metadata": {},
   "outputs": [],
   "source": [
    "df = sns.load_dataset(\"tips\")\n",
    "\n",
    "print(\"First 5 rows of the Tips dataset:\")\n",
    "print(df.head())\n",
    "\n",
    "print(\"\\nDataset Information:\")\n",
    "df.info()"
   ]
  },
  {
   "cell_type": "markdown",
   "id": "aa0e6ba4",
   "metadata": {},
   "source": [
    "---"
   ]
  },
  {
   "cell_type": "markdown",
   "id": "163ca547",
   "metadata": {},
   "source": [
    "## Part 1: The GroupBy Object and Basic Aggregations\n",
    "\n",
    "When you use `.groupby()`, Pandas creates a special `DataFrameGroupBy` object. This object holds all the information about the groups but doesn't show you anything until you apply an aggregation function to it."
   ]
  },
  {
   "cell_type": "markdown",
   "id": "30341ece",
   "metadata": {},
   "source": [
    "**Exercise 1.1:** Group the DataFrame by the 'day' column and calculate the *average* `total_bill` for each day. "
   ]
  },
  {
   "cell_type": "code",
   "execution_count": null,
   "id": "442687b6",
   "metadata": {},
   "outputs": [],
   "source": [
    "# Your code here"
   ]
  },
  {
   "cell_type": "markdown",
   "id": "54bd418a",
   "metadata": {},
   "source": [
    "**Solution 1.1:**"
   ]
  },
  {
   "cell_type": "code",
   "execution_count": null,
   "id": "872b9148",
   "metadata": {},
   "outputs": [],
   "source": [
    "# Solution\n",
    "avg_bill_by_day = df.groupby(\"day\", observed=True)[\"total_bill\"].mean()\n",
    "print(avg_bill_by_day)"
   ]
  },
  {
   "cell_type": "markdown",
   "id": "7f8165dd",
   "metadata": {},
   "source": [
    "### Inspecting Groups\n",
    "\n",
    "Sometimes it's useful to see the data within a specific group. You can use the `.get_group()` method for this."
   ]
  },
  {
   "cell_type": "markdown",
   "id": "207eb4f8",
   "metadata": {},
   "source": [
    "**Exercise 1.2:** First, create a `DataFrameGroupBy` object by grouping by 'smoker'. Then, use `.get_group('Yes')` to retrieve all the rows for smokers."
   ]
  },
  {
   "cell_type": "code",
   "execution_count": null,
   "id": "ef98b524",
   "metadata": {},
   "outputs": [],
   "source": [
    "# Your code here"
   ]
  },
  {
   "cell_type": "markdown",
   "id": "b591984e",
   "metadata": {},
   "source": [
    "**Solution 1.2:**"
   ]
  },
  {
   "cell_type": "code",
   "execution_count": null,
   "id": "cb05f5af",
   "metadata": {},
   "outputs": [],
   "source": [
    "# Solution\n",
    "grouped_by_smoker = df.groupby(\"smoker\", observed=False)\n",
    "smoker_data = grouped_by_smoker.get_group(\"Yes\")\n",
    "print(smoker_data.head())\n",
    "smokers = df['smoker'].value_counts(normalize=True)\n",
    "print(smokers)\n"
   ]
  },
  {
   "cell_type": "markdown",
   "id": "5cc72399",
   "metadata": {},
   "source": [
    "**Exercise 1.3:** Find the highest tip amount for each day of the week."
   ]
  },
  {
   "cell_type": "code",
   "execution_count": null,
   "id": "5d61cc6f",
   "metadata": {},
   "outputs": [],
   "source": [
    "# Your code here"
   ]
  },
  {
   "cell_type": "markdown",
   "id": "1128c3de",
   "metadata": {},
   "source": [
    "**Solution 1.3:**"
   ]
  },
  {
   "cell_type": "code",
   "execution_count": null,
   "id": "878a1559",
   "metadata": {},
   "outputs": [],
   "source": [
    "# Solution\n",
    "max_tip_by_day = df.groupby(\"day\", observed=False)[\"tip\"].max()\n",
    "print(max_tip_by_day)"
   ]
  },
  {
   "cell_type": "markdown",
   "id": "92c20349",
   "metadata": {},
   "source": [
    "---"
   ]
  },
  {
   "cell_type": "markdown",
   "id": "ff9449d0",
   "metadata": {},
   "source": [
    "## Part 2: Advanced Aggregation with `.agg()`\n",
    "\n",
    "The `.agg()` method is your best friend for advanced aggregation. It allows you to apply multiple functions at once and even apply different functions to different columns."
   ]
  },
  {
   "cell_type": "markdown",
   "id": "33e1f7a4",
   "metadata": {},
   "source": [
    "**Exercise 2.1:** For each 'sex', calculate the sum of 'total_bill' and the mean of 'tip' in a single operation."
   ]
  },
  {
   "cell_type": "code",
   "execution_count": null,
   "id": "c525f98d",
   "metadata": {},
   "outputs": [],
   "source": [
    "# Your code here"
   ]
  },
  {
   "cell_type": "markdown",
   "id": "35df6576",
   "metadata": {},
   "source": [
    "**Solution 2.1:**"
   ]
  },
  {
   "cell_type": "code",
   "execution_count": null,
   "id": "335bb1fc",
   "metadata": {},
   "outputs": [],
   "source": [
    "# Solution\n",
    "agg_results = df.groupby(\"sex\", observed=False).agg(\n",
    "    total_bill_sum=(\"total_bill\", \"sum\"), mean_tip=(\"tip\", \"mean\")\n",
    ")\n",
    "print(agg_results)"
   ]
  },
  {
   "cell_type": "markdown",
   "id": "0d42cc74",
   "metadata": {},
   "source": [
    "**Exercise 2.2 (Challenge):** This is a very common and powerful pattern. Group by 'day' and 'time'. For the 'total_bill', calculate the mean and standard deviation. For the 'tip', find the minimum and maximum values. **Bonus:** Rename the columns to be more descriptive (e.g., 'avg_bill', 'std_bill', 'min_tip', 'max_tip')."
   ]
  },
  {
   "cell_type": "code",
   "execution_count": null,
   "id": "48b9554a",
   "metadata": {},
   "outputs": [],
   "source": [
    "# Your code here"
   ]
  },
  {
   "cell_type": "markdown",
   "id": "e19390d9",
   "metadata": {},
   "source": [
    "**Solution 2.2:**"
   ]
  },
  {
   "cell_type": "code",
   "execution_count": null,
   "id": "77469684",
   "metadata": {},
   "outputs": [],
   "source": [
    "# Solution\n",
    "detailed_agg = df.groupby([\"day\", \"time\"], observed=True).agg(\n",
    "    avg_bill=(\"total_bill\", \"mean\"),\n",
    "    std_bill=(\"total_bill\", \"std\"),\n",
    "    min_tip=(\"tip\", \"min\"),\n",
    "    max_tip=(\"tip\", \"max\"),\n",
    ")\n",
    "print(detailed_agg)"
   ]
  },
  {
   "cell_type": "markdown",
   "id": "7d4a5661",
   "metadata": {},
   "source": [
    "**Exercise 2.3 (Visualization):** Let's visualize the results from Exercise 1.1. Create a bar chart showing the average total bill for each day."
   ]
  },
  {
   "cell_type": "code",
   "execution_count": null,
   "id": "a940bfb3",
   "metadata": {},
   "outputs": [],
   "source": [
    "# Your code here\n",
    "# Hint: The result of your groupby operation is a Pandas Series, which can be plotted directly."
   ]
  },
  {
   "cell_type": "markdown",
   "id": "7f13c02c",
   "metadata": {},
   "source": [
    "**Solution 2.3:**"
   ]
  },
  {
   "cell_type": "code",
   "execution_count": null,
   "id": "87de0acf",
   "metadata": {},
   "outputs": [],
   "source": [
    "# Solution\n",
    "plt.bar(x=avg_bill_by_day.index, height=avg_bill_by_day.values, color=\"skyblue\", edgecolor=\"black\")\n",
    "plt.grid(axis=\"y\", linestyle=\"--\")\n",
    "plt.title(\"Average Bill By Day\")\n",
    "plt.xlabel(\"Day\")\n",
    "plt.ylabel(\"Bill($)\")\n",
    "plt.show()"
   ]
  },
  {
   "cell_type": "markdown",
   "id": "123d9063",
   "metadata": {},
   "source": [
    "---"
   ]
  },
  {
   "cell_type": "markdown",
   "id": "8157ae9e",
   "metadata": {},
   "source": [
    "## Part 3: Handling the Index (`as_index=False` and `reset_index`)\n",
    "\n",
    "By default, `groupby` makes the grouping columns the index of the resulting DataFrame. Often, you want to keep them as regular columns. You can do this with `as_index=False` or by calling `.reset_index()` on the result."
   ]
  },
  {
   "cell_type": "markdown",
   "id": "73686045",
   "metadata": {},
   "source": [
    "**Exercise 3.1:** Repeat the aggregation from Exercise 2.2, but this time, keep 'day' and 'time' as regular columns in the final DataFrame by using `as_index=False`."
   ]
  },
  {
   "cell_type": "code",
   "execution_count": null,
   "id": "887b2fa5",
   "metadata": {},
   "outputs": [],
   "source": [
    "# Your code here"
   ]
  },
  {
   "cell_type": "markdown",
   "id": "56e95086",
   "metadata": {},
   "source": [
    "**Solution 3.1:**"
   ]
  },
  {
   "cell_type": "code",
   "execution_count": null,
   "id": "9585b1e8",
   "metadata": {},
   "outputs": [],
   "source": [
    "# Solution\n",
    "df[\"day\"] = df[\"day\"].astype(str)\n",
    "df[\"time\"] = df[\"time\"].astype(str)\n",
    "flat_agg = df.groupby([\"day\", \"time\"], as_index=False).agg(\n",
    "    avg_bill=(\"total_bill\", \"mean\"),\n",
    "    std_bill=(\"total_bill\", \"std\"),\n",
    "    min_tip=(\"tip\", \"min\"),\n",
    "    max_tip=(\"tip\", \"max\"),\n",
    ")\n",
    "\n",
    "print(flat_agg)"
   ]
  },
  {
   "cell_type": "markdown",
   "id": "7bc420fe",
   "metadata": {},
   "source": [
    "---"
   ]
  },
  {
   "cell_type": "markdown",
   "id": "3818b0da",
   "metadata": {},
   "source": [
    "## Part 4: Beyond Aggregation - `transform` and `filter`\n",
    "\n",
    "Grouping isn't just for summarizing. You can also use it to create new features or filter your data.\n",
    "\n",
    "### `transform`\n",
    "`transform` returns a Series that has the same index as the original DataFrame, making it perfect for creating new columns."
   ]
  },
  {
   "cell_type": "markdown",
   "id": "5dce90f8",
   "metadata": {},
   "source": [
    "**Exercise 4.1:** Create a new column in the original DataFrame called `avg_bill_for_day` that contains the average `total_bill` for the day that each row's transaction occurred on. "
   ]
  },
  {
   "cell_type": "code",
   "execution_count": null,
   "id": "7bf64a85",
   "metadata": {},
   "outputs": [],
   "source": [
    "# Your code here"
   ]
  },
  {
   "cell_type": "markdown",
   "id": "885b45ef",
   "metadata": {},
   "source": [
    "**Solution 4.1:**"
   ]
  },
  {
   "cell_type": "code",
   "execution_count": null,
   "id": "811594a5",
   "metadata": {},
   "outputs": [],
   "source": [
    "# Solution\n",
    "df[\"avg_bill_for_day\"] = df.groupby(\"day\")[\"total_bill\"].transform(\"mean\")\n",
    "print(df.head())"
   ]
  },
  {
   "cell_type": "markdown",
   "id": "03764d0b",
   "metadata": {},
   "source": [
    "### `filter`\n",
    "`filter` allows you to drop entire groups based on a condition."
   ]
  },
  {
   "cell_type": "markdown",
   "id": "0db7c545",
   "metadata": {},
   "source": [
    "**Exercise 4.2:** Filter the DataFrame to only include data for days where the *total number of transactions* (i.e., the count of rows for that day) was greater than 50."
   ]
  },
  {
   "cell_type": "code",
   "execution_count": null,
   "id": "76dcc000",
   "metadata": {},
   "outputs": [],
   "source": [
    "# Your code here"
   ]
  },
  {
   "cell_type": "markdown",
   "id": "c6c346af",
   "metadata": {},
   "source": [
    "**Solution 4.2:**"
   ]
  },
  {
   "cell_type": "code",
   "execution_count": null,
   "id": "0e7293a7",
   "metadata": {},
   "outputs": [],
   "source": [
    "# Solution\n",
    "# The lambda function is applied to each group (each day's sub-DataFrame)\n",
    "# It must return True or False. If True, the group is kept.\n",
    "filtered_df = df.groupby(\"day\").filter(lambda x: len(x) > 50)\n",
    "\n",
    "print(\"Original number of rows:\", len(df))\n",
    "print(\"Number of rows after filtering:\", len(filtered_df))\n",
    "\n",
    "print(\"\\nRemaining days in the filtered data:\")\n",
    "print(filtered_df[\"day\"].value_counts())"
   ]
  },
  {
   "cell_type": "markdown",
   "id": "df3e1f72",
   "metadata": {},
   "source": [
    "---"
   ]
  },
  {
   "cell_type": "markdown",
   "id": "d580e7c3",
   "metadata": {},
   "source": [
    "### Incredible work!\n",
    "\n",
    "You've gone far beyond basic `groupby` and explored some of the most practical and powerful data manipulation techniques in Pandas. The ability to `agg`, `transform`, and `filter` will form the backbone of almost any analysis you perform. Tomorrow, we'll look at how to combine different datasets."
   ]
  }
 ],
 "metadata": {
  "kernelspec": {
   "display_name": "Python 3",
   "language": "python",
   "name": "python3"
  },
  "language_info": {
   "codemirror_mode": {
    "name": "ipython",
    "version": 3
   },
   "file_extension": ".py",
   "mimetype": "text/x-python",
   "name": "python",
   "nbconvert_exporter": "python",
   "pygments_lexer": "ipython3",
   "version": "3.12.11"
  }
 },
 "nbformat": 4,
 "nbformat_minor": 5
}
