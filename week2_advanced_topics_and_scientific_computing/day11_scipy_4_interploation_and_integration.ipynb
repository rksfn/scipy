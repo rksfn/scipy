{
 "cells": [
  {
   "cell_type": "markdown",
   "metadata": {},
   "source": [
    "# Day 11: SciPy for Interpolation and Integration\n",
    "\n",
    "On Day 10, we explored statistics, optimization, and linear algebra. Today, we'll dive into two more fundamental capabilities of SciPy: interpolation and integration.\n",
    "\n",
    "- **Interpolation:** Estimating unknown values that fall between known data points.\n",
    "- **Integration:** Calculating the area under a curve, a common task in physics, engineering, and finance."
   ]
  },
  {
   "cell_type": "markdown",
   "metadata": {},
   "source": [
    "Let's begin by importing our standard toolkit of libraries."
   ]
  },
  {
   "cell_type": "code",
   "execution_count": null,
   "metadata": {},
   "outputs": [],
   "source": [
    "import numpy as np\n",
    "import matplotlib.pyplot as plt\n",
    "from scipy import interpolate\n",
    "from scipy import integrate"
   ]
  },
  {
   "cell_type": "markdown",
   "metadata": {},
   "source": [
    "---"
   ]
  },
  {
   "cell_type": "markdown",
   "metadata": {},
   "source": [
    "## Part 1: Interpolation with `scipy.interpolate`\n",
    "\n",
    "Imagine you've run an experiment and collected a few data points, but you need to know the values at points you didn't measure. Interpolation helps you create a function that passes through your known points, allowing you to estimate the in-between values.\n",
    "\n",
    "Let's create some sparse sample data, as if we measured a few points on a sine wave."
   ]
  },
  {
   "cell_type": "code",
   "execution_count": null,
   "metadata": {},
   "outputs": [],
   "source": [
    "# Our sparse, known data points\n",
    "x_known = np.array([0, 1, 2, 3, 4, 5, 6])\n",
    "y_known = np.sin(x_known)\n",
    "\n",
    "# Let's visualize our known data\n",
    "plt.figure(figsize=(10, 6))\n",
    "plt.plot(x_known, y_known, \"o\", markersize=10, label=\"Known Data Points\")\n",
    "plt.title(\"Sparse Experimental Data\")\n",
    "plt.xlabel(\"x\")\n",
    "plt.ylabel(\"sin(x)\")\n",
    "plt.legend()\n",
    "plt.grid(True)\n",
    "plt.show()"
   ]
  },
  {
   "cell_type": "markdown",
   "metadata": {},
   "source": [
    "Now, we want to estimate the values for `sin(x)` at much higher resolution.\n",
    "\n",
    "**Exercise 1.1:** Use `interpolate.interp1d` to create a **linear** interpolation function from our known data. Then, use this function to calculate the y-values for a new, denser set of x-values. Finally, plot the results."
   ]
  },
  {
   "cell_type": "code",
   "execution_count": null,
   "metadata": {},
   "outputs": [],
   "source": [
    "# Your code here"
   ]
  },
  {
   "cell_type": "markdown",
   "metadata": {},
   "source": [
    "**Solution 1.1:**"
   ]
  },
  {
   "cell_type": "code",
   "execution_count": null,
   "metadata": {},
   "outputs": [],
   "source": [
    "# Create a linear interpolation function\n",
    "# The 'kind' argument specifies the type of interpolation\n",
    "f_linear = interpolate.interp1d(x_known, y_known, kind=\"linear\")\n",
    "\n",
    "# Create a dense set of x-values where we want to estimate y\n",
    "x_dense = np.linspace(0, 6, 100)\n",
    "\n",
    "# Use our function to find the interpolated y-values\n",
    "y_linear_interp = f_linear(x_dense)\n",
    "\n",
    "# Plot everything together\n",
    "plt.figure(figsize=(10, 6))\n",
    "plt.plot(x_known, y_known, \"o\", markersize=10, label=\"Known Data Points\")\n",
    "plt.plot(x_dense, y_linear_interp, \"-\", label=\"Linear Interpolation\")\n",
    "plt.title(\"Linear Interpolation\")\n",
    "plt.xlabel(\"x\")\n",
    "plt.ylabel(\"y\")\n",
    "plt.legend()\n",
    "plt.grid(True)\n",
    "plt.show()"
   ]
  },
  {
   "cell_type": "markdown",
   "metadata": {},
   "source": [
    "As you can see, linear interpolation simply connects the known points with straight lines. We can often get a smoother, more accurate result using a more advanced method, like a cubic spline.\n",
    "\n",
    "**Exercise 1.2:** Repeat the process from Exercise 1.1, but this time, create a **cubic** interpolation function by setting `kind='cubic'`. Plot the cubic interpolation, the linear interpolation, and the original points on the same graph to compare them."
   ]
  },
  {
   "cell_type": "code",
   "execution_count": null,
   "metadata": {},
   "outputs": [],
   "source": [
    "# Your code here"
   ]
  },
  {
   "cell_type": "markdown",
   "metadata": {},
   "source": [
    "**Solution 1.2:**"
   ]
  },
  {
   "cell_type": "code",
   "execution_count": null,
   "metadata": {},
   "outputs": [],
   "source": [
    "# Create a cubic interpolation function\n",
    "f_cubic = interpolate.interp1d(x_known, y_known, kind=\"cubic\")\n",
    "\n",
    "# Use the function to find the interpolated y-values\n",
    "y_cubic_interp = f_cubic(x_dense)\n",
    "\n",
    "# Plot everything for comparison\n",
    "plt.figure(figsize=(12, 7))\n",
    "plt.plot(x_known, y_known, \"o\", markersize=10, label=\"Known Data Points\")\n",
    "plt.plot(\n",
    "    x_dense, y_linear_interp, \"--\", label=\"Linear Interpolation\"\n",
    ")  # Dashed line for linear\n",
    "plt.plot(\n",
    "    x_dense, y_cubic_interp, \"-\", label=\"Cubic Interpolation\"\n",
    ")  # Solid line for cubic\n",
    "plt.plot(\n",
    "    x_dense, np.sin(x_dense), \":\", color=\"gray\", label=\"True sin(x)\"\n",
    ")  # Dotted line for true function\n",
    "plt.title(\"Linear vs. Cubic Interpolation\")\n",
    "plt.xlabel(\"x\")\n",
    "plt.ylabel(\"y\")\n",
    "plt.legend()\n",
    "plt.grid(True)\n",
    "plt.show()"
   ]
  },
  {
   "cell_type": "markdown",
   "metadata": {},
   "source": [
    "Notice how the cubic interpolation creates a much smoother curve that more closely resembles the true `sin(x)` function."
   ]
  },
  {
   "cell_type": "markdown",
   "metadata": {},
   "source": [
    "---"
   ]
  },
  {
   "cell_type": "markdown",
   "metadata": {},
   "source": [
    "## Part 2: Integration with `scipy.integrate`\n",
    "\n",
    "Numerical integration is used to find the area under a curve when you can't solve the integral analytically (by hand). The most common tool for this in SciPy is the `quad` function (short for quadrature).\n",
    "\n",
    "Let's start with a simple function we *can* solve by hand to verify our result: `f(x) = x^2`. The integral is `F(x) = (1/3)x^3`. The area under the curve from `x=0` to `x=2` is `F(2) - F(0) = (1/3)*2^3 - 0 = 8/3 ≈ 2.667`."
   ]
  },
  {
   "cell_type": "code",
   "execution_count": null,
   "metadata": {},
   "outputs": [],
   "source": [
    "def my_parabola(x):\n",
    "    return x**2"
   ]
  },
  {
   "cell_type": "markdown",
   "metadata": {},
   "source": [
    "**Exercise 2.1:** Use `integrate.quad()` to calculate the definite integral of `my_parabola` from `0` to `2`. Print the result and the estimated error."
   ]
  },
  {
   "cell_type": "code",
   "execution_count": null,
   "metadata": {},
   "outputs": [],
   "source": [
    "# Your code here"
   ]
  },
  {
   "cell_type": "markdown",
   "metadata": {},
   "source": [
    "**Solution 2.1:**"
   ]
  },
  {
   "cell_type": "code",
   "execution_count": null,
   "metadata": {},
   "outputs": [],
   "source": [
    "# The quad function takes the function to integrate, and the lower and upper limits\n",
    "result, error = integrate.quad(my_parabola, 0, 2)\n",
    "\n",
    "print(f\"Analytical result: 8/3 = {8/3:.8f}\")\n",
    "print(f\"Numerical result from quad: {result:.8f}\")\n",
    "print(f\"Estimated absolute error: {error:.2e}\")\n",
    "\n",
    "# Let's visualize what we just calculated\n",
    "x = np.linspace(-1, 3, 200)\n",
    "y = my_parabola(x)\n",
    "x_fill = np.linspace(0, 2, 100)\n",
    "y_fill = my_parabola(x_fill)\n",
    "\n",
    "plt.figure(figsize=(10, 6))\n",
    "plt.plot(x, y, label=\"f(x) = x^2\")\n",
    "plt.fill_between(x_fill, y_fill, alpha=0.3, label=f\"Area = {result:.3f}\")\n",
    "plt.title(\"Area Under the Curve for f(x) = x^2\")\n",
    "plt.xlabel(\"x\")\n",
    "plt.ylabel(\"y\")\n",
    "plt.legend()\n",
    "plt.grid(True)\n",
    "plt.show()"
   ]
  },
  {
   "cell_type": "markdown",
   "metadata": {},
   "source": [
    "The power of `quad` becomes clear when we have functions that are difficult or impossible to integrate by hand, like the Gaussian function, `f(x) = e^(-x^2)`, which is fundamental to probability and statistics.\n",
    "\n",
    "**Exercise 2.2:** Calculate the integral of the Gaussian function `f(x) = e^(-x^2)` from negative infinity to positive infinity. The famous analytical result is the square root of pi (√π). Use `np.inf` to represent infinity."
   ]
  },
  {
   "cell_type": "code",
   "execution_count": null,
   "metadata": {},
   "outputs": [],
   "source": [
    "# Your code here"
   ]
  },
  {
   "cell_type": "markdown",
   "metadata": {},
   "source": [
    "**Solution 2.2:**"
   ]
  },
  {
   "cell_type": "code",
   "execution_count": null,
   "metadata": {},
   "outputs": [],
   "source": [
    "# Solution\n",
    "def gaussian(x):\n",
    "    return np.exp(-(x**2))\n",
    "\n",
    "\n",
    "# Use np.inf for infinity\n",
    "result, error = integrate.quad(gaussian, -np.inf, np.inf)\n",
    "\n",
    "print(f\"Analytical result: sqrt(pi) = {np.sqrt(np.pi):.8f}\")\n",
    "print(f\"Numerical result from quad: {result:.8f}\")\n",
    "print(f\"Estimated absolute error: {error:.2e}\")"
   ]
  },
  {
   "cell_type": "markdown",
   "metadata": {},
   "source": [
    "---"
   ]
  },
  {
   "cell_type": "markdown",
   "metadata": {},
   "source": [
    "### Fantastic Progress!\n",
    "\n",
    "You've now wielded two more of SciPy's powerful tools. You can fill in the gaps in your data with `interpolate` and find the area under virtually any curve with `integrate`. These skills are essential for processing real-world data and solving complex scientific problems.\n",
    "\n",
    "Tomorrow, we'll return to `matplotlib` to learn some advanced visualization techniques, such as creating figures with multiple subplots."
   ]
  }
 ],
 "metadata": {
  "kernelspec": {
   "display_name": "Python 3",
   "language": "python",
   "name": "python3"
  },
  "language_info": {
   "codemirror_mode": {
    "name": "ipython",
    "version": 3
   },
   "file_extension": ".py",
   "mimetype": "text/x-python",
   "name": "python",
   "nbconvert_exporter": "python",
   "pygments_lexer": "ipython3",
   "version": "3.12.11"
  }
 },
 "nbformat": 4,
 "nbformat_minor": 4
}
