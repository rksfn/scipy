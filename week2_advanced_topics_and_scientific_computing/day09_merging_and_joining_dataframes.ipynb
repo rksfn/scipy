{
 "cells": [
  {
   "cell_type": "markdown",
   "metadata": {},
   "source": [
    "# Day 9: Merging and Joining DataFrames\n",
    "\n",
    "On Day 9, we'll explore a critical data manipulation task: combining multiple datasets. Real-world data is often split across different files or tables. Pandas provides powerful, high-performance functions to merge and join these datasets, similar to SQL.\n",
    "\n",
    "We will cover:\n",
    "- Inner Joins\n",
    "- Outer, Left, and Right Joins\n",
    "- Merging on common columns"
   ]
  },
  {
   "cell_type": "markdown",
   "metadata": {},
   "source": [
    "Let's begin by importing Pandas."
   ]
  },
  {
   "cell_type": "code",
   "execution_count": null,
   "metadata": {},
   "outputs": [],
   "source": [
    "import pandas as pd"
   ]
  },
  {
   "cell_type": "markdown",
   "metadata": {},
   "source": [
    "---"
   ]
  },
  {
   "cell_type": "markdown",
   "metadata": {},
   "source": [
    "## Part 1: Preparing the DataFrames\n",
    "\n",
    "To learn about joins, we first need some data. Let's create two DataFrames: one for employees and one for their departments."
   ]
  },
  {
   "cell_type": "code",
   "execution_count": null,
   "metadata": {},
   "outputs": [],
   "source": [
    "employees_data = {\n",
    "    \"EmployeeID\": [101, 102, 103, 104, 105],\n",
    "    \"Name\": [\"Alice\", \"Bob\", \"Charlie\", \"David\", \"Eve\"],\n",
    "    \"DepartmentID\": [1, 2, 1, 3, 4],\n",
    "}\n",
    "employees_df = pd.DataFrame(employees_data)\n",
    "\n",
    "departments_data = {\n",
    "    \"DepartmentID\": [1, 2, 3, 5],\n",
    "    \"DepartmentName\": [\"HR\", \"Engineering\", \"Marketing\", \"Sales\"],\n",
    "}\n",
    "departments_df = pd.DataFrame(departments_data)\n",
    "\n",
    "print(\"Employees DataFrame:\")\n",
    "print(employees_df)\n",
    "print(\"-\" * 25)\n",
    "print(\"Departments DataFrame:\")\n",
    "print(departments_df)"
   ]
  },
  {
   "cell_type": "markdown",
   "metadata": {},
   "source": [
    "*Notice that employee Eve has a `DepartmentID` of 4, which doesn't exist in the departments table. Also, the `Sales` department (ID 5) has no employees.*"
   ]
  },
  {
   "cell_type": "markdown",
   "metadata": {},
   "source": [
    "---"
   ]
  },
  {
   "cell_type": "markdown",
   "metadata": {},
   "source": [
    "## Part 2: The Inner Join\n",
    "\n",
    "An inner join returns only the rows where the key exists in **both** DataFrames."
   ]
  },
  {
   "cell_type": "markdown",
   "metadata": {},
   "source": [
    "**Exercise 2.1:** Perform an inner join on `employees_df` and `departments_df` to create a new DataFrame that includes employee names and their corresponding department names."
   ]
  },
  {
   "cell_type": "code",
   "execution_count": null,
   "metadata": {},
   "outputs": [],
   "source": [
    "# Your code here"
   ]
  },
  {
   "cell_type": "markdown",
   "metadata": {},
   "source": [
    "**Solution 2.1:**"
   ]
  },
  {
   "cell_type": "code",
   "execution_count": null,
   "metadata": {},
   "outputs": [],
   "source": [
    "# Solution\n",
    "inner_join_df = pd.merge(employees_df, departments_df, on=\"DepartmentID\", how=\"inner\")\n",
    "print(inner_join_df)"
   ]
  },
  {
   "cell_type": "markdown",
   "metadata": {},
   "source": [
    "*Note that Eve (DepartmentID 4) and the Sales department (DepartmentID 5) are missing, as expected.*"
   ]
  },
  {
   "cell_type": "markdown",
   "metadata": {},
   "source": [
    "---"
   ]
  },
  {
   "cell_type": "markdown",
   "metadata": {},
   "source": [
    "## Part 3: Outer Joins (Left, Right, and Full)\n",
    "\n",
    "Outer joins are useful when you want to keep all records from one or both DataFrames, even if there isn't a match."
   ]
  },
  {
   "cell_type": "markdown",
   "metadata": {},
   "source": [
    "**Exercise 3.1: Left Join**\n",
    "\n",
    "A left join keeps all rows from the **left** DataFrame (`employees_df` in this case). Perform a left join and observe the result for Eve."
   ]
  },
  {
   "cell_type": "code",
   "execution_count": null,
   "metadata": {},
   "outputs": [],
   "source": [
    "# Your code here"
   ]
  },
  {
   "cell_type": "markdown",
   "metadata": {},
   "source": [
    "**Solution 3.1:**"
   ]
  },
  {
   "cell_type": "code",
   "execution_count": null,
   "metadata": {},
   "outputs": [],
   "source": [
    "# Solution\n",
    "left_join_df = pd.merge(employees_df, departments_df, on=\"DepartmentID\", how=\"left\")\n",
    "print(left_join_df)"
   ]
  },
  {
   "cell_type": "markdown",
   "metadata": {},
   "source": [
    "*Notice that Eve is included, but her `DepartmentName` is `NaN` (Not a Number), as there was no match.*"
   ]
  },
  {
   "cell_type": "markdown",
   "metadata": {},
   "source": [
    "**Exercise 3.2: Right Join**\n",
    "\n",
    "A right join keeps all rows from the **right** DataFrame (`departments_df`). Perform a right join and observe the result for the Sales department."
   ]
  },
  {
   "cell_type": "code",
   "execution_count": null,
   "metadata": {},
   "outputs": [],
   "source": [
    "# Your code here"
   ]
  },
  {
   "cell_type": "markdown",
   "metadata": {},
   "source": [
    "**Solution 3.2:**"
   ]
  },
  {
   "cell_type": "code",
   "execution_count": null,
   "metadata": {},
   "outputs": [],
   "source": [
    "# Solution\n",
    "right_join_df = pd.merge(employees_df, departments_df, on=\"DepartmentID\", how=\"right\")\n",
    "print(right_join_df)"
   ]
  },
  {
   "cell_type": "markdown",
   "metadata": {},
   "source": [
    "*This time, the Sales department is included, but its `EmployeeID` and `Name` are `NaN`.*"
   ]
  },
  {
   "cell_type": "markdown",
   "metadata": {},
   "source": [
    "**Exercise 3.3: Outer Join**\n",
    "\n",
    "A full outer join keeps all rows from **both** DataFrames. Perform an outer join and see how both Eve and the Sales department are handled."
   ]
  },
  {
   "cell_type": "code",
   "execution_count": null,
   "metadata": {},
   "outputs": [],
   "source": [
    "# Your code here"
   ]
  },
  {
   "cell_type": "markdown",
   "metadata": {},
   "source": [
    "**Solution 3.3:**"
   ]
  },
  {
   "cell_type": "code",
   "execution_count": null,
   "metadata": {},
   "outputs": [],
   "source": [
    "# Solution\n",
    "outer_join_df = pd.merge(employees_df, departments_df, on=\"DepartmentID\", how=\"outer\")\n",
    "print(outer_join_df)"
   ]
  },
  {
   "cell_type": "markdown",
   "metadata": {},
   "source": [
    "*The result includes everyone and every department, filling in missing data with `NaN`.*"
   ]
  },
  {
   "cell_type": "markdown",
   "metadata": {},
   "source": [
    "---"
   ]
  },
  {
   "cell_type": "markdown",
   "metadata": {},
   "source": [
    "## Part 4: Merging on Different Column Names\n",
    "\n",
    "Sometimes, the key you want to join on has a different name in each DataFrame. Pandas handles this easily."
   ]
  },
  {
   "cell_type": "code",
   "execution_count": null,
   "metadata": {},
   "outputs": [],
   "source": [
    "# Let's create a new DataFrame for salaries\n",
    "salaries_data = {\"EmpID\": [101, 102, 103, 104], \"Salary\": [70000, 80000, 75000, 90000]}\n",
    "salaries_df = pd.DataFrame(salaries_data)\n",
    "\n",
    "print(\"Employees DataFrame:\")\n",
    "print(employees_df)\n",
    "print(\"-\" * 20)\n",
    "print(\"Salaries DataFrame:\")\n",
    "print(salaries_df)"
   ]
  },
  {
   "cell_type": "markdown",
   "metadata": {},
   "source": [
    "**Exercise 4.1:** Merge `employees_df` and `salaries_df` using `EmployeeID` from the left frame and `EmpID` from the right frame."
   ]
  },
  {
   "cell_type": "code",
   "execution_count": null,
   "metadata": {},
   "outputs": [],
   "source": [
    "# Your code here"
   ]
  },
  {
   "cell_type": "markdown",
   "metadata": {},
   "source": [
    "**Solution 4.1:**"
   ]
  },
  {
   "cell_type": "code",
   "execution_count": null,
   "metadata": {},
   "outputs": [],
   "source": [
    "# Solution\n",
    "# Use the left_on and right_on parameters\n",
    "employee_salaries_df = pd.merge(\n",
    "    employees_df, salaries_df, left_on=\"EmployeeID\", right_on=\"EmpID\", how=\"left\"\n",
    ")\n",
    "print(employee_salaries_df)"
   ]
  },
  {
   "cell_type": "markdown",
   "metadata": {},
   "source": [
    "*You can drop the redundant key column (`EmpID`) if you wish.*"
   ]
  },
  {
   "cell_type": "markdown",
   "metadata": {},
   "source": [
    "---"
   ]
  },
  {
   "cell_type": "markdown",
   "metadata": {},
   "source": [
    "### Great job!\n",
    "\n",
    "Combining data sources is a fundamental step in data analysis. Understanding the different types of joins is crucial for ensuring you are creating the correct dataset for your analysis. Next, we will dive into the world of SciPy!"
   ]
  }
 ],
 "metadata": {
  "kernelspec": {
   "display_name": "Python 3 (ipykernel)",
   "language": "python",
   "name": "python3"
  },
  "language_info": {
   "codemirror_mode": {
    "name": "ipython",
    "version": 3
   },
   "file_extension": ".py",
   "mimetype": "text/x-python",
   "name": "python",
   "nbconvert_exporter": "python",
   "pygments_lexer": "ipython3",
   "version": "3.12.2"
  }
 },
 "nbformat": 4,
 "nbformat_minor": 5
}
