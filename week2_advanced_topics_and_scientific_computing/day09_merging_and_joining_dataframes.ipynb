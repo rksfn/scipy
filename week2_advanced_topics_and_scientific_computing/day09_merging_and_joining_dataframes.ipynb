{
 "cells": [
  {
   "cell_type": "markdown",
   "id": "f65bf601",
   "metadata": {},
   "source": [
    "# Day 9: Merging and Joining DataFrames (Enhanced)\n",
    "\n",
    "On Day 9, we'll explore a critical data manipulation task: combining multiple datasets. Real-world data is often split across different files or tables. Pandas provides powerful, high-performance functions to merge and join these datasets, similar to SQL.\n",
    "\n",
    "We will cover:\n",
    "- Preparing data and understanding join keys\n",
    "- Inner, Left, Right, and Outer Joins\n",
    "- Merging on columns with different names\n",
    "- Handling overlapping column names\n",
    "- Merging on an index\n",
    "- A multi-step challenge exercise"
   ]
  },
  {
   "cell_type": "markdown",
   "metadata": {},
   "source": [
    "Let's begin by importing Pandas."
   ]
  },
  {
   "cell_type": "code",
   "execution_count": null,
   "metadata": {},
   "outputs": [],
   "source": [
    "import pandas as pd"
   ]
  },
  {
   "cell_type": "markdown",
   "metadata": {},
   "source": [
    "---"
   ]
  },
  {
   "cell_type": "markdown",
   "metadata": {},
   "source": [
    "## Part 1: Preparing the DataFrames\n",
    "\n",
    "To learn about joins, we first need some data. Let's create two DataFrames: one for employees and one for their departments. The `DepartmentID` column is the \"key\" we will use to link them."
   ]
  },
  {
   "cell_type": "code",
   "execution_count": null,
   "metadata": {},
   "outputs": [],
   "source": [
    "employees_data = {\n",
    "    \"EmployeeID\": [101, 102, 103, 104, 105],\n",
    "    \"Name\": [\"Alice\", \"Bob\", \"Charlie\", \"David\", \"Eve\"],\n",
    "    \"DepartmentID\": [1, 2, 1, 3, 4],\n",
    "}\n",
    "employees_df = pd.DataFrame(employees_data)\n",
    "\n",
    "departments_data = {\n",
    "    \"DepartmentID\": [1, 2, 3, 5],\n",
    "    \"DepartmentName\": [\"HR\", \"Engineering\", \"Marketing\", \"Sales\"],\n",
    "}\n",
    "departments_df = pd.DataFrame(departments_data)\n",
    "\n",
    "print(\"Employees DataFrame:\")\n",
    "print(employees_df)\n",
    "print(\"-\" * 25)\n",
    "print(\"Departments DataFrame:\")\n",
    "print(departments_df)"
   ]
  },
  {
   "cell_type": "markdown",
   "metadata": {},
   "source": [
    "*Notice that employee Eve has a `DepartmentID` of 4, which doesn't exist in the departments table. Also, the `Sales` department (ID 5) has no employees in our employee table.*"
   ]
  },
  {
   "cell_type": "markdown",
   "metadata": {},
   "source": [
    "---"
   ]
  },
  {
   "cell_type": "markdown",
   "metadata": {},
   "source": [
    "## Part 2: The Inner Join\n",
    "\n",
    "An inner join returns only the rows where the key exists in **both** DataFrames. It's the intersection of the two datasets.\n",
    "\n",
    "**Analogy:** Think of a Venn diagram. The inner join is the overlapping area in the middle.\n",
    "\n",
    "**Use Case:** Use this when you only care about data that has a complete relationship across tables."
   ]
  },
  {
   "cell_type": "markdown",
   "metadata": {},
   "source": [
    "**Exercise 2.1:** Perform an inner join on `employees_df` and `departments_df` to create a new DataFrame that includes employee names and their corresponding department names."
   ]
  },
  {
   "cell_type": "code",
   "execution_count": null,
   "metadata": {},
   "outputs": [],
   "source": [
    "# Your code here\n"
   ]
  },
  {
   "cell_type": "markdown",
   "metadata": {},
   "source": [
    "**Solution 2.1:**"
   ]
  },
  {
   "cell_type": "code",
   "execution_count": null,
   "metadata": {},
   "outputs": [],
   "source": [
    "# Solution\n",
    "inner_join_df = pd.merge(employees_df, departments_df, on=\"DepartmentID\", how=\"inner\")\n",
    "print(inner_join_df)"
   ]
  },
  {
   "cell_type": "markdown",
   "metadata": {},
   "source": [
    "*Note that Eve (DepartmentID 4) and the Sales department (DepartmentID 5) are missing, as expected, because their `DepartmentID` was not present in the other table.*"
   ]
  },
  {
   "cell_type": "markdown",
   "metadata": {},
   "source": [
    "---"
   ]
  },
  {
   "cell_type": "markdown",
   "metadata": {},
   "source": [
    "## Part 3: Outer Joins (Left, Right, and Full)\n",
    "\n",
    "Outer joins are useful when you want to keep all records from one or both DataFrames, even if there isn't a match. Missing values are filled with `NaN`."
   ]
  },
  {
   "cell_type": "markdown",
   "metadata": {},
   "source": [
    "**Exercise 3.1: Left Join**\n",
    "\n",
    "A left join keeps all rows from the **left** DataFrame (`employees_df` in this case) and matches where possible from the right. \n",
    "**Analogy:** The entire left circle of the Venn diagram.\n",
    "**Use Case:** Enriching a primary dataset. For example, add department details to your complete list of employees, even if some departments are unknown."
   ]
  },
  {
   "cell_type": "code",
   "execution_count": null,
   "metadata": {},
   "outputs": [],
   "source": [
    "# Your code here\n"
   ]
  },
  {
   "cell_type": "markdown",
   "metadata": {},
   "source": [
    "**Solution 3.1:**"
   ]
  },
  {
   "cell_type": "code",
   "execution_count": null,
   "metadata": {},
   "outputs": [],
   "source": [
    "# Solution\n",
    "left_join_df = pd.merge(employees_df, departments_df, on=\"DepartmentID\", how=\"left\")\n",
    "print(left_join_df)"
   ]
  },
  {
   "cell_type": "markdown",
   "metadata": {},
   "source": [
    "*Notice that all employees, including Eve, are included. Her `DepartmentName` is `NaN` (Not a Number) because her `DepartmentID` of 4 had no match.*"
   ]
  },
  {
   "cell_type": "markdown",
   "metadata": {},
   "source": [
    "**Exercise 3.2: Right Join**\n",
    "\n",
    "A right join keeps all rows from the **right** DataFrame (`departments_df`).\n",
    "**Analogy:** The entire right circle of the Venn diagram.\n",
    "**Use Case:** Finding all departments and seeing which employees belong to them, even if a department is empty."
   ]
  },
  {
   "cell_type": "code",
   "execution_count": null,
   "metadata": {},
   "outputs": [],
   "source": [
    "# Your code here\n"
   ]
  },
  {
   "cell_type": "markdown",
   "metadata": {},
   "source": [
    "**Solution 3.2:**"
   ]
  },
  {
   "cell_type": "code",
   "execution_count": null,
   "metadata": {},
   "outputs": [],
   "source": [
    "# Solution\n",
    "right_join_df = pd.merge(employees_df, departments_df, on=\"DepartmentID\", how=\"right\")\n",
    "print(right_join_df)"
   ]
  },
  {
   "cell_type": "markdown",
   "metadata": {},
   "source": [
    "*This time, all departments, including Sales, are included. Its `EmployeeID` and `Name` are `NaN` since no employee is assigned to it.*"
   ]
  },
  {
   "cell_type": "markdown",
   "metadata": {},
   "source": [
    "**Exercise 3.3: Outer Join**\n",
    "\n",
    "A full outer join keeps all rows from **both** DataFrames.\n",
    "**Analogy:** Both circles of the Venn diagram, including the intersection.\n",
    "**Use Case:** When you need a complete picture of all data from both tables, regardless of whether it matches."
   ]
  },
  {
   "cell_type": "code",
   "execution_count": null,
   "metadata": {},
   "outputs": [],
   "source": [
    "# Your code here\n"
   ]
  },
  {
   "cell_type": "markdown",
   "metadata": {},
   "source": [
    "**Solution 3.3:**"
   ]
  },
  {
   "cell_type": "code",
   "execution_count": null,
   "metadata": {},
   "outputs": [],
   "source": [
    "# Solution\n",
    "outer_join_df = pd.merge(employees_df, departments_df, on=\"DepartmentID\", how=\"outer\")\n",
    "print(outer_join_df)"
   ]
  },
  {
   "cell_type": "markdown",
   "metadata": {},
   "source": [
    "*The result includes everyone and every department, filling in missing data with `NaN` where necessary.*"
   ]
  },
  {
   "cell_type": "markdown",
   "metadata": {},
   "source": [
    "---"
   ]
  },
  {
   "cell_type": "markdown",
   "metadata": {},
   "source": [
    "## Part 4: Merging on Different Column Names\n",
    "\n",
    "Sometimes, the key you want to join on has a different name in each DataFrame. Pandas handles this easily with the `left_on` and `right_on` parameters."
   ]
  },
  {
   "cell_type": "code",
   "execution_count": null,
   "metadata": {},
   "outputs": [],
   "source": [
    "# Let's create a new DataFrame for salaries\n",
    "salaries_data = {\"EmpID\": [101, 102, 103, 104], \"Salary\": [70000, 80000, 75000, 90000]}\n",
    "salaries_df = pd.DataFrame(salaries_data)\n",
    "\n",
    "print(\"Employees DataFrame Key: 'EmployeeID'\")\n",
    "print(employees_df)\n",
    "print(\"-\" * 20)\n",
    "print(\"Salaries DataFrame Key: 'EmpID'\")\n",
    "print(salaries_df)"
   ]
  },
  {
   "cell_type": "markdown",
   "metadata": {},
   "source": [
    "**Exercise 4.1:** Merge `employees_df` and `salaries_df` using `EmployeeID` from the left frame and `EmpID` from the right frame. Keep all employees, even if they don't have a salary listed."
   ]
  },
  {
   "cell_type": "code",
   "execution_count": null,
   "metadata": {},
   "outputs": [],
   "source": [
    "# Your code here\n"
   ]
  },
  {
   "cell_type": "markdown",
   "metadata": {},
   "source": [
    "**Solution 4.1:**"
   ]
  },
  {
   "cell_type": "code",
   "execution_count": null,
   "metadata": {},
   "outputs": [],
   "source": [
    "# Solution\n",
    "# Use the left_on and right_on parameters with a left join\n",
    "employee_salaries_df = pd.merge(\n",
    "    employees_df, salaries_df, left_on=\"EmployeeID\", right_on=\"EmpID\", how=\"left\"\n",
    ")\n",
    "print(employee_salaries_df)"
   ]
  },
  {
   "cell_type": "markdown",
   "metadata": {},
   "source": [
    "*Notice that the result contains both `EmployeeID` and `EmpID`. You can drop the redundant key column (`EmpID`) using `.drop('EmpID', axis=1)` if you wish.*"
   ]
  },
  {
   "cell_type": "markdown",
   "metadata": {},
   "source": [
    "---"
   ]
  },
  {
   "cell_type": "markdown",
   "metadata": {},
   "source": [
    "## Part 5: Handling Overlapping Column Names\n",
    "\n",
    "What happens if both DataFrames have a column with the same name, and it's *not* the join key? Pandas automatically adds suffixes (`_x` for the left DataFrame, `_y` for the right) to differentiate them."
   ]
  },
  {
   "cell_type": "code",
   "execution_count": null,
   "metadata": {},
   "outputs": [],
   "source": [
    "employee_location_data = {\n",
    "    'EmployeeID': [101, 102, 103, 104],\n",
    "    'Location': ['New York', 'London', 'New York', 'Tokyo']\n",
    "}\n",
    "employee_loc_df = pd.DataFrame(employee_location_data)\n",
    "\n",
    "department_location_data = {\n",
    "    'DepartmentID': [1, 2, 3],\n",
    "    'Location': ['New York', 'Tokyo', 'London']\n",
    "}\n",
    "dept_loc_df = pd.DataFrame(department_location_data)\n",
    "\n",
    "print(employee_loc_df)\n",
    "print('-'*20)\n",
    "print(dept_loc_df)"
   ]
  },
  {
   "cell_type": "markdown",
   "metadata": {},
   "source": [
    "**Exercise 5.1:** Merge the `employees_df` with `employee_loc_df`. Then, merge that result with `dept_loc_df`. Observe the `Location` columns. Then, repeat the second merge, but this time, use the `suffixes` parameter to create more descriptive column names like `_Employee` and `_Dept`."
   ]
  },
  {
   "cell_type": "code",
   "execution_count": null,
   "metadata": {},
   "outputs": [],
   "source": [
    "# Your code here\n",
    "# Step 1: Merge employees with their locations\n",
    "emp_with_loc_df = pd.merge(employees_df, employee_loc_df, on='EmployeeID', how='left')\n",
    "\n",
    "# Step 2: Merge the result with department locations\n",
    "full_df_default_suffix = pd.merge(emp_with_loc_df, dept_loc_df, on='DepartmentID', how='left')\n",
    "print(\"Default Suffixes:\")\n",
    "print(full_df_default_suffix)\n",
    "print('\\n' + '-'*40 + '\\n')\n",
    "\n",
    "# Step 3: Repeat the merge with custom suffixes\n",
    "full_df_custom_suffix = pd.merge(\n",
    "    emp_with_loc_df, \n",
    "    dept_loc_df, \n",
    "    on='DepartmentID', \n",
    "    how='left', \n",
    "    suffixes=('_Employee', '_Dept')\n",
    ")\n",
    "print(\"Custom Suffixes:\")\n",
    "print(full_df_custom_suffix)\n"
   ]
  },
  {
   "cell_type": "markdown",
   "metadata": {},
   "source": [
    "---"
   ]
  },
  {
   "cell_type": "markdown",
   "metadata": {},
   "source": [
    "## Part 6: Merging on Index\n",
    "\n",
    "A very common pattern is to join a DataFrame's column with another DataFrame's *index*. You can use `left_on` (for a column) and `right_index=True`.\n",
    "\n",
    "Alternatively, the `.join()` method is a convenient shorthand for merging on indices."
   ]
  },
  {
   "cell_type": "code",
   "execution_count": null,
   "metadata": {},
   "outputs": [],
   "source": [
    "manager_data = {\n",
    "    'DepartmentName': ['HR', 'Engineering', 'Marketing'],\n",
    "    'Manager': ['Carlos', 'Diana', 'Frank']\n",
    "}\n",
    "# Let's set the department name as the index\n",
    "managers_df = pd.DataFrame(manager_data).set_index('DepartmentName')\n",
    "\n",
    "print(\"DataFrame to Join (index is the key):\")\n",
    "print(managers_df)\n",
    "print('\\n' + '-'*30 + '\\n')\n",
    "\n",
    "# We'll use our 'inner_join_df' from Part 2, which has a 'DepartmentName' column\n",
    "print(\"Original DataFrame (column is the key):\")\n",
    "print(inner_join_df)"
   ]
  },
  {
   "cell_type": "markdown",
   "metadata": {},
   "source": [
    "**Exercise 6.1:** Use `pd.merge` with `left_on` and `right_index=True` to add the manager's name to the `inner_join_df`.\n",
    "\n",
    "**Exercise 6.2:** Achieve the same result using the `.join()` method. Which do you find more readable?"
   ]
  },
  {
   "cell_type": "code",
   "execution_count": null,
   "metadata": {},
   "outputs": [],
   "source": [
    "# Solution 6.1: Using pd.merge()\n",
    "merged_with_manager = pd.merge(\n",
    "    inner_join_df, \n",
    "    managers_df, \n",
    "    left_on='DepartmentName', \n",
    "    right_index=True, \n",
    "    how='left'\n",
    ")\n",
    "print(\"Result from pd.merge():\")\n",
    "print(merged_with_manager)\n",
    "print('\\n' + '-'*30 + '\\n')\n",
    "\n",
    "# Solution 6.2: Using .join()\n",
    "# When using .join(), the key from the other dataframe ('managers_df') must be its index.\n",
    "# You specify the column from the calling dataframe ('inner_join_df') with the 'on' parameter.\n",
    "joined_with_manager = inner_join_df.join(managers_df, on='DepartmentName', how='left')\n",
    "print(\"Result from .join():\")\n",
    "print(joined_with_manager)"
   ]
  },
  {
   "cell_type": "markdown",
   "metadata": {},
   "source": [
    "---"
   ]
  },
  {
   "cell_type": "markdown",
   "metadata": {},
   "source": [
    "## Part 7: Challenge Exercise\n",
    "\n",
    "Let's combine what we've learned. We have three datasets: employees, departments, and the projects they are assigned to.\n",
    "\n",
    "**Goal:** Create a final DataFrame that shows the `Name` of each employee, the `DepartmentName` they belong to, and the `ProjectName` they are working on. Include all employees, even if they aren't on a project."
   ]
  },
  {
   "cell_type": "code",
   "execution_count": null,
   "metadata": {},
   "outputs": [],
   "source": [
    "# Use employees_df and departments_df from Part 1\n",
    "projects_data = {\n",
    "    \"ProjectName\": [\"Apollo\", \"Zeus\", \"Athena\", \"Ares\"],\n",
    "    \"TeamLeadID\": [101, 102, 101, 104]\n",
    "}\n",
    "projects_df = pd.DataFrame(projects_data)\n",
    "\n",
    "print(\"--- Projects ---\")\n",
    "print(projects_df)"
   ]
  },
  {
   "cell_type": "code",
   "execution_count": null,
   "metadata": {},
   "outputs": [],
   "source": [
    "# Your code here.\n",
    "# Hint: This will require two separate merges.\n",
    "# Step 1: Combine employees and departments.\n",
    "# Step 2: Combine the result of Step 1 with the projects data.\n"
   ]
  },
  {
   "cell_type": "markdown",
   "metadata": {},
   "source": [
    "**Solution 7.1**"
   ]
  },
  {
   "cell_type": "code",
   "execution_count": null,
   "metadata": {},
   "outputs": [],
   "source": [
    "# Solution\n",
    "\n",
    "# Step 1: Perform a left join to keep all employees and add their department names.\n",
    "employee_depts = pd.merge(employees_df, departments_df, on=\"DepartmentID\", how=\"left\")\n",
    "\n",
    "# Step 2: Perform another left join to add project information.\n",
    "# The key names are different ('EmployeeID' vs 'TeamLeadID'), so we must use left_on and right_on.\n",
    "final_report = pd.merge(\n",
    "    employee_depts, \n",
    "    projects_df, \n",
    "    left_on=\"EmployeeID\", \n",
    "    right_on=\"TeamLeadID\", \n",
    "    how=\"left\"\n",
    ")\n",
    "\n",
    "# Step 3: Clean up the final result by selecting and renaming columns.\n",
    "final_report_cleaned = final_report[['Name', 'DepartmentName', 'ProjectName']]\n",
    "\n",
    "print(final_report_cleaned)"
   ]
  },
  {
   "cell_type": "markdown",
   "metadata": {},
   "source": [
    "---"
   ]
  },
  {
   "cell_type": "markdown",
   "metadata": {},
   "source": [
    "### Great job!\n",
    "\n",
    "Combining data sources is a fundamental step in nearly every data analysis task. Understanding the different types of joins and how to handle various scenarios like different key names, overlapping columns, and joining on an index is crucial for creating the correct dataset for your analysis. \n",
    "\n",
    "Next, we will dive into the world of SciPy!"
   ]
  }
 ],
 "metadata": {
  "kernelspec": {
   "display_name": "Python 3 (ipykernel)",
   "language": "python",
   "name": "python3"
  },
  "language_info": {
   "codemirror_mode": {
    "name": "ipython",
    "version": 3
   },
   "file_extension": ".py",
   "mimetype": "text/x-python",
   "name": "python",
   "nbconvert_exporter": "python",
   "pygments_lexer": "ipython3",
   "version": "3.12.2"
  }
 },
 "nbformat": 4,
 "nbformat_minor": 5
}
