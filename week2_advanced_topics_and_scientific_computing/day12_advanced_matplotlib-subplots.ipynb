{
 "cells": [
  {
   "cell_type": "markdown",
   "metadata": {},
   "source": [
    "# Day 12: Advanced Matplotlib - Subplots\n",
    "\n",
    "Welcome back! So far, we've created single plots to visualize our data. However, you often need to compare multiple plots side-by-side. Matplotlib's subplot functionality allows you to place multiple plots within a single figure.\n",
    "\n",
    "Today, we'll learn how to create complex figures to tell a richer story with our data. We will explore two main approaches:\n",
    "1.  `plt.subplot()`: A simple way to create a grid of plots.\n",
    "2.  `plt.subplots()`: A more powerful and flexible object-oriented approach (this is the preferred method)."
   ]
  },
  {
   "cell_type": "markdown",
   "metadata": {},
   "source": [
    "As always, we start with our imports."
   ]
  },
  {
   "cell_type": "code",
   "execution_count": null,
   "metadata": {},
   "outputs": [],
   "source": [
    "import numpy as np\n",
    "import matplotlib.pyplot as plt\n",
    "import pandas as pd # We'll use this for a quick example later"
   ]
  },
  {
   "cell_type": "markdown",
   "metadata": {},
   "source": [
    "---"
   ]
  },
  {
   "cell_type": "markdown",
   "metadata": {},
   "source": [
    "## Part 1: The `plt.subplot()` Approach\n",
    "\n",
    "The `plt.subplot()` command specifies a grid and selects which cell to draw on. The syntax is `plt.subplot(nrows, ncols, index)`.\n",
    "\n",
    "- `nrows`: Total number of rows in the grid.\n",
    "- `ncols`: Total number of columns in the grid.\n",
    "- `index`: The plot number to activate, starting from 1 in the top-left corner and increasing to the right.\n",
    "\n",
    "Let's create some data to plot."
   ]
  },
  {
   "cell_type": "code",
   "execution_count": null,
   "metadata": {},
   "outputs": [],
   "source": [
    "x = np.linspace(0, 2 * np.pi, 400)\n",
    "y_sin = np.sin(x ** 2)\n",
    "y_cos = np.cos(x ** 2)"
   ]
  },
  {
   "cell_type": "markdown",
   "metadata": {},
   "source": [
    "**Exercise 1.1:** Create a figure that contains two plots arranged vertically (2 rows, 1 column). \n",
    "- The top plot (`index=1`) should show our `y_sin` data.\n",
    "- The bottom plot (`index=2`) should show our `y_cos` data."
   ]
  },
  {
   "cell_type": "code",
   "execution_count": null,
   "metadata": {},
   "outputs": [],
   "source": [
    "# Your code here"
   ]
  },
  {
   "cell_type": "markdown",
   "metadata": {},
   "source": [
    "**Solution 1.1:**"
   ]
  },
  {
   "cell_type": "code",
   "execution_count": null,
   "metadata": {},
   "outputs": [],
   "source": [
    "plt.figure(figsize=(8, 6))\n",
    "\n",
    "# Activate the first subplot (top)\n",
    "plt.subplot(2, 1, 1)\n",
    "plt.plot(x, y_sin)\n",
    "plt.title('Sine Wave')\n",
    "plt.grid(True)\n",
    "\n",
    "# Activate the second subplot (bottom)\n",
    "plt.subplot(2, 1, 2)\n",
    "plt.plot(x, y_cos, color='orange')\n",
    "plt.title('Cosine Wave')\n",
    "plt.grid(True)\n",
    "\n",
    "# Add a layout manager to prevent titles/labels from overlapping\n",
    "plt.tight_layout()\n",
    "\n",
    "plt.show()"
   ]
  },
  {
   "cell_type": "markdown",
   "metadata": {},
   "source": [
    "This method works, but it can be cumbersome as you have to keep track of the active subplot. Let's move on to a better way."
   ]
  },
  {
   "cell_type": "markdown",
   "metadata": {},
   "source": [
    "---"
   ]
  },
  {
   "cell_type": "markdown",
   "metadata": {},
   "source": [
    "## Part 2: The `plt.subplots()` Approach (Object-Oriented)\n",
    "\n",
    "The recommended way to create subplots is with `fig, ax = plt.subplots()`. This single function call creates a figure and a grid of subplots (called axes).\n",
    "\n",
    "- `fig`: The entire figure object, which you can use to save the plot or add a main title.\n",
    "- `ax`: An array of axes objects. You can access each subplot directly through this array (e.g., `ax[0]`, `ax[1, 0]`) and call plotting methods on it (e.g., `ax[0].plot()`, `ax[0].set_title()`).\n",
    "\n",
    "This gives you much more explicit control over each plot."
   ]
  },
  {
   "cell_type": "markdown",
   "metadata": {},
   "source": [
    "**Exercise 2.1:** Create a 1x2 grid of plots (one row, two columns) using `plt.subplots()`.\n",
    "- On the left axis (`ax[0]`), plot a histogram of 1000 random numbers drawn from a normal distribution (`np.random.randn(1000)`).\n",
    "- On the right axis (`ax[1]`), create a scatter plot using two sets of 50 random numbers.\n",
    "- Give each plot a descriptive title using the `ax.set_title()` method."
   ]
  },
  {
   "cell_type": "code",
   "execution_count": null,
   "metadata": {},
   "outputs": [],
   "source": [
    "# Your code here"
   ]
  },
  {
   "cell_type": "markdown",
   "metadata": {},
   "source": [
    "**Solution 2.1:**"
   ]
  },
  {
   "cell_type": "code",
   "execution_count": null,
   "metadata": {},
   "outputs": [],
   "source": [
    "# Create a figure and a 1x2 grid of axes\n",
    "fig, ax = plt.subplots(nrows=1, ncols=2, figsize=(12, 5))\n",
    "\n",
    "# Plot on the first (left) axis\n",
    "random_data_norm = np.random.randn(1000)\n",
    "ax[0].hist(random_data_norm, bins=30, color='skyblue', edgecolor='black')\n",
    "ax[0].set_title('Histogram of Normal Data')\n",
    "ax[0].set_xlabel('Value')\n",
    "ax[0].set_ylabel('Frequency')\n",
    "ax[0].grid(True)\n",
    "\n",
    "# Plot on the second (right) axis\n",
    "random_x = np.random.rand(50)\n",
    "random_y = np.random.rand(50)\n",
    "ax[1].scatter(random_x, random_y, color='red', alpha=0.6)\n",
    "ax[1].set_title('Scatter Plot of Random Data')\n",
    "ax[1].set_xlabel('X Value')\n",
    "ax[1].set_ylabel('Y Value')\n",
    "ax[1].grid(True)\n",
    "\n",
    "plt.tight_layout()\n",
    "plt.show()"
   ]
  },
  {
   "cell_type": "markdown",
   "metadata": {},
   "source": [
    "---"
   ]
  },
  {
   "cell_type": "markdown",
   "metadata": {},
   "source": [
    "## Part 3: Sharing Axes and Customization\n",
    "\n",
    "A powerful feature of `plt.subplots()` is the ability to share axes. If plots share an x-axis or y-axis, you can link them using the `sharex` or `sharey` arguments. This is great for comparing data on the same scale.\n",
    "\n",
    "We can also add a single, overarching title for the entire figure using `fig.suptitle()`."
   ]
  },
  {
   "cell_type": "markdown",
   "metadata": {},
   "source": [
    "**Exercise 3.1:** Create a 2x1 subplot grid where both plots share the x-axis.\n",
    "- Use the arguments `nrows=2, ncols=1, sharex=True`.\n",
    "- In the top plot (`ax[0]`), plot `x` vs `y_sin`.\n",
    "- In the bottom plot (`ax[1]`), plot `x` vs `y_cos`.\n",
    "- Add a main title to the *entire figure* called \"Trigonometric Functions\".\n",
    "- Notice how the x-axis labels are automatically hidden on the top plot to reduce clutter!"
   ]
  },
  {
   "cell_type": "code",
   "execution_count": null,
   "metadata": {},
   "outputs": [],
   "source": [
    "# Your code here"
   ]
  },
  {
   "cell_type": "markdown",
   "metadata": {},
   "source": [
    "**Solution 3.1:**"
   ]
  },
  {
   "cell_type": "code",
   "execution_count": null,
   "metadata": {},
   "outputs": [],
   "source": [
    "# When creating the subplots, set sharex=True\n",
    "fig, ax = plt.subplots(nrows=2, ncols=1, figsize=(8, 7), sharex=True)\n",
    "\n",
    "# Add a main title for the whole figure\n",
    "fig.suptitle('Trigonometric Functions', fontsize=16)\n",
    "\n",
    "# Plot on the top axis\n",
    "ax[0].plot(x, y_sin, color='blue')\n",
    "ax[0].set_title('sin(x^2)')\n",
    "ax[0].set_ylabel('Amplitude')\n",
    "ax[0].grid(True)\n",
    "\n",
    "# Plot on the bottom axis\n",
    "ax[1].plot(x, y_cos, color='orange')\n",
    "ax[1].set_title('cos(x^2)')\n",
    "ax[1].set_xlabel('Angle [rad]')\n",
    "ax[1].set_ylabel('Amplitude')\n",
    "ax[1].grid(True)\n",
    "\n",
    "# Adjust layout to make room for the suptitle\n",
    "plt.tight_layout(rect=[0, 0, 1, 0.96])\n",
    "\n",
    "plt.show()"
   ]
  },
  {
   "cell_type": "markdown",
   "metadata": {},
   "source": [
    "---"
   ]
  },
  {
   "cell_type": "markdown",
   "metadata": {},
   "source": [
    "### Congratulations!\n",
    "\n",
    "You now know how to create sophisticated, multi-panel figures. This is a crucial skill for data exploration, allowing you to compare different variables, datasets, and plot types in a single, coherent visualization.\n",
    "\n",
    "Tomorrow, we'll switch gears back to Pandas and explore one of its most powerful features: time series analysis."
   ]
  }
 ],
 "metadata": {
  "kernelspec": {
   "display_name": "Python 3",
   "language": "python",
   "name": "python3"
  },
  "language_info": {
   "codemirror_mode": {
    "name": "ipython",
    "version": 3
   },
   "file_extension": ".py",
   "mimetype": "text/x-python",
   "name": "python",
   "nbconvert_exporter": "python",
   "pygments_lexer": "ipython3",
   "version": "3.9.7"
  }
 },
 "nbformat": 4,
 "nbformat_minor": 4
}
