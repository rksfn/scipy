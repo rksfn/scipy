{
 "cells": [
  {
   "cell_type": "markdown",
   "metadata": {},
   "source": [
    "# Day 14: Final Project - Analyzing Weather Data\n",
    "\n",
    "Congratulations, you've made it to the final day! This project is designed to bring together all the skills you've developed over the past two weeks. You will perform a complete analysis of a generated weather dataset, from loading and cleaning to visualization and statistical analysis.\n",
    "\n",
    "**Goal:** Analyze a year's worth of weather data for a fictional city to uncover trends, relationships, and seasonal patterns."
   ]
  },
  {
   "cell_type": "markdown",
   "metadata": {},
   "source": [
    "### Step 0: Import Libraries\n",
    "\n",
    "Let's start by importing all the libraries we'll need for this project."
   ]
  },
  {
   "cell_type": "code",
   "execution_count": null,
   "metadata": {},
   "outputs": [],
   "source": [
    "import numpy as np\n",
    "import pandas as pd\n",
    "import matplotlib.pyplot as plt\n",
    "from scipy import stats\n",
    "from scipy import optimize\n",
    "\n",
    "# Set default plot style\n",
    "plt.style.use(\"seaborn-v0_8-whitegrid\")"
   ]
  },
  {
   "cell_type": "markdown",
   "metadata": {},
   "source": [
    "---"
   ]
  },
  {
   "cell_type": "markdown",
   "metadata": {},
   "source": [
    "### Step 1: Generate and Load the Data\n",
    "\n",
    "To make this notebook self-contained, we will generate our own weather dataset for the year 2025. This code simulates daily temperature, precipitation, and wind speed with seasonal patterns and some random noise."
   ]
  },
  {
   "cell_type": "code",
   "execution_count": null,
   "metadata": {},
   "outputs": [],
   "source": [
    "np.random.seed(0)\n",
    "dates = pd.date_range(start=\"2025-01-01\", end=\"2025-12-31\", freq=\"D\")\n",
    "days_in_year = len(dates)\n",
    "\n",
    "# Temperature (Celsius): Seasonal sine wave + noise\n",
    "day_of_year = dates.dayofyear.to_numpy()  # convert to NumPy array\n",
    "temp_seasonal = 20 * np.sin(2 * np.pi * (day_of_year - 80) / 365) + 10\n",
    "temp_noise = np.random.normal(0, 3, days_in_year)\n",
    "temperature = temp_seasonal + temp_noise\n",
    "\n",
    "# Precipitation (mm): More likely in colder months\n",
    "precipitation_chance = 0.5 - (temperature - temperature.mean()) / 50\n",
    "precipitation = np.random.gamma(1, 5, days_in_year) * (\n",
    "    np.random.rand(days_in_year) < precipitation_chance\n",
    ")\n",
    "precipitation[precipitation < 0] = 0\n",
    "\n",
    "\n",
    "# Wind Speed (km/h)\n",
    "wind_speed = np.random.gamma(3, 5, days_in_year)\n",
    "\n",
    "# Create DataFrame\n",
    "weather_df = pd.DataFrame(\n",
    "    {\n",
    "        \"temperature\": temperature,\n",
    "        \"precipitation\": precipitation,\n",
    "        \"wind_speed\": wind_speed,\n",
    "    },\n",
    "    index=dates,\n",
    ")\n",
    "\n",
    "# Introduce some missing values to practice cleaning\n",
    "for _ in range(20):\n",
    "    weather_df.iloc[np.random.randint(0, days_in_year), np.random.randint(0, 3)] = (\n",
    "        np.nan\n",
    "    )\n",
    "\n",
    "print(\"Data generated successfully!\")"
   ]
  },
  {
   "cell_type": "markdown",
   "metadata": {},
   "source": [
    "### Step 2: Data Exploration and Cleaning\n",
    "\n",
    "First, let's get a feel for our dataset and handle any issues like missing values."
   ]
  },
  {
   "cell_type": "markdown",
   "metadata": {},
   "source": [
    "**Exercise 2.1:** Use `.info()` and `.describe()` to inspect the DataFrame. How many missing values are in each column?"
   ]
  },
  {
   "cell_type": "code",
   "execution_count": null,
   "metadata": {},
   "outputs": [],
   "source": [
    "# Your code here"
   ]
  },
  {
   "cell_type": "markdown",
   "metadata": {},
   "source": [
    "**Solution 2.1:**"
   ]
  },
  {
   "cell_type": "code",
   "execution_count": null,
   "metadata": {},
   "outputs": [],
   "source": [
    "# Solution\n",
    "print(\"DataFrame Info:\")\n",
    "weather_df.info()\n",
    "print(\"\\n--- Descriptive Statistics ---\")\n",
    "display(weather_df.describe())"
   ]
  },
  {
   "cell_type": "markdown",
   "metadata": {},
   "source": [
    "**Exercise 2.2:** Fill the missing values. A good strategy is to use interpolation, which will estimate the missing values based on the data before and after. Use the `.interpolate()` method on the DataFrame."
   ]
  },
  {
   "cell_type": "code",
   "execution_count": null,
   "metadata": {},
   "outputs": [],
   "source": [
    "# Your code here"
   ]
  },
  {
   "cell_type": "markdown",
   "metadata": {},
   "source": [
    "**Solution 2.2:**"
   ]
  },
  {
   "cell_type": "code",
   "execution_count": null,
   "metadata": {},
   "outputs": [],
   "source": [
    "# Solution\n",
    "weather_df_cleaned = weather_df.interpolate(method=\"time\")\n",
    "\n",
    "# Verify that there are no more missing values\n",
    "print(\"Missing values after interpolation:\")\n",
    "print(weather_df_cleaned.isnull().sum())"
   ]
  },
  {
   "cell_type": "markdown",
   "metadata": {},
   "source": [
    "---"
   ]
  },
  {
   "cell_type": "markdown",
   "metadata": {},
   "source": [
    "### Step 3: Exploratory Data Analysis (EDA) and Visualization\n",
    "\n",
    "Now for the fun part! Let's create a dashboard of plots to understand our weather data."
   ]
  },
  {
   "cell_type": "markdown",
   "metadata": {},
   "source": [
    "**Exercise 3.1:** Create a 2x2 subplot figure to visualize the following:\n",
    "1.  **Top-Left:** A line plot of the daily temperature over the entire year.\n",
    "2.  **Top-Right:** A histogram of the wind speed distribution.\n",
    "3.  **Bottom-Left:** A scatter plot of temperature vs. precipitation. Is there a visible relationship?\n",
    "4.  **Bottom-Right:** A plot of the total monthly precipitation (resample the daily data to monthly `'ME'` and sum it).\n",
    "\n",
    "Give each subplot a title and add a main title to the entire figure."
   ]
  },
  {
   "cell_type": "code",
   "execution_count": null,
   "metadata": {},
   "outputs": [],
   "source": [
    "# Your code here\n",
    "\n",
    "# Temperature Line Plot\n",
    "\n",
    "# Wind speed histogram\n",
    "\n",
    "# Temperature vs Percipitation\n",
    "\n",
    "# Total monthly percipitation"
   ]
  },
  {
   "cell_type": "markdown",
   "metadata": {},
   "source": [
    "**Solution 3.1:**"
   ]
  },
  {
   "cell_type": "code",
   "execution_count": null,
   "metadata": {},
   "outputs": [],
   "source": [
    "# Solution\n",
    "fig, ax = plt.subplots(2, 2, figsize=(15, 12))\n",
    "fig.suptitle(\"Annual Weather Analysis Dashboard\", fontsize=20)\n",
    "\n",
    "# 1. Temperature Line Plot\n",
    "ax[0, 0].plot(weather_df_cleaned.index, weather_df_cleaned[\"temperature\"])\n",
    "ax[0, 0].set_title(\"Daily Temperature Trend\")\n",
    "ax[0, 0].set_xlabel(\"Date\")\n",
    "ax[0, 0].set_ylabel(\"Temperature (°C)\")\n",
    "\n",
    "# 2. Wind Speed Histogram\n",
    "ax[0, 1].hist(\n",
    "    weather_df_cleaned[\"wind_speed\"], bins=20, color=\"skyblue\", edgecolor=\"black\"\n",
    ")\n",
    "ax[0, 1].set_title(\"Wind Speed Distribution\")\n",
    "ax[0, 1].set_xlabel(\"Wind Speed (km/h)\")\n",
    "ax[0, 1].set_ylabel(\"Frequency\")\n",
    "\n",
    "# 3. Temperature vs. Precipitation Scatter Plot\n",
    "ax[1, 0].scatter(\n",
    "    weather_df_cleaned[\"temperature\"], weather_df_cleaned[\"precipitation\"], alpha=0.5\n",
    ")\n",
    "ax[1, 0].set_title(\"Temperature vs. Precipitation\")\n",
    "ax[1, 0].set_xlabel(\"Temperature (°C)\")\n",
    "ax[1, 0].set_ylabel(\"Precipitation (mm)\")\n",
    "\n",
    "# 4. Monthly Precipitation Bar Plot\n",
    "monthly_precip = weather_df_cleaned[\"precipitation\"].resample(\"ME\").sum()\n",
    "ax[1, 1].bar(monthly_precip.index, monthly_precip.values, width=20, color=\"royalblue\")\n",
    "ax[1, 1].set_title(\"Total Monthly Precipitation\")\n",
    "ax[1, 1].set_xlabel(\"Month\")\n",
    "ax[1, 1].set_ylabel(\"Total Precipitation (mm)\")\n",
    "ax[1, 1].tick_params(axis=\"x\", rotation=45)\n",
    "\n",
    "plt.tight_layout(rect=[0, 0, 1, 0.96])\n",
    "plt.show()"
   ]
  },
  {
   "cell_type": "markdown",
   "metadata": {},
   "source": [
    "---"
   ]
  },
  {
   "cell_type": "markdown",
   "metadata": {},
   "source": [
    "### Step 4: Statistical Analysis with SciPy\n",
    "\n",
    "Let's test a hypothesis: Are days with precipitation significantly cooler than days without precipitation?"
   ]
  },
  {
   "cell_type": "markdown",
   "metadata": {},
   "source": [
    "**Exercise 4.1:**\n",
    "1.  Create two new Series: one with temperatures on rainy days (`precipitation > 0`) and one with temperatures on dry days (`precipitation == 0`).\n",
    "2.  Perform an independent t-test using `stats.ttest_ind()` on these two groups.\n",
    "3.  Print the p-value and interpret the result. (Is the p-value less than a significance level of 0.05?)"
   ]
  },
  {
   "cell_type": "code",
   "execution_count": null,
   "metadata": {},
   "outputs": [],
   "source": [
    "# Your code here"
   ]
  },
  {
   "cell_type": "markdown",
   "metadata": {},
   "source": [
    "**Solution 4.1:**"
   ]
  },
  {
   "cell_type": "code",
   "execution_count": null,
   "metadata": {},
   "outputs": [],
   "source": [
    "# 1. Separate the data\n",
    "rainy_day_temps = weather_df_cleaned[weather_df_cleaned[\"precipitation\"] > 0][\n",
    "    \"temperature\"\n",
    "]\n",
    "dry_day_temps = weather_df_cleaned[weather_df_cleaned[\"precipitation\"] == 0][\n",
    "    \"temperature\"\n",
    "]\n",
    "\n",
    "print(f\"Average temp on a rainy day: {rainy_day_temps.mean():.2f}°C\")\n",
    "print(f\"Average temp on a dry day:   {dry_day_temps.mean():.2f}°C\")\n",
    "\n",
    "# 2. Perform the t-test\n",
    "t_statistic, p_value = stats.ttest_ind(rainy_day_temps, dry_day_temps)\n",
    "\n",
    "print(f\"\\nT-statistic: {t_statistic:.4f}\")\n",
    "print(f\"P-value: {p_value:.4f}\")\n",
    "\n",
    "# 3. Interpret the result\n",
    "alpha = 0.05\n",
    "if p_value < alpha:\n",
    "    print(\n",
    "        \"\\nThe p-value is less than 0.05. We conclude that the difference in temperature is statistically significant.\"\n",
    "    )\n",
    "else:\n",
    "    print(\n",
    "        \"\\nThe p-value is not less than 0.05. We cannot conclude a statistically significant difference in temperature.\"\n",
    "    )"
   ]
  },
  {
   "cell_type": "markdown",
   "metadata": {},
   "source": [
    "---"
   ]
  },
  {
   "cell_type": "markdown",
   "metadata": {},
   "source": [
    "### Step 5: Modeling and Advanced Analysis\n",
    "\n",
    "The temperature data clearly follows a seasonal pattern. Let's try to fit a sine wave to this data to model the seasonal cycle."
   ]
  },
  {
   "cell_type": "markdown",
   "metadata": {},
   "source": [
    "**Exercise 5.1:**\n",
    "1.  Define a sinusoidal function `model_func(x, a, b, c, d)` that represents `a * np.sin(b * x + c) + d`.\n",
    "2.  Use `optimize.curve_fit()` to find the optimal parameters (`a, b, c, d`) to fit this function to our temperature data. For the `x` data, use `dates.dayofyear`.\n",
    "3.  Plot the original temperature data and the fitted model on the same graph to see how well the model fits."
   ]
  },
  {
   "cell_type": "code",
   "execution_count": null,
   "metadata": {},
   "outputs": [],
   "source": [
    "# Your code here"
   ]
  },
  {
   "cell_type": "markdown",
   "metadata": {},
   "source": [
    "**Solution 5.1:**"
   ]
  },
  {
   "cell_type": "code",
   "execution_count": null,
   "metadata": {},
   "outputs": [],
   "source": [
    "# 1. Define the model function\n",
    "def model_func(x, a, b, c, d):\n",
    "    \"\"\"Sinusoidal function for seasonal modeling.\"\"\"\n",
    "    return a * np.sin(b * x + c) + d\n",
    "\n",
    "\n",
    "# 2. Use curve_fit\n",
    "x_data = weather_df_cleaned.index.dayofyear\n",
    "y_data = weather_df_cleaned[\"temperature\"]\n",
    "\n",
    "# Provide some initial guesses for the parameters to help the optimizer\n",
    "initial_guesses = [20, 2 * np.pi / 365, 0, 10]\n",
    "params, covariance = optimize.curve_fit(model_func, x_data, y_data, p0=initial_guesses)\n",
    "\n",
    "print(\"Fitted parameters (a, b, c, d):\", params)\n",
    "\n",
    "# 3. Plot the results\n",
    "plt.figure(figsize=(14, 7))\n",
    "plt.scatter(weather_df_cleaned.index, y_data, label=\"Original Data\", alpha=0.5, s=10)\n",
    "plt.plot(\n",
    "    weather_df_cleaned.index,\n",
    "    model_func(x_data, *params),\n",
    "    color=\"red\",\n",
    "    linewidth=3,\n",
    "    label=\"Fitted Model\",\n",
    ")\n",
    "plt.title(\"Seasonal Temperature Model\")\n",
    "plt.xlabel(\"Date\")\n",
    "plt.ylabel(\"Temperature (°C)\")\n",
    "plt.legend()\n",
    "plt.show()"
   ]
  },
  {
   "cell_type": "markdown",
   "metadata": {},
   "source": [
    "### Final Summary\n",
    "\n",
    "**Exercise 6.1 (Challenge):** In a Markdown cell, write a brief summary (3-4 bullet points) of your key findings from this analysis."
   ]
  },
  {
   "cell_type": "markdown",
   "metadata": {},
   "source": []
  },
  {
   "cell_type": "markdown",
   "metadata": {},
   "source": [
    "## This is a solution cell. Hide it!\n",
    "### Solution 6.1:\n",
    "*   **Seasonal Trends:** The city experiences strong seasonal temperature variations, with a peak in the summer months (June-August) and a low in the winter. This pattern can be modeled effectively with a sinusoidal function.\n",
    "*   **Precipitation Patterns:** Precipitation is not uniform throughout the year. It is negatively correlated with temperature, with the highest amounts of precipitation occurring in the colder, winter months.\n",
    "*   **Rain and Temperature:** Days with measurable precipitation are, on average, significantly cooler than dry days, as confirmed by a t-test.\n",
    "*   **Wind:** Wind speeds are generally moderate, with most days falling in the 10-25 km/h range, and do not show an obvious strong seasonal pattern from the histogram."
   ]
  },
  {
   "cell_type": "markdown",
   "metadata": {},
   "source": [
    "---"
   ]
  },
  {
   "cell_type": "markdown",
   "metadata": {},
   "source": [
    "## Congratulations!\n",
    "\n",
    "You have successfully completed a data analysis project from start to finish. You have demonstrated your ability to use the core libraries of the Scientific Python stack to handle data, produce insightful visualizations, perform statistical tests, and even create a predictive model. \n",
    "\n",
    "From here, you can continue your journey by exploring more advanced topics, tackling more complex datasets from platforms like Kaggle, or diving deeper into specialized libraries like Scikit-learn for machine learning."
   ]
  }
 ],
 "metadata": {
  "kernelspec": {
   "display_name": "Python 3",
   "language": "python",
   "name": "python3"
  },
  "language_info": {
   "codemirror_mode": {
    "name": "ipython",
    "version": 3
   },
   "file_extension": ".py",
   "mimetype": "text/x-python",
   "name": "python",
   "nbconvert_exporter": "python",
   "pygments_lexer": "ipython3",
   "version": "3.12.11"
  }
 },
 "nbformat": 4,
 "nbformat_minor": 4
}
