{
 "cells": [
  {
   "cell_type": "markdown",
   "metadata": {},
   "source": [
    "# Day 10: Introduction to SciPy \n",
    "\n",
    "Welcome to Day 10! Today, you'll get an introduction to SciPy, a library that builds on NumPy and provides a large number of higher-level scientific algorithms. We'll explore some of its most useful sub-packages for statistics, optimization, and linear algebra."
   ]
  },
  {
   "cell_type": "markdown",
   "metadata": {},
   "source": [
    "As always, let's start by importing the necessary libraries. We're adding `matplotlib` today to help visualize our results."
   ]
  },
  {
   "cell_type": "code",
   "execution_count": 1,
   "metadata": {},
   "outputs": [],
   "source": [
    "import numpy as np\n",
    "import matplotlib.pyplot as plt\n",
    "from scipy import stats\n",
    "from scipy import optimize\n",
    "from scipy import linalg"
   ]
  },
  {
   "cell_type": "markdown",
   "metadata": {},
   "source": [
    "---"
   ]
  },
  {
   "cell_type": "markdown",
   "metadata": {},
   "source": [
    "## Part 1: Statistical Functions with `scipy.stats`\n",
    "\n",
    "The `scipy.stats` module contains a large number of probability distributions and a growing library of statistical functions.\n",
    "\n",
    "A common task in statistics is to compare two different groups. A t-test is used to determine if there is a significant difference between the means of two groups. Let's create some sample data representing test scores from two different classes."
   ]
  },
  {
   "cell_type": "code",
   "execution_count": 2,
   "metadata": {},
   "outputs": [
    {
     "name": "stdout",
     "output_type": "stream",
     "text": [
      "Class A Mean Score: 84.06\n",
      "Class B Mean Score: 87.39\n"
     ]
    }
   ],
   "source": [
    "# Set a seed for reproducibility\n",
    "np.random.seed(42)\n",
    "\n",
    "# Class A scores - normally distributed with mean 85 and std dev 5\n",
    "class_a_scores = np.random.normal(loc=85, scale=5, size=30)\n",
    "\n",
    "# Class B scores - normally distributed with mean 88 and std dev 5\n",
    "class_b_scores = np.random.normal(loc=88, scale=5, size=30)\n",
    "\n",
    "print(f\"Class A Mean Score: {np.mean(class_a_scores):.2f}\")\n",
    "print(f\"Class B Mean Score: {np.mean(class_b_scores):.2f}\")"
   ]
  },
  {
   "cell_type": "markdown",
   "metadata": {},
   "source": [
    "**Exercise 1.1:** Before running a statistical test, let's visualize the score distributions for both classes using histograms on the same plot. This will give us an intuitive idea of how much they overlap."
   ]
  },
  {
   "cell_type": "markdown",
   "metadata": {},
   "source": [
    "# Your code here\n",
    "plt.hist"
   ]
  },
  {
   "cell_type": "markdown",
   "metadata": {},
   "source": [
    "**Solution 1.1**"
   ]
  },
  {
   "cell_type": "code",
   "execution_count": null,
   "metadata": {
    "jupyter": {
     "source_hidden": true
    }
   },
   "outputs": [],
   "source": [
    "#Solution\n",
    "plt.figure(figsize=(10, 6))\n",
    "plt.hist(class_a_scores, bins=10, alpha=0.7, label='Class A')\n",
    "plt.hist(class_b_scores, bins=10, alpha=0.7, label='Class B')\n",
    "plt.title('Distribution of Scores for Class A and Class B')\n",
    "plt.xlabel('Score')\n",
    "plt.ylabel('Frequency')\n",
    "plt.legend()\n",
    "plt.grid(True)\n",
    "plt.show()"
   ]
  },
  {
   "cell_type": "markdown",
   "metadata": {},
   "source": [
    "**Exercise 1.2:** Now, perform an independent t-test to see if the difference in mean scores between Class A and Class B is statistically significant. Use `stats.ttest_ind()`."
   ]
  },
  {
   "cell_type": "code",
   "execution_count": 10,
   "metadata": {},
   "outputs": [
    {
     "name": "stdout",
     "output_type": "stream",
     "text": [
      "T-statistic: -2.821074768517703\n",
      "P-value: 0.006542565964576965\n",
      "\n",
      "Significance level (alpha): 0.05\n",
      "The p-value is less than our significance level.\n",
      "We reject the null hypothesis: the difference is mean scores is statistically significant.\n"
     ]
    }
   ],
   "source": [
    "# Your code here\n",
    "t_stat, p_value = stats.ttest_ind(class_a_scores, class_b_scores)\n",
    "print(f\"T-statistic: {t_stat}\")\n",
    "print(f\"P-value: {p_value}\")\n",
    "\n",
    "alpha = .05\n",
    "print(f\"\\nSignificance level (alpha): {alpha}\")\n",
    "\n",
    "if p_value < alpha:\n",
    "    print(\"The p-value is less than our significance level.\")\n",
    "    print(\"We reject the null hypothesis: the difference is mean scores is statistically significant.\")\n",
    "else:\n",
    "    print(\"The p-value is greater than our significance level.\")\n",
    "    print(\"We reject the null hypothesis: the difference is mean scores is not statistically significant.\")"
   ]
  },
  {
   "cell_type": "markdown",
   "metadata": {},
   "source": [
    "**Solution 1.2:**"
   ]
  },
  {
   "cell_type": "code",
   "execution_count": 9,
   "metadata": {
    "collapsed": true,
    "jupyter": {
     "outputs_hidden": true,
     "source_hidden": true
    }
   },
   "outputs": [
    {
     "name": "stdout",
     "output_type": "stream",
     "text": [
      "T-statistic: -2.8211\n",
      "P-value: 0.0065\n",
      "\n",
      "Significance level (alpha): 0.05\n",
      "The p-value is less than our significance level.\n",
      "We reject the null hypothesis: the difference in mean scores is statistically significant.\n"
     ]
    }
   ],
   "source": [
    "# Solution\n",
    "t_statistic, p_value = stats.ttest_ind(class_a_scores, class_b_scores)\n",
    "\n",
    "print(f\"T-statistic: {t_statistic:.4f}\")\n",
    "print(f\"P-value: {p_value:.4f}\")\n",
    "\n",
    "# Interpretation of the p-value\n",
    "alpha = 0.05  # Significance level: our threshold for significance\n",
    "print(f\"\\nSignificance level (alpha): {alpha}\")\n",
    "\n",
    "if p_value < alpha:\n",
    "    print(\"The p-value is less than our significance level.\")\n",
    "    print(\"We reject the null hypothesis: the difference in mean scores is statistically significant.\")\n",
    "else:\n",
    "    print(\"The p-value is greater than our significance level.\")\n",
    "    print(\"We fail to reject the null hypothesis: the difference in mean scores is not statistically significant.\")"
   ]
  },
  {
   "cell_type": "markdown",
   "metadata": {},
   "source": [
    "---"
   ]
  },
  {
   "cell_type": "markdown",
   "metadata": {},
   "source": [
    "## Part 2: Optimization with `scipy.optimize`\n",
    "\n",
    "Optimization is the problem of finding an input to a function that results in the minimum (or maximum) output. The `scipy.optimize` module provides several commonly used optimization algorithms.\n",
    "\n",
    "Let's define a simple quadratic function that we want to minimize: `f(x) = (x - 3)^2 + 5`. We can see by looking at it that the minimum value is 5, which occurs when x = 3."
   ]
  },
  {
   "cell_type": "code",
   "execution_count": 11,
   "metadata": {},
   "outputs": [],
   "source": [
    "def my_function(x):\n",
    "    return (x - 3)**2 + 5"
   ]
  },
  {
   "cell_type": "markdown",
   "metadata": {},
   "source": [
    "**Exercise 2.1:** Visualize the function to see what it looks like. Plot `my_function(x)` for x values from -5 to 10."
   ]
  },
  {
   "cell_type": "code",
   "execution_count": null,
   "metadata": {},
   "outputs": [],
   "source": [
    "# Your code here\n",
    "x = np.linspace(-5, 11, 100)\n",
    "y = my_function(x)\n",
    "\n",
    "plt.figure(figsize=(10, 6))\n",
    "plt.plot(x, y, label=\"f(x) = (x - 3)^2 + 5\")\n",
    "plt.xlabel(\"x\")\n",
    "plt.ylabel(\"f(x)\")\n",
    "plt.legend()\n",
    "plt.grid(True)\n",
    "plt.show()"
   ]
  },
  {
   "cell_type": "markdown",
   "metadata": {},
   "source": [
    "**Solution 2.1:**"
   ]
  },
  {
   "cell_type": "code",
   "execution_count": 17,
   "metadata": {
    "scrolled": true
   },
   "outputs": [
    {
     "data": {
      "image/png": "[encoded data removed]",
      "text/plain": [
       "<Figure size 1000x600 with 1 Axes>"
      ]
     },
     "metadata": {},
     "output_type": "display_data"
    }
   ],
   "source": [
    "# Solution\n",
    "x_vals = np.linspace(-5, 11, 100)\n",
    "y_vals = my_function(x_vals)\n",
    "\n",
    "plt.figure(figsize=(10, 6))\n",
    "plt.plot(x_vals, y_vals, label='f(x) = (x - 3)^2 + 5')\n",
    "plt.title('A Simple Function to Minimize')\n",
    "plt.xlabel('x')\n",
    "plt.ylabel('f(x)')\n",
    "plt.legend()\n",
    "plt.grid(True)\n",
    "plt.show()"
   ]
  },
  {
   "cell_type": "markdown",
   "metadata": {},
   "source": [
    "**Exercise 2.2:** Now, use `optimize.minimize()` to find the value of `x` that minimizes `my_function`. Start the search from an initial guess of `x=0`. Then, plot the found minimum on the graph from the previous exercise."
   ]
  },
  {
   "cell_type": "code",
   "execution_count": null,
   "metadata": {},
   "outputs": [],
   "source": [
    "# Your code here\n",
    "min_value = optimize.minimize(my_function, 0)\n",
    "min_x = min_value.x[0]\n",
    "min_y = min_value.fun\n",
    "\n",
    "print(f\"Optimization Result: \\n{min_value}\\n\")\n",
    "print(f\"The minimum occurs at x = {min_x:.4f}\")\n",
    "print(f\"The minimum value of the function is f(x) = {min_y:.4f}\")\n",
    "\n",
    "# The plot\n",
    "plt.figure(figsize=(10, 6))\n",
    "plt.plot(x_vals, y_vals, label=\"f(x) = (x - 3)^2 + 5\")\n",
    "plt.plot(min_x, min_y, \"ro\", markersize=10, label=f\"Minimum found at ({min_x:.2f}, {min_y:.2f})\") # 'ro' is a red circle\n",
    "plt.title(\"Function with Found Minimum\")\n",
    "plt.xlabel(\"x\")\n",
    "plt.ylabel(\"f(x)\")\n",
    "plt.legend()\n",
    "plt.grid(True)\n",
    "plt.show()"
   ]
  },
  {
   "cell_type": "markdown",
   "metadata": {},
   "source": [
    "**Solution 2.2:**"
   ]
  },
  {
   "cell_type": "code",
   "execution_count": 23,
   "metadata": {
    "collapsed": true,
    "jupyter": {
     "outputs_hidden": true,
     "source_hidden": true
    }
   },
   "outputs": [
    {
     "name": "stdout",
     "output_type": "stream",
     "text": [
      "Optimization Result:\n",
      "  message: Optimization terminated successfully.\n",
      "  success: True\n",
      "   status: 0\n",
      "      fun: 5.000000000000001\n",
      "        x: [ 3.000e+00]\n",
      "      nit: 2\n",
      "      jac: [ 5.960e-08]\n",
      " hess_inv: [[ 5.000e-01]]\n",
      "     nfev: 6\n",
      "     njev: 3\n",
      "\n",
      "The minimum occurs at x = 3.0000\n",
      "The minimum value of the function is f(x) = 5.0000\n"
     ]
    },
    {
     "data": {
      "image/png": "[encoded data removed]",
      "text/plain": [
       "<Figure size 1000x600 with 1 Axes>"
      ]
     },
     "metadata": {},
     "output_type": "display_data"
    }
   ],
   "source": [
    "# Solution\n",
    "initial_guess = 0\n",
    "result = optimize.minimize(my_function, initial_guess)\n",
    "\n",
    "# The result is an object with several useful attributes\n",
    "min_x = result.x[0]  # The input value (x) that gives the minimum\n",
    "min_y = result.fun   # The minimum value of the function\n",
    "\n",
    "print(f\"Optimization Result:\\n{result}\\n\")\n",
    "print(f\"The minimum occurs at x = {min_x:.4f}\")\n",
    "print(f\"The minimum value of the function is f(x) = {min_y:.4f}\")\n",
    "\n",
    "# Now, let's plot it!\n",
    "plt.figure(figsize=(10, 6))\n",
    "plt.plot(x_vals, y_vals, label='f(x) = (x - 3)^2 + 5')\n",
    "plt.plot(min_x, min_y, 'ro', markersize=10, label=f'Minimum found at ({min_x:.2f}, {min_y:.2f})') # 'ro' is red circle\n",
    "plt.title('Function with Found Minimum')\n",
    "plt.xlabel('x')\n",
    "plt.ylabel('f(x)')\n",
    "plt.legend()\n",
    "plt.grid(True)\n",
    "plt.show()"
   ]
  },
  {
   "cell_type": "markdown",
   "metadata": {},
   "source": [
    "---"
   ]
  },
  {
   "cell_type": "markdown",
   "metadata": {},
   "source": [
    "## Part 3: Linear Algebra with `scipy.linalg`\n",
    "\n",
    "SciPy also includes a powerful linear algebra module, `scipy.linalg`, which is an improvement over the one in NumPy. A very common problem is solving a system of linear equations.\n",
    "\n",
    "Consider this simple real-world problem:\n",
    "* 2 apples and 3 bananas cost &dollar;8.\n",
    "* 4 apples and 1 banana cost &dollar;9.\n",
    "\n",
    "We can write this as a system of equations:\n",
    "1. `2x + 3y = 8`\n",
    "2. `4x + 1y = 9`\n",
    "\n",
    "Where `x` is the price of an apple and `y` is the price of a banana. This can be expressed in matrix form as `Ax = B`."
   ]
  },
  {
   "cell_type": "code",
   "execution_count": 28,
   "metadata": {},
   "outputs": [
    {
     "name": "stdout",
     "output_type": "stream",
     "text": [
      "Matrix A:\n",
      " [[2 3]\n",
      " [4 1]]\n",
      "\n",
      "Vector B:\n",
      " [8 9]\n"
     ]
    }
   ],
   "source": [
    "# Matrix A: coefficients of our variables\n",
    "A = np.array([[2, 3], \n",
    "              [4, 1]])\n",
    "\n",
    "# Vector B: the constants on the right side\n",
    "B = np.array([8, 9])\n",
    "\n",
    "print(\"Matrix A:\\n\", A)\n",
    "print(\"\\nVector B:\\n\", B)"
   ]
  },
  {
   "cell_type": "markdown",
   "metadata": {},
   "source": [
    "**Exercise 3.1:** Use `linalg.solve()` to solve this system of equations for `x` (our vector of prices)."
   ]
  },
  {
   "cell_type": "code",
   "execution_count": 32,
   "metadata": {},
   "outputs": [
    {
     "name": "stdout",
     "output_type": "stream",
     "text": [
      "The solution vector is: [1.9 1.4]\n",
      "The price of one apple is $1.90\n",
      "The price of one banana is $1.40\n",
      "\n",
      "Verification Check 1: 2*$1.90 + 3*$1.40 = $8.00\n",
      "Verification Check 2: 4*$1.90 + 1*$1.40 = $9.00 \n"
     ]
    }
   ],
   "source": [
    "# Your code here\n",
    "x = linalg.solve(A, B)\n",
    "apple_price = prices[0]\n",
    "banana_price = prices[1]\n",
    "\n",
    "print(f\"The solution vector is: {x}\")\n",
    "print(f\"The price of one apple is ${apple_price:.2f}\")\n",
    "print(f\"The price of one banana is ${banana_price:.2f}\")\n",
    "\n",
    "print(f\"\\nVerification Check 1: 2*${apple_price:.2f} + 3*${banana_price:.2f} = ${2*apple_price + 3*banana_price:.2f}\")\n",
    "print(f\"Verification Check 2: 4*${apple_price:.2f} + 1*${banana_price:.2f} = ${4*apple_price + 1*banana_price:.2f} \")"
   ]
  },
  {
   "cell_type": "markdown",
   "metadata": {},
   "source": [
    "**Solution 3.1:**"
   ]
  },
  {
   "cell_type": "code",
   "execution_count": 30,
   "metadata": {},
   "outputs": [
    {
     "name": "stdout",
     "output_type": "stream",
     "text": [
      "The solution vector is: [1.9 1.4]\n",
      "The price of one apple is $1.90\n",
      "The price of one banana is $1.40\n",
      "\n",
      "Verification Check 1: 2*$1.90 + 3*$1.40 = $8.00\n",
      "Verification Check 2: 4*$1.90 + 1*$1.40 = $9.00\n"
     ]
    }
   ],
   "source": [
    "# Solution\n",
    "prices = linalg.solve(A, B)\n",
    "\n",
    "apple_price = prices[0]\n",
    "banana_price = prices[1]\n",
    "\n",
    "print(f\"The solution vector is: {prices}\")\n",
    "print(f\"The price of one apple is ${apple_price:.2f}\")\n",
    "print(f\"The price of one banana is ${banana_price:.2f}\")\n",
    "\n",
    "# You can verify the result:\n",
    "print(f\"\\nVerification Check 1: 2*${apple_price:.2f} + 3*${banana_price:.2f} = ${2*apple_price + 3*banana_price:.2f}\")\n",
    "print(f\"Verification Check 2: 4*${apple_price:.2f} + 1*${banana_price:.2f} = ${4*apple_price + 1*banana_price:.2f}\")"
   ]
  },
  {
   "cell_type": "markdown",
   "metadata": {},
   "source": [
    "---"
   ]
  },
  {
   "cell_type": "markdown",
   "metadata": {},
   "source": [
    "### Excellent work!\n",
    "\n",
    "You've just scratched the surface of what SciPy can do. You've seen how to compare groups with `scipy.stats`, find a minimum with `scipy.optimize`, and solve equations with `scipy.linalg`. These are powerful tools for any data scientist or engineer. Tomorrow, we'll dive into interpolation and integration."
   ]
  }
 ],
 "metadata": {
  "kernelspec": {
   "display_name": "Python (global)",
   "language": "python",
   "name": "global_env"
  },
  "language_info": {
   "codemirror_mode": {
    "name": "ipython",
    "version": 3
   },
   "file_extension": ".py",
   "mimetype": "text/x-python",
   "name": "python",
   "nbconvert_exporter": "python",
   "pygments_lexer": "ipython3",
   "version": "3.12.3"
  }
 },
 "nbformat": 4,
 "nbformat_minor": 4
}
