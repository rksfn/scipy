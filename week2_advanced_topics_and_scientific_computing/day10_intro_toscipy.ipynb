{
 "cells": [
  {
   "cell_type": "markdown",
   "id": "3f6f7e49",
   "metadata": {},
   "source": [
    "# Day 10: Introduction to SciPy\n",
    "\n",
    "Welcome to Day 10! Today, you'll get an introduction to SciPy, a library that builds on NumPy and provides a large number of higher-level scientific algorithms. We'll explore some of its most useful sub-packages."
   ]
  },
  {
   "cell_type": "markdown",
   "id": "2571c8f9",
   "metadata": {},
   "source": [
    "As always, let's start by importing the necessary libraries."
   ]
  },
  {
   "cell_type": "code",
   "execution_count": 1,
   "id": "317ac026",
   "metadata": {},
   "outputs": [],
   "source": [
    "import numpy as np\n",
    "from scipy import stats\n",
    "from scipy import optimize"
   ]
  },
  {
   "cell_type": "markdown",
   "id": "b5c3ee0d",
   "metadata": {},
   "source": [
    "---"
   ]
  },
  {
   "cell_type": "markdown",
   "id": "ed0d8ac1",
   "metadata": {},
   "source": [
    "## Part 1: Statistical Functions with `scipy.stats`\n",
    "\n",
    "The `scipy.stats` module contains a large number of probability distributions and a growing library of statistical functions.\n",
    "\n",
    "A common task in statistics is to compare the means of two different groups. A t-test is used to determine if there is a significant difference between the means of two groups. Let's create some sample data representing test scores from two different classes."
   ]
  },
  {
   "cell_type": "code",
   "execution_count": null,
   "id": "965911b1",
   "metadata": {},
   "outputs": [],
   "source": [
    "# Class A scores - normally distributed with mean 85 and std dev 5\n",
    "class_a_scores = np.random.normal(loc=85, scale=5, size=30)\n",
    "\n",
    "# Class B scores - normally distributed with mean 88 and std dev 5\n",
    "class_b_scores = np.random.normal(loc=88, scale=5, size=30)\n",
    "\n",
    "print(f\"Class A Mean Score: {np.mean(class_a_scores):.2f}\")\n",
    "print(f\"Class B Mean Score: {np.mean(class_b_scores):.2f}\")"
   ]
  },
  {
   "cell_type": "markdown",
   "id": "db00d10b",
   "metadata": {},
   "source": [
    "**Exercise 1.1:** Perform an independent t-test to see if the difference in mean scores between Class A and Class B is statistically significant. Use `stats.ttest_ind()`."
   ]
  },
  {
   "cell_type": "code",
   "execution_count": null,
   "id": "5826e935",
   "metadata": {},
   "outputs": [],
   "source": [
    "# Your code here"
   ]
  },
  {
   "cell_type": "markdown",
   "id": "d96a6722",
   "metadata": {},
   "source": [
    "**Solution 1.1:**"
   ]
  },
  {
   "cell_type": "code",
   "execution_count": null,
   "id": "3a0e8b66",
   "metadata": {},
   "outputs": [],
   "source": [
    "# Solution\n",
    "t_statistic, p_value = stats.ttest_ind(class_a_scores, class_b_scores)\n",
    "\n",
    "print(f\"T-statistic: {t_statistic:.4f}\")\n",
    "print(f\"P-value: {p_value:.4f}\")\n",
    "\n",
    "# Interpretation of the p-value\n",
    "alpha = 0.05  # Significance level\n",
    "if p_value < alpha:\n",
    "    print(\"The difference in mean scores is statistically significant.\")\n",
    "else:\n",
    "    print(\"The difference in mean scores is not statistically significant.\")"
   ]
  },
  {
   "cell_type": "markdown",
   "id": "a0f57673",
   "metadata": {},
   "source": [
    "---"
   ]
  },
  {
   "cell_type": "markdown",
   "id": "02514379",
   "metadata": {},
   "source": [
    "## Part 2: Optimization with `scipy.optimize`\n",
    "\n",
    "Optimization is the problem of finding the input to a function that results in the minimum (or maximum) output. The `scipy.optimize` module provides several commonly used optimization algorithms.\n",
    "\n",
    "Let's define a simple quadratic function that we want to minimize. For example: `f(x) = (x - 3)^2 + 5`. We can see by looking at it that the minimum value is 5, which occurs when x = 3."
   ]
  },
  {
   "cell_type": "code",
   "execution_count": null,
   "id": "703605a8",
   "metadata": {},
   "outputs": [],
   "source": [
    "def my_function(x):\n",
    "    return (x - 3)**2 + 5"
   ]
  },
  {
   "cell_type": "markdown",
   "id": "f30560f9",
   "metadata": {},
   "source": [
    "**Exercise 2.1:** Use `optimize.minimize()` to find the value of `x` that minimizes `my_function`. Start the search from an initial guess of `x=0`."
   ]
  },
  {
   "cell_type": "code",
   "execution_count": null,
   "id": "8935d00d",
   "metadata": {},
   "outputs": [],
   "source": [
    "# Your code here"
   ]
  },
  {
   "cell_type": "markdown",
   "id": "97f509bb",
   "metadata": {},
   "source": [
    "**Solution 2.1:**"
   ]
  },
  {
   "cell_type": "code",
   "execution_count": null,
   "id": "0b0c49e1",
   "metadata": {},
   "outputs": [],
   "source": [
    "# Solution\n",
    "initial_guess = 0\n",
    "result = optimize.minimize(my_function, initial_guess)\n",
    "\n",
    "print(result)"
   ]
  },
  {
   "cell_type": "markdown",
   "id": "a50216ac",
   "metadata": {},
   "source": [
    "From the output, you can see the result in `result.x`. It should be very close to 3. The `result.fun` attribute gives the minimum value of the function found."
   ]
  },
  {
   "cell_type": "markdown",
   "id": "77fd9187",
   "metadata": {},
   "source": [
    "---"
   ]
  },
  {
   "cell_type": "markdown",
   "id": "67e01868",
   "metadata": {},
   "source": [
    "## Part 3: Descriptive Statistics\n",
    "\n",
    "The `scipy.stats` module can also provide a quick and comprehensive summary of descriptive statistics for a dataset."
   ]
  },
  {
   "cell_type": "markdown",
   "id": "1eb4b54a",
   "metadata": {},
   "source": [
    "**Exercise 3.1:** Using the `class_a_scores` from Part 1, use the `stats.describe()` function to get a full statistical summary."
   ]
  },
  {
   "cell_type": "code",
   "execution_count": null,
   "id": "41129077",
   "metadata": {},
   "outputs": [],
   "source": [
    "# Your code here"
   ]
  },
  {
   "cell_type": "markdown",
   "id": "f4c333eb",
   "metadata": {},
   "source": [
    "**Solution 3.1:**"
   ]
  },
  {
   "cell_type": "code",
   "execution_count": null,
   "id": "fd5c471c",
   "metadata": {},
   "outputs": [],
   "source": [
    "# Solution\n",
    "summary_stats = stats.describe(class_a_scores)\n",
    "print(summary_stats)"
   ]
  },
  {
   "cell_type": "markdown",
   "id": "c8226415",
   "metadata": {},
   "source": [
    "This single function gives you the number of observations (`nobs`), the min and max values, the mean, variance, skewness, and kurtosis."
   ]
  },
  {
   "cell_type": "markdown",
   "id": "b6bb7059",
   "metadata": {},
   "source": [
    "---"
   ]
  },
  {
   "cell_type": "markdown",
   "id": "68987ce1",
   "metadata": {},
   "source": [
    "### Excellent work!\n",
    "\n",
    "You've just scratched the surface of what SciPy can do. It's a vast library with powerful tools for interpolation, integration, signal processing, and much more. Tomorrow, we'll dive into interpolation and integration."
   ]
  }
 ],
 "metadata": {
  "kernelspec": {
   "display_name": "Python 3",
   "language": "python",
   "name": "python3"
  },
  "language_info": {
   "codemirror_mode": {
    "name": "ipython",
    "version": 3
   },
   "file_extension": ".py",
   "mimetype": "text/x-python",
   "name": "python",
   "nbconvert_exporter": "python",
   "pygments_lexer": "ipython3",
   "version": "3.12.11"
  }
 },
 "nbformat": 4,
 "nbformat_minor": 5
}
